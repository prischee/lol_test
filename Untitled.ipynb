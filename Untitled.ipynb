{
 "cells": [
  {
   "cell_type": "code",
   "execution_count": 24,
   "id": "88214e50",
   "metadata": {},
   "outputs": [
    {
     "name": "stdout",
     "output_type": "stream",
     "text": [
      "자신의 나이를 적어주세요.1234\n"
     ]
    }
   ],
   "source": [
    "age = input(\"자신의 나이를 적어주세요.\") # python에서는 input으로 입력을 받음."
   ]
  },
  {
   "cell_type": "code",
   "execution_count": 25,
   "id": "c9109459",
   "metadata": {},
   "outputs": [
    {
     "data": {
      "text/plain": [
       "'1234'"
      ]
     },
     "execution_count": 25,
     "metadata": {},
     "output_type": "execute_result"
    }
   ],
   "source": [
    "age"
   ]
  },
  {
   "cell_type": "code",
   "execution_count": 26,
   "id": "6b476b41",
   "metadata": {},
   "outputs": [
    {
     "data": {
      "text/plain": [
       "str"
      ]
     },
     "execution_count": 26,
     "metadata": {},
     "output_type": "execute_result"
    }
   ],
   "source": [
    "type(age)"
   ]
  },
  {
   "cell_type": "code",
   "execution_count": 27,
   "id": "6bf829fd",
   "metadata": {},
   "outputs": [
    {
     "data": {
      "text/plain": [
       "1234"
      ]
     },
     "execution_count": 27,
     "metadata": {},
     "output_type": "execute_result"
    }
   ],
   "source": [
    "eval(age)"
   ]
  },
  {
   "cell_type": "code",
   "execution_count": 28,
   "id": "6015bb06",
   "metadata": {},
   "outputs": [
    {
     "data": {
      "text/plain": [
       "str"
      ]
     },
     "execution_count": 28,
     "metadata": {},
     "output_type": "execute_result"
    }
   ],
   "source": [
    "type(age)"
   ]
  },
  {
   "cell_type": "code",
   "execution_count": 29,
   "id": "00b966d0",
   "metadata": {},
   "outputs": [
    {
     "name": "stdout",
     "output_type": "stream",
     "text": [
      "This year : 2023\n"
     ]
    }
   ],
   "source": [
    "year = input(\"This year : \")"
   ]
  },
  {
   "cell_type": "code",
   "execution_count": 31,
   "id": "55531e63",
   "metadata": {},
   "outputs": [
    {
     "name": "stdout",
     "output_type": "stream",
     "text": [
      "1\n",
      "3\n",
      "34\n",
      "38\n",
      "43\n",
      "49\n",
      "56\n",
      "64\n",
      "73\n",
      "83\n"
     ]
    }
   ],
   "source": [
    "sum = 0\n",
    "for i in [1, 2, 31,4,5,6,7,8,9,10]:\n",
    "    sum = sum + i\n",
    "    print(sum)"
   ]
  },
  {
   "cell_type": "code",
   "execution_count": 33,
   "id": "05c9df3d",
   "metadata": {},
   "outputs": [
    {
     "data": {
      "text/plain": [
       "2"
      ]
     },
     "execution_count": 33,
     "metadata": {},
     "output_type": "execute_result"
    }
   ],
   "source": [
    "num_list = [1, 2, 3, 4, 5, 6, 7, 8, 9, 10]\n",
    "num_list[1]"
   ]
  },
  {
   "cell_type": "code",
   "execution_count": 34,
   "id": "5a423e1d",
   "metadata": {},
   "outputs": [
    {
     "data": {
      "text/plain": [
       "10"
      ]
     },
     "execution_count": 34,
     "metadata": {},
     "output_type": "execute_result"
    }
   ],
   "source": [
    "num_list[-1] # -이면 맨 뒤의 값을 보여줌"
   ]
  },
  {
   "cell_type": "code",
   "execution_count": 35,
   "id": "9ff465f8",
   "metadata": {},
   "outputs": [],
   "source": [
    "list = [1, 2, 3, 4, 5, 6, 7, 8, '9', 10, [11, 12, 13, 14]]"
   ]
  },
  {
   "cell_type": "code",
   "execution_count": 37,
   "id": "da7ea2e1",
   "metadata": {},
   "outputs": [
    {
     "data": {
      "text/plain": [
       "14"
      ]
     },
     "execution_count": 37,
     "metadata": {},
     "output_type": "execute_result"
    }
   ],
   "source": [
    "list[-1][-1]"
   ]
  },
  {
   "cell_type": "code",
   "execution_count": 38,
   "id": "a3079a95",
   "metadata": {},
   "outputs": [
    {
     "data": {
      "text/plain": [
       "10"
      ]
     },
     "execution_count": 38,
     "metadata": {},
     "output_type": "execute_result"
    }
   ],
   "source": [
    "len(num_list)"
   ]
  },
  {
   "cell_type": "code",
   "execution_count": 39,
   "id": "6369f81a",
   "metadata": {},
   "outputs": [],
   "source": [
    "list[0] = 'change'"
   ]
  },
  {
   "cell_type": "code",
   "execution_count": 40,
   "id": "8a617d4f",
   "metadata": {},
   "outputs": [
    {
     "data": {
      "text/plain": [
       "['change', 2, 3, 4, 5, 6, 7, 8, '9', 10, [11, 12, 13, 14]]"
      ]
     },
     "execution_count": 40,
     "metadata": {},
     "output_type": "execute_result"
    }
   ],
   "source": [
    "list"
   ]
  },
  {
   "cell_type": "code",
   "execution_count": 44,
   "id": "fb64b6c8",
   "metadata": {},
   "outputs": [
    {
     "data": {
      "text/plain": [
       "[11, 12, 13, 14]"
      ]
     },
     "execution_count": 44,
     "metadata": {},
     "output_type": "execute_result"
    }
   ],
   "source": [
    "list[-1]"
   ]
  },
  {
   "cell_type": "code",
   "execution_count": 45,
   "id": "ebf92b2e",
   "metadata": {},
   "outputs": [],
   "source": [
    "list.append(\"plus\")"
   ]
  },
  {
   "cell_type": "code",
   "execution_count": 46,
   "id": "1ff96704",
   "metadata": {},
   "outputs": [
    {
     "data": {
      "text/plain": [
       "['change', 2, 3, 4, 5, 6, 7, 8, '9', 10, [11, 12, 13, 14], 'plus']"
      ]
     },
     "execution_count": 46,
     "metadata": {},
     "output_type": "execute_result"
    }
   ],
   "source": [
    "list"
   ]
  },
  {
   "cell_type": "code",
   "execution_count": 47,
   "id": "931a838d",
   "metadata": {},
   "outputs": [],
   "source": [
    "list = [1,3,5,7,5,8,9,6,55,4,8,2]"
   ]
  },
  {
   "cell_type": "code",
   "execution_count": 49,
   "id": "636c5468",
   "metadata": {},
   "outputs": [],
   "source": [
    "list.sort();"
   ]
  },
  {
   "cell_type": "code",
   "execution_count": 50,
   "id": "fd18b076",
   "metadata": {},
   "outputs": [
    {
     "data": {
      "text/plain": [
       "[1, 2, 3, 4, 5, 5, 6, 7, 8, 8, 9, 55]"
      ]
     },
     "execution_count": 50,
     "metadata": {},
     "output_type": "execute_result"
    }
   ],
   "source": [
    "list"
   ]
  },
  {
   "cell_type": "code",
   "execution_count": 52,
   "id": "86742964",
   "metadata": {},
   "outputs": [],
   "source": [
    "eng_list = ['ㄴ', 'ㄷ', 'ㄱ']"
   ]
  },
  {
   "cell_type": "code",
   "execution_count": 55,
   "id": "940f72ae",
   "metadata": {},
   "outputs": [
    {
     "data": {
      "text/plain": [
       "['ㄴ', 'ㄷ', 'ㄱ']"
      ]
     },
     "execution_count": 55,
     "metadata": {},
     "output_type": "execute_result"
    }
   ],
   "source": [
    "eng_list"
   ]
  },
  {
   "cell_type": "code",
   "execution_count": 57,
   "id": "d6d88940",
   "metadata": {},
   "outputs": [],
   "source": [
    "gggg = eng_list.pop(1)"
   ]
  },
  {
   "cell_type": "code",
   "execution_count": 58,
   "id": "7db382ee",
   "metadata": {},
   "outputs": [
    {
     "data": {
      "text/plain": [
       "['ㄴ']"
      ]
     },
     "execution_count": 58,
     "metadata": {},
     "output_type": "execute_result"
    }
   ],
   "source": [
    "eng_list"
   ]
  },
  {
   "cell_type": "code",
   "execution_count": 59,
   "id": "ac45bdd8",
   "metadata": {},
   "outputs": [
    {
     "data": {
      "text/plain": [
       "'ㄱ'"
      ]
     },
     "execution_count": 59,
     "metadata": {},
     "output_type": "execute_result"
    }
   ],
   "source": [
    "gggg"
   ]
  },
  {
   "cell_type": "code",
   "execution_count": 63,
   "id": "39b25a14",
   "metadata": {},
   "outputs": [
    {
     "data": {
      "text/plain": [
       "1"
      ]
     },
     "execution_count": 63,
     "metadata": {},
     "output_type": "execute_result"
    }
   ],
   "source": [
    "eng_list.count('ㄴ')"
   ]
  },
  {
   "cell_type": "code",
   "execution_count": 66,
   "id": "5fdfa9fe",
   "metadata": {},
   "outputs": [],
   "source": [
    "three_list = []\n",
    "for i in [1, 2, 3, 4, 5, 6, 7, 8, 9, 10]:\n",
    "    three_list.append(i)"
   ]
  },
  {
   "cell_type": "code",
   "execution_count": 67,
   "id": "2bf5d83a",
   "metadata": {},
   "outputs": [
    {
     "data": {
      "text/plain": [
       "[1, 2, 3, 4, 5, 6, 7, 8, 9, 10]"
      ]
     },
     "execution_count": 67,
     "metadata": {},
     "output_type": "execute_result"
    }
   ],
   "source": [
    "three_list"
   ]
  },
  {
   "cell_type": "code",
   "execution_count": 76,
   "id": "1460ef9c",
   "metadata": {},
   "outputs": [],
   "source": [
    "three_list = []\n",
    "for i in range(1, 10) : \n",
    "    three_list.append(3 * i)"
   ]
  },
  {
   "cell_type": "code",
   "execution_count": 77,
   "id": "02de91be",
   "metadata": {},
   "outputs": [
    {
     "data": {
      "text/plain": [
       "[3, 6, 9, 12, 15, 18, 21, 24, 27]"
      ]
     },
     "execution_count": 77,
     "metadata": {},
     "output_type": "execute_result"
    }
   ],
   "source": [
    "three_list"
   ]
  },
  {
   "cell_type": "code",
   "execution_count": 83,
   "id": "b85b6cd5",
   "metadata": {},
   "outputs": [],
   "source": [
    "table_list = []\n",
    "for i in range(1, 10) :  # 단수\n",
    "        num_list = []\n",
    "        for j in range(1, 10) : # 곱하는 수\n",
    "            num_list.append(i * j)\n",
    "        table_list.append(num_list)"
   ]
  },
  {
   "cell_type": "code",
   "execution_count": 84,
   "id": "7b8c325f",
   "metadata": {},
   "outputs": [
    {
     "data": {
      "text/plain": [
       "[[1, 2, 3, 4, 5, 6, 7, 8, 9],\n",
       " [2, 4, 6, 8, 10, 12, 14, 16, 18],\n",
       " [3, 6, 9, 12, 15, 18, 21, 24, 27],\n",
       " [4, 8, 12, 16, 20, 24, 28, 32, 36],\n",
       " [5, 10, 15, 20, 25, 30, 35, 40, 45],\n",
       " [6, 12, 18, 24, 30, 36, 42, 48, 54],\n",
       " [7, 14, 21, 28, 35, 42, 49, 56, 63],\n",
       " [8, 16, 24, 32, 40, 48, 56, 64, 72],\n",
       " [9, 18, 27, 36, 45, 54, 63, 72, 81]]"
      ]
     },
     "execution_count": 84,
     "metadata": {},
     "output_type": "execute_result"
    }
   ],
   "source": [
    "table_list"
   ]
  },
  {
   "cell_type": "code",
   "execution_count": 85,
   "id": "8461757f",
   "metadata": {},
   "outputs": [],
   "source": [
    "three_list = [3 + i for i in range(1,10)]"
   ]
  },
  {
   "cell_type": "code",
   "execution_count": 86,
   "id": "2213cebe",
   "metadata": {},
   "outputs": [
    {
     "data": {
      "text/plain": [
       "[4, 5, 6, 7, 8, 9, 10, 11, 12]"
      ]
     },
     "execution_count": 86,
     "metadata": {},
     "output_type": "execute_result"
    }
   ],
   "source": [
    "three_list"
   ]
  },
  {
   "cell_type": "code",
   "execution_count": 87,
   "id": "74c66193",
   "metadata": {},
   "outputs": [],
   "source": [
    "a = [1, 2, 3, 4]\n",
    "b = (1, 2, 3, 4)"
   ]
  },
  {
   "cell_type": "code",
   "execution_count": 88,
   "id": "57822146",
   "metadata": {},
   "outputs": [
    {
     "data": {
      "text/plain": [
       "[1, 2, 3, 4]"
      ]
     },
     "execution_count": 88,
     "metadata": {},
     "output_type": "execute_result"
    }
   ],
   "source": [
    "a"
   ]
  },
  {
   "cell_type": "code",
   "execution_count": 89,
   "id": "26043bd1",
   "metadata": {},
   "outputs": [
    {
     "data": {
      "text/plain": [
       "(1, 2, 3, 4)"
      ]
     },
     "execution_count": 89,
     "metadata": {},
     "output_type": "execute_result"
    }
   ],
   "source": [
    "b"
   ]
  },
  {
   "cell_type": "code",
   "execution_count": 90,
   "id": "a4a1815e",
   "metadata": {},
   "outputs": [
    {
     "ename": "TypeError",
     "evalue": "'tuple' object does not support item assignment",
     "output_type": "error",
     "traceback": [
      "\u001B[1;31m---------------------------------------------------------------------------\u001B[0m",
      "\u001B[1;31mTypeError\u001B[0m                                 Traceback (most recent call last)",
      "\u001B[1;32m~\\AppData\\Local\\Temp\\ipykernel_13268\\3990601518.py\u001B[0m in \u001B[0;36m<module>\u001B[1;34m\u001B[0m\n\u001B[1;32m----> 1\u001B[1;33m \u001B[0mb\u001B[0m\u001B[1;33m[\u001B[0m\u001B[1;36m2\u001B[0m\u001B[1;33m]\u001B[0m \u001B[1;33m=\u001B[0m\u001B[1;36m5\u001B[0m\u001B[1;33m\u001B[0m\u001B[1;33m\u001B[0m\u001B[0m\n\u001B[0m",
      "\u001B[1;31mTypeError\u001B[0m: 'tuple' object does not support item assignment"
     ]
    }
   ],
   "source": [
    "b[2] =5"
   ]
  },
  {
   "cell_type": "code",
   "execution_count": 91,
   "id": "3ae8182e",
   "metadata": {},
   "outputs": [],
   "source": [
    "# 집합"
   ]
  },
  {
   "cell_type": "code",
   "execution_count": 92,
   "id": "6b2466d8",
   "metadata": {},
   "outputs": [],
   "source": [
    "# 집합 "
   ]
  },
  {
   "cell_type": "code",
   "execution_count": 93,
   "id": "a5e34ff0",
   "metadata": {},
   "outputs": [],
   "source": [
    "# 집합\n"
   ]
  },
  {
   "cell_type": "code",
   "execution_count": 94,
   "id": "34b7e467",
   "metadata": {},
   "outputs": [
    {
     "ename": "NameError",
     "evalue": "name '집합' is not defined",
     "output_type": "error",
     "traceback": [
      "\u001B[1;31m---------------------------------------------------------------------------\u001B[0m",
      "\u001B[1;31mNameError\u001B[0m                                 Traceback (most recent call last)",
      "\u001B[1;32m~\\AppData\\Local\\Temp\\ipykernel_13268\\3450711132.py\u001B[0m in \u001B[0;36m<module>\u001B[1;34m\u001B[0m\n\u001B[1;32m----> 1\u001B[1;33m \u001B[0m집합\u001B[0m\u001B[1;33m\u001B[0m\u001B[1;33m\u001B[0m\u001B[0m\n\u001B[0m",
      "\u001B[1;31mNameError\u001B[0m: name '집합' is not defined"
     ]
    }
   ],
   "source": [
    "집합"
   ]
  },
  {
   "cell_type": "code",
   "execution_count": 95,
   "id": "ccf8c8cb",
   "metadata": {},
   "outputs": [],
   "source": [
    "a = {1, 2, 3, 4, 5}\n",
    "b = {3, 4, 5, 6, 7}"
   ]
  },
  {
   "cell_type": "code",
   "execution_count": 96,
   "id": "98768b2b",
   "metadata": {},
   "outputs": [
    {
     "data": {
      "text/plain": [
       "{3, 4, 5}"
      ]
     },
     "execution_count": 96,
     "metadata": {},
     "output_type": "execute_result"
    }
   ],
   "source": [
    "a & b # 교집합 intersection"
   ]
  },
  {
   "cell_type": "code",
   "execution_count": 97,
   "id": "00203ddc",
   "metadata": {},
   "outputs": [],
   "source": [
    "c = set([1, 2, 3, 4, 5, 5, 5, 5])"
   ]
  },
  {
   "cell_type": "code",
   "execution_count": 98,
   "id": "c52f0d54",
   "metadata": {},
   "outputs": [
    {
     "data": {
      "text/plain": [
       "{1, 2, 3, 4, 5}"
      ]
     },
     "execution_count": 98,
     "metadata": {},
     "output_type": "execute_result"
    }
   ],
   "source": [
    "c"
   ]
  },
  {
   "cell_type": "code",
   "execution_count": 99,
   "id": "1f6649d3",
   "metadata": {},
   "outputs": [
    {
     "data": {
      "text/plain": [
       "{1, 2, 3, 4, 5, 6, 7}"
      ]
     },
     "execution_count": 99,
     "metadata": {},
     "output_type": "execute_result"
    }
   ],
   "source": [
    "a | b # 합집합 union"
   ]
  },
  {
   "cell_type": "code",
   "execution_count": 100,
   "id": "7889000b",
   "metadata": {},
   "outputs": [
    {
     "data": {
      "text/plain": [
       "{1, 2}"
      ]
     },
     "execution_count": 100,
     "metadata": {},
     "output_type": "execute_result"
    }
   ],
   "source": [
    "a - b # 차집합"
   ]
  },
  {
   "cell_type": "code",
   "execution_count": 102,
   "id": "da011996",
   "metadata": {},
   "outputs": [
    {
     "ename": "TypeError",
     "evalue": "'list' object is not callable",
     "output_type": "error",
     "traceback": [
      "\u001B[1;31m---------------------------------------------------------------------------\u001B[0m",
      "\u001B[1;31mTypeError\u001B[0m                                 Traceback (most recent call last)",
      "\u001B[1;32m~\\AppData\\Local\\Temp\\ipykernel_13268\\3607500558.py\u001B[0m in \u001B[0;36m<module>\u001B[1;34m\u001B[0m\n\u001B[0;32m      2\u001B[0m \u001B[0mc\u001B[0m \u001B[1;33m=\u001B[0m \u001B[0mset\u001B[0m\u001B[1;33m(\u001B[0m\u001B[1;33m[\u001B[0m\u001B[1;36m1\u001B[0m\u001B[1;33m,\u001B[0m \u001B[1;36m2\u001B[0m\u001B[1;33m,\u001B[0m \u001B[1;36m3\u001B[0m\u001B[1;33m,\u001B[0m \u001B[1;36m4\u001B[0m\u001B[1;33m,\u001B[0m \u001B[1;36m5\u001B[0m\u001B[1;33m,\u001B[0m \u001B[1;36m5\u001B[0m\u001B[1;33m,\u001B[0m \u001B[1;36m5\u001B[0m\u001B[1;33m,\u001B[0m \u001B[1;36m5\u001B[0m\u001B[1;33m]\u001B[0m\u001B[1;33m)\u001B[0m\u001B[1;33m\u001B[0m\u001B[1;33m\u001B[0m\u001B[0m\n\u001B[0;32m      3\u001B[0m \u001B[0md\u001B[0m \u001B[1;33m=\u001B[0m \u001B[0mset\u001B[0m\u001B[1;33m(\u001B[0m\u001B[0mc\u001B[0m\u001B[1;33m)\u001B[0m\u001B[1;33m\u001B[0m\u001B[1;33m\u001B[0m\u001B[0m\n\u001B[1;32m----> 4\u001B[1;33m \u001B[0mlist\u001B[0m\u001B[1;33m(\u001B[0m\u001B[0md\u001B[0m\u001B[1;33m)\u001B[0m\u001B[1;33m\u001B[0m\u001B[1;33m\u001B[0m\u001B[0m\n\u001B[0m",
      "\u001B[1;31mTypeError\u001B[0m: 'list' object is not callable"
     ]
    }
   ],
   "source": [
    "# 중복 제거\n",
    "c = set([1, 2, 3, 4, 5, 5, 5, 5])\n",
    "d = set(c)\n",
    "list(d)"
   ]
  },
  {
   "cell_type": "code",
   "execution_count": 116,
   "id": "d9f70318",
   "metadata": {},
   "outputs": [],
   "source": [
    "# 딕셔너리\n",
    "a = {'이름' : '김기찬', '직장' : '게임아이'}"
   ]
  },
  {
   "cell_type": "code",
   "execution_count": 117,
   "id": "3cf83611",
   "metadata": {},
   "outputs": [],
   "source": [
    "a['사는 곳'] = '인천'"
   ]
  },
  {
   "cell_type": "code",
   "execution_count": 105,
   "id": "13d8b112",
   "metadata": {},
   "outputs": [
    {
     "data": {
      "text/plain": [
       "{'이름': '김기찬', '직장': '게임아이', '사는 곳': '인천'}"
      ]
     },
     "execution_count": 105,
     "metadata": {},
     "output_type": "execute_result"
    }
   ],
   "source": [
    "a"
   ]
  },
  {
   "cell_type": "code",
   "execution_count": 118,
   "id": "517556cf",
   "metadata": {},
   "outputs": [],
   "source": [
    "a['좋아하는 음식'] = ['오이', '고구마', '마라탕']"
   ]
  },
  {
   "cell_type": "code",
   "execution_count": 108,
   "id": "f05cf6ee",
   "metadata": {},
   "outputs": [
    {
     "data": {
      "text/plain": [
       "{'이름': '김기찬', '직장': '게임아이', '사는 곳': '인천', '좋아하는 음식': ['오이', '고구마', '마라탕']}"
      ]
     },
     "execution_count": 108,
     "metadata": {},
     "output_type": "execute_result"
    }
   ],
   "source": [
    "a"
   ]
  },
  {
   "cell_type": "code",
   "execution_count": 109,
   "id": "cae4f57e",
   "metadata": {},
   "outputs": [
    {
     "ename": "TypeError",
     "evalue": "'list' object is not callable",
     "output_type": "error",
     "traceback": [
      "\u001B[1;31m---------------------------------------------------------------------------\u001B[0m",
      "\u001B[1;31mTypeError\u001B[0m                                 Traceback (most recent call last)",
      "\u001B[1;32m~\\AppData\\Local\\Temp\\ipykernel_13268\\3704056440.py\u001B[0m in \u001B[0;36m<module>\u001B[1;34m\u001B[0m\n\u001B[1;32m----> 1\u001B[1;33m \u001B[0mlist\u001B[0m\u001B[1;33m(\u001B[0m\u001B[0ma\u001B[0m\u001B[1;33m.\u001B[0m\u001B[0mkeys\u001B[0m\u001B[1;33m(\u001B[0m\u001B[1;33m)\u001B[0m\u001B[1;33m)\u001B[0m\u001B[1;33m\u001B[0m\u001B[1;33m\u001B[0m\u001B[0m\n\u001B[0m",
      "\u001B[1;31mTypeError\u001B[0m: 'list' object is not callable"
     ]
    }
   ],
   "source": [
    "list(a.keys())"
   ]
  },
  {
   "cell_type": "code",
   "execution_count": 110,
   "id": "0cb3066f",
   "metadata": {},
   "outputs": [
    {
     "data": {
      "text/plain": [
       "'김기찬'"
      ]
     },
     "execution_count": 110,
     "metadata": {},
     "output_type": "execute_result"
    }
   ],
   "source": [
    "a['이름']"
   ]
  },
  {
   "cell_type": "code",
   "execution_count": 111,
   "id": "6c26bbc2",
   "metadata": {},
   "outputs": [
    {
     "data": {
      "text/plain": [
       "'김기찬'"
      ]
     },
     "execution_count": 111,
     "metadata": {},
     "output_type": "execute_result"
    }
   ],
   "source": [
    "a.get('이름')"
   ]
  },
  {
   "cell_type": "code",
   "execution_count": 112,
   "id": "060a56c0",
   "metadata": {},
   "outputs": [
    {
     "ename": "TypeError",
     "evalue": "'list' object is not callable",
     "output_type": "error",
     "traceback": [
      "\u001B[1;31m---------------------------------------------------------------------------\u001B[0m",
      "\u001B[1;31mTypeError\u001B[0m                                 Traceback (most recent call last)",
      "\u001B[1;32m~\\AppData\\Local\\Temp\\ipykernel_13268\\3704056440.py\u001B[0m in \u001B[0;36m<module>\u001B[1;34m\u001B[0m\n\u001B[1;32m----> 1\u001B[1;33m \u001B[0mlist\u001B[0m\u001B[1;33m(\u001B[0m\u001B[0ma\u001B[0m\u001B[1;33m.\u001B[0m\u001B[0mkeys\u001B[0m\u001B[1;33m(\u001B[0m\u001B[1;33m)\u001B[0m\u001B[1;33m)\u001B[0m\u001B[1;33m\u001B[0m\u001B[1;33m\u001B[0m\u001B[0m\n\u001B[0m",
      "\u001B[1;31mTypeError\u001B[0m: 'list' object is not callable"
     ]
    }
   ],
   "source": [
    "list(a.keys())"
   ]
  },
  {
   "cell_type": "code",
   "execution_count": 113,
   "id": "3d35b27b",
   "metadata": {},
   "outputs": [
    {
     "data": {
      "text/plain": [
       "dict_values(['김기찬', '게임아이', '인천', ['오이', '고구마', '마라탕']])"
      ]
     },
     "execution_count": 113,
     "metadata": {},
     "output_type": "execute_result"
    }
   ],
   "source": [
    "a.values()"
   ]
  },
  {
   "cell_type": "code",
   "execution_count": 114,
   "id": "e1abcd49",
   "metadata": {},
   "outputs": [],
   "source": [
    "a.clear() # 딕셔너리 내용 삭제"
   ]
  },
  {
   "cell_type": "code",
   "execution_count": 115,
   "id": "45d9ea0c",
   "metadata": {},
   "outputs": [
    {
     "data": {
      "text/plain": [
       "{}"
      ]
     },
     "execution_count": 115,
     "metadata": {},
     "output_type": "execute_result"
    }
   ],
   "source": [
    "a"
   ]
  },
  {
   "cell_type": "code",
   "execution_count": 119,
   "id": "411d17f3",
   "metadata": {},
   "outputs": [],
   "source": [
    "icecream = ['서주아이스바', '아맛나', '바밤바', '비비빅']"
   ]
  },
  {
   "cell_type": "code",
   "execution_count": 120,
   "id": "4bb754f8",
   "metadata": {},
   "outputs": [],
   "source": [
    "#for문을 사용해서 딕셔너리를 만들기"
   ]
  },
  {
   "cell_type": "code",
   "execution_count": 124,
   "id": "f525fc94",
   "metadata": {},
   "outputs": [
    {
     "name": "stdout",
     "output_type": "stream",
     "text": [
      "서주아이스바\n",
      "아맛나\n",
      "바밤바\n",
      "비비빅\n"
     ]
    }
   ],
   "source": [
    "ice_dict = {}\n",
    "for i in range(0,4) : \n",
    "    print(icecream[i])\n",
    "    ice_dict[(i+1)] = icecream[i]"
   ]
  },
  {
   "cell_type": "code",
   "execution_count": 125,
   "id": "17eb0812",
   "metadata": {},
   "outputs": [
    {
     "data": {
      "text/plain": [
       "{1: '서주아이스바', 2: '아맛나', 3: '바밤바', 4: '비비빅'}"
      ]
     },
     "execution_count": 125,
     "metadata": {},
     "output_type": "execute_result"
    }
   ],
   "source": [
    "ice_dict"
   ]
  },
  {
   "cell_type": "code",
   "execution_count": 127,
   "id": "537870c3",
   "metadata": {},
   "outputs": [
    {
     "data": {
      "text/plain": [
       "{1: '아맛나', 2: '바밤바', 3: '비비빅', 4: '비비빅', 0: '서주아이스바'}"
      ]
     },
     "execution_count": 127,
     "metadata": {},
     "output_type": "execute_result"
    }
   ],
   "source": [
    "for i in range(len(icecream)) : \n",
    "    ice_dict[i] = icecream[i]\n",
    "ice_dict"
   ]
  },
  {
   "cell_type": "code",
   "execution_count": 128,
   "id": "1bbac05c",
   "metadata": {},
   "outputs": [
    {
     "data": {
      "text/plain": [
       "{0: '서주아이스바', 1: '아맛나', 2: '바밤바', 3: '비비빅'}"
      ]
     },
     "execution_count": 128,
     "metadata": {},
     "output_type": "execute_result"
    }
   ],
   "source": [
    "{i : icecream[i] for i in range(len(icecream))}"
   ]
  },
  {
   "cell_type": "code",
   "execution_count": 151,
   "id": "327f7dd5",
   "metadata": {},
   "outputs": [
    {
     "name": "stdout",
     "output_type": "stream",
     "text": [
      "800원이 있습니다.\n"
     ]
    }
   ],
   "source": [
    "# if 문\n",
    "a = 800\n",
    "if a == 1000 :\n",
    "    print('천원이 있습니다.')\n",
    "elif a == 800 :\n",
    "    print('800원이 있습니다.')\n",
    "else : \n",
    "    print('돈이 없습니다.')"
   ]
  },
  {
   "cell_type": "code",
   "execution_count": 133,
   "id": "a4a06cc7",
   "metadata": {},
   "outputs": [],
   "source": [
    "a = 1000"
   ]
  },
  {
   "cell_type": "code",
   "execution_count": 136,
   "id": "151e6333",
   "metadata": {},
   "outputs": [
    {
     "ename": "NameError",
     "evalue": "name 'x' is not defined",
     "output_type": "error",
     "traceback": [
      "\u001B[1;31m---------------------------------------------------------------------------\u001B[0m",
      "\u001B[1;31mNameError\u001B[0m                                 Traceback (most recent call last)",
      "\u001B[1;32m~\\AppData\\Local\\Temp\\ipykernel_13268\\2339662246.py\u001B[0m in \u001B[0;36m<module>\u001B[1;34m\u001B[0m\n\u001B[0;32m      1\u001B[0m \u001B[1;31m# 연산자\u001B[0m\u001B[1;33m\u001B[0m\u001B[1;33m\u001B[0m\u001B[0m\n\u001B[1;32m----> 2\u001B[1;33m \u001B[0mx\u001B[0m \u001B[1;33m<\u001B[0m \u001B[0my\u001B[0m\u001B[1;33m\u001B[0m\u001B[1;33m\u001B[0m\u001B[0m\n\u001B[0m\u001B[0;32m      3\u001B[0m \u001B[0mx\u001B[0m \u001B[1;33m>\u001B[0m \u001B[0my\u001B[0m\u001B[1;33m\u001B[0m\u001B[1;33m\u001B[0m\u001B[0m\n\u001B[0;32m      4\u001B[0m \u001B[0mx\u001B[0m \u001B[1;33m==\u001B[0m \u001B[0my\u001B[0m\u001B[1;33m\u001B[0m\u001B[1;33m\u001B[0m\u001B[0m\n\u001B[0;32m      5\u001B[0m \u001B[0mx\u001B[0m \u001B[1;33m!=\u001B[0m \u001B[0my\u001B[0m\u001B[1;33m\u001B[0m\u001B[1;33m\u001B[0m\u001B[0m\n",
      "\u001B[1;31mNameError\u001B[0m: name 'x' is not defined"
     ]
    }
   ],
   "source": [
    "# 연산자\n",
    "x < y\n",
    "x > y\n",
    "x == y\n",
    "x != y\n",
    "x >= y\n",
    "x <= y"
   ]
  },
  {
   "cell_type": "code",
   "execution_count": 139,
   "id": "17867b2b",
   "metadata": {},
   "outputs": [
    {
     "name": "stdout",
     "output_type": "stream",
     "text": [
      "돈이 없다.\n"
     ]
    }
   ],
   "source": [
    "money = None # java의 null값과 같음 != ''\n",
    "\n",
    "if not money :\n",
    "    print('돈이 없다.')\n",
    "else :\n",
    "    print('돈이 있다.')"
   ]
  },
  {
   "cell_type": "code",
   "execution_count": 143,
   "id": "8a11e18e",
   "metadata": {},
   "outputs": [
    {
     "name": "stdout",
     "output_type": "stream",
     "text": [
      "숫자가 없어요\n"
     ]
    }
   ],
   "source": [
    "money_list = [100, 200, 300]\n",
    "if 400 in money_list : \n",
    "    print('숫자가 있어요')\n",
    "else : \n",
    "    print('숫자가 없어요')"
   ]
  },
  {
   "cell_type": "code",
   "execution_count": 145,
   "id": "530219ad",
   "metadata": {},
   "outputs": [
    {
     "name": "stdout",
     "output_type": "stream",
     "text": [
      "숫자가 있어요\n"
     ]
    }
   ],
   "source": [
    "money_list = [100, 200, 300]\n",
    "if 400 in money_list or 100 in money_list: \n",
    "    print('숫자가 있어요')\n",
    "else : \n",
    "    print('숫자가 없어요')"
   ]
  },
  {
   "cell_type": "code",
   "execution_count": 157,
   "id": "bdfb1bef",
   "metadata": {},
   "outputs": [
    {
     "name": "stdout",
     "output_type": "stream",
     "text": [
      "점수를 입력하세요.77\n",
      "D\n"
     ]
    }
   ],
   "source": [
    "score = input('점수를 입력하세요.')\n",
    "\n",
    "if eval(score) == 100 :\n",
    "    print('A')\n",
    "elif eval(score) in range(90, 99) :\n",
    "    print('B')\n",
    "elif eval(score) in range(80, 89) :\n",
    "    print('C')\n",
    "elif eval(score) in range(70, 79) :\n",
    "    print('D')\n",
    "else : \n",
    "    print('F')"
   ]
  },
  {
   "cell_type": "code",
   "execution_count": null,
   "id": "e6547794",
   "metadata": {},
   "outputs": [],
   "source": []
  },
  {
   "cell_type": "code",
   "execution_count": null,
   "id": "fde59ab7",
   "metadata": {},
   "outputs": [],
   "source": []
  }
 ],
 "metadata": {
  "kernelspec": {
   "display_name": "Python 3 (ipykernel)",
   "language": "python",
   "name": "python3"
  },
  "language_info": {
   "codemirror_mode": {
    "name": "ipython",
    "version": 3
   },
   "file_extension": ".py",
   "mimetype": "text/x-python",
   "name": "python",
   "nbconvert_exporter": "python",
   "pygments_lexer": "ipython3",
   "version": "3.9.13"
  }
 },
 "nbformat": 4,
 "nbformat_minor": 5
}
