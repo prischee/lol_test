{
 "cells": [
  {
   "cell_type": "code",
   "execution_count": 1,
   "id": "2c5604ee",
   "metadata": {},
   "outputs": [],
   "source": [
    "num = 0"
   ]
  },
  {
   "cell_type": "code",
   "execution_count": 2,
   "id": "63e0f588",
   "metadata": {},
   "outputs": [],
   "source": [
    "while num != 4 :\n",
    "    num += 1"
   ]
  },
  {
   "cell_type": "code",
   "execution_count": 3,
   "id": "cb748e97",
   "metadata": {},
   "outputs": [
    {
     "data": {
      "text/plain": [
       "4"
      ]
     },
     "execution_count": 3,
     "metadata": {},
     "output_type": "execute_result"
    }
   ],
   "source": [
    "num"
   ]
  },
  {
   "cell_type": "code",
   "execution_count": 4,
   "id": "59d712d7",
   "metadata": {},
   "outputs": [
    {
     "name": "stdout",
     "output_type": "stream",
     "text": [
      "4\n",
      "5\n",
      "6\n",
      "7\n",
      "8\n",
      "9\n"
     ]
    }
   ],
   "source": [
    "# 무한 루프\n",
    "while True :\n",
    "    print(num)\n",
    "    num += 1\n",
    "    if num == 10 :\n",
    "        break"
   ]
  },
  {
   "cell_type": "code",
   "execution_count": 5,
   "id": "cd133aee",
   "metadata": {},
   "outputs": [
    {
     "name": "stdout",
     "output_type": "stream",
     "text": [
      "11\n",
      "12\n",
      "13\n",
      "14\n",
      "15\n"
     ]
    }
   ],
   "source": [
    "while num != 15 :\n",
    "    num += 1\n",
    "    if num == 20 :\n",
    "        continue\n",
    "    print(num)"
   ]
  },
  {
   "cell_type": "code",
   "execution_count": 6,
   "id": "32cd75f6",
   "metadata": {},
   "outputs": [
    {
     "name": "stdout",
     "output_type": "stream",
     "text": [
      "1\n",
      "2\n",
      "3\n",
      "4\n"
     ]
    }
   ],
   "source": [
    "for i in [1, 2, 3, 4] : \n",
    "    print(i)"
   ]
  },
  {
   "cell_type": "code",
   "execution_count": 7,
   "id": "efc7dffd",
   "metadata": {},
   "outputs": [
    {
     "name": "stdout",
     "output_type": "stream",
     "text": [
      "1 2\n",
      "3 4\n",
      "5 6\n"
     ]
    }
   ],
   "source": [
    "for i, j in [(1,2),(3,4),(5,6)] :\n",
    "    print(i, j)"
   ]
  },
  {
   "cell_type": "code",
   "execution_count": 8,
   "id": "622e7c25",
   "metadata": {},
   "outputs": [
    {
     "name": "stdout",
     "output_type": "stream",
     "text": [
      "1 2 3\n",
      "4 5 6\n",
      "7 8 9\n"
     ]
    }
   ],
   "source": [
    "for i, j, k in [(1, 2, 3), (4, 5, 6), (7, 8, 9)] :\n",
    "    print(i, j, k)"
   ]
  },
  {
   "cell_type": "code",
   "execution_count": 9,
   "id": "2d7c8706",
   "metadata": {},
   "outputs": [],
   "source": [
    "# for문 + if문을 통해서 합격 여부를 맞추세요\n",
    "#[90, 25, 67, 45, 80]라는 학생 5면의 점수를 for문으로 만들어서 합격 여부 맞추기"
   ]
  },
  {
   "cell_type": "code",
   "execution_count": 10,
   "id": "06c3d446",
   "metadata": {},
   "outputs": [
    {
     "name": "stdout",
     "output_type": "stream",
     "text": [
      "1번 학생은 합격입니다.\n",
      "2번 학생은 불합격입니다.\n",
      "3번 학생은 합격입니다.\n",
      "4번 학생은 불합격입니다.\n",
      "5번 학생은 합격입니다.\n"
     ]
    }
   ],
   "source": [
    "j = 0\n",
    "for i in [90, 25, 67, 45, 80] :\n",
    "    j = j + 1\n",
    "    if i >= 60 :\n",
    "        print(str(j) + \"번 학생은 합격입니다.\")\n",
    "    elif i < 60 :\n",
    "        print(str(j) + \"번 학생은 불합격입니다.\")"
   ]
  },
  {
   "cell_type": "code",
   "execution_count": 11,
   "id": "442530ea",
   "metadata": {},
   "outputs": [
    {
     "name": "stdout",
     "output_type": "stream",
     "text": [
      "1번 학생은 합격입니다.\n",
      "2번 학생은 불합격입니다.\n",
      "3번 학생은 합격입니다.\n",
      "4번 학생은 불합격입니다.\n",
      "5번 학생은 합격입니다.\n"
     ]
    }
   ],
   "source": [
    "score = [90, 25,67, 45, 80]\n",
    "for idx, i in enumerate(score) :\n",
    "    if i >= 60 :\n",
    "        #print(str(idx + 1) + \"번 학생은 합격입니다.\")\n",
    "        print(f'{idx + 1}번 학생은 합격입니다.')\n",
    "    else : \n",
    "        print(str(idx + 1) + \"번 학생은 불합격입니다.\")"
   ]
  },
  {
   "cell_type": "code",
   "execution_count": 12,
   "id": "b95ea70d",
   "metadata": {},
   "outputs": [
    {
     "name": "stdout",
     "output_type": "stream",
     "text": [
      "1\n",
      "2\n",
      "3\n",
      "4\n",
      "5\n",
      "6\n",
      "7\n",
      "8\n",
      "9\n"
     ]
    }
   ],
   "source": [
    "for i in range(1, 10) :\n",
    "    print(i)"
   ]
  },
  {
   "cell_type": "code",
   "execution_count": 13,
   "id": "11e15e97",
   "metadata": {},
   "outputs": [],
   "source": [
    "# 함수"
   ]
  },
  {
   "cell_type": "code",
   "execution_count": 14,
   "id": "0ff91a59",
   "metadata": {},
   "outputs": [],
   "source": [
    "def test(a, b, c) :\n",
    "    d = a + b + c + 5\n",
    "    return d"
   ]
  },
  {
   "cell_type": "code",
   "execution_count": 15,
   "id": "7f8dfd41",
   "metadata": {},
   "outputs": [
    {
     "data": {
      "text/plain": [
       "17"
      ]
     },
     "execution_count": 15,
     "metadata": {},
     "output_type": "execute_result"
    }
   ],
   "source": [
    "test(5, 4, 3)"
   ]
  },
  {
   "cell_type": "code",
   "execution_count": 16,
   "id": "382a1ba3",
   "metadata": {},
   "outputs": [],
   "source": [
    "def test2() :\n",
    "    return 'hi'"
   ]
  },
  {
   "cell_type": "code",
   "execution_count": 17,
   "id": "5b401e1b",
   "metadata": {},
   "outputs": [
    {
     "data": {
      "text/plain": [
       "'hi'"
      ]
     },
     "execution_count": 17,
     "metadata": {},
     "output_type": "execute_result"
    }
   ],
   "source": [
    "test2()"
   ]
  },
  {
   "cell_type": "code",
   "execution_count": 18,
   "id": "9607c5b1",
   "metadata": {},
   "outputs": [],
   "source": [
    "def test3() :\n",
    "    print('hi')"
   ]
  },
  {
   "cell_type": "code",
   "execution_count": 19,
   "id": "491d9c2f",
   "metadata": {},
   "outputs": [],
   "source": [
    "a = test2()"
   ]
  },
  {
   "cell_type": "code",
   "execution_count": 20,
   "id": "9526a744",
   "metadata": {},
   "outputs": [
    {
     "data": {
      "text/plain": [
       "'hi'"
      ]
     },
     "execution_count": 20,
     "metadata": {},
     "output_type": "execute_result"
    }
   ],
   "source": [
    "a"
   ]
  },
  {
   "cell_type": "code",
   "execution_count": 21,
   "id": "6dfcb163",
   "metadata": {},
   "outputs": [],
   "source": [
    "def test4(*args) :\n",
    "    sum_list = []\n",
    "    for i in args :\n",
    "        sum_list.append(i+3)\n",
    "    return sum_list"
   ]
  },
  {
   "cell_type": "code",
   "execution_count": 22,
   "id": "e8865b7d",
   "metadata": {},
   "outputs": [],
   "source": [
    "a = test4(1, 2, 3, 4, 5, 6, 7)"
   ]
  },
  {
   "cell_type": "code",
   "execution_count": 23,
   "id": "1095716e",
   "metadata": {},
   "outputs": [],
   "source": [
    "b = test4(1, 2, 3, 4)"
   ]
  },
  {
   "cell_type": "code",
   "execution_count": 24,
   "id": "a13e743a",
   "metadata": {},
   "outputs": [
    {
     "data": {
      "text/plain": [
       "[4, 5, 6, 7, 8, 9, 10]"
      ]
     },
     "execution_count": 24,
     "metadata": {},
     "output_type": "execute_result"
    }
   ],
   "source": [
    "a"
   ]
  },
  {
   "cell_type": "code",
   "execution_count": 25,
   "id": "5303241e",
   "metadata": {},
   "outputs": [
    {
     "data": {
      "text/plain": [
       "[4, 5, 6, 7]"
      ]
     },
     "execution_count": 25,
     "metadata": {},
     "output_type": "execute_result"
    }
   ],
   "source": [
    "b"
   ]
  },
  {
   "cell_type": "code",
   "execution_count": 26,
   "id": "64c65dc4",
   "metadata": {},
   "outputs": [],
   "source": [
    "# 한 명의 점수만 넣어서 합격인지 불합격인지 리턴받는 함수 제작"
   ]
  },
  {
   "cell_type": "code",
   "execution_count": 27,
   "id": "c8f2d4d7",
   "metadata": {},
   "outputs": [],
   "source": [
    "def grade(score) :\n",
    "    if score >= 60 :\n",
    "        return \"합격입니다.\"\n",
    "    else :\n",
    "        return\"불합격입니다.\""
   ]
  },
  {
   "cell_type": "code",
   "execution_count": 28,
   "id": "93a80105",
   "metadata": {},
   "outputs": [
    {
     "data": {
      "text/plain": [
       "'불합격입니다.'"
      ]
     },
     "execution_count": 28,
     "metadata": {},
     "output_type": "execute_result"
    }
   ],
   "source": [
    "grade(40)"
   ]
  },
  {
   "cell_type": "code",
   "execution_count": 29,
   "id": "ce391f62",
   "metadata": {},
   "outputs": [
    {
     "data": {
      "text/plain": [
       "'합격입니다.'"
      ]
     },
     "execution_count": 29,
     "metadata": {},
     "output_type": "execute_result"
    }
   ],
   "source": [
    "grade(62)"
   ]
  },
  {
   "cell_type": "code",
   "execution_count": 30,
   "id": "e70ea898",
   "metadata": {},
   "outputs": [],
   "source": [
    "def test_score(a, b = 60) : \n",
    "    try : \n",
    "        if a >= b : \n",
    "            return \"합격\"\n",
    "        else : \n",
    "            return \"불합격\"\n",
    "    except : \n",
    "        return \"입력값을 변경해주세요.\""
   ]
  },
  {
   "cell_type": "code",
   "execution_count": 31,
   "id": "9f4aad21",
   "metadata": {},
   "outputs": [
    {
     "data": {
      "text/plain": [
       "'합격'"
      ]
     },
     "execution_count": 31,
     "metadata": {},
     "output_type": "execute_result"
    }
   ],
   "source": [
    "test_score(69)"
   ]
  },
  {
   "cell_type": "code",
   "execution_count": 32,
   "id": "9af9f34f",
   "metadata": {},
   "outputs": [
    {
     "data": {
      "text/plain": [
       "'불합격'"
      ]
     },
     "execution_count": 32,
     "metadata": {},
     "output_type": "execute_result"
    }
   ],
   "source": [
    "test_score(67, 70)"
   ]
  },
  {
   "cell_type": "code",
   "execution_count": 33,
   "id": "b3a63c1b",
   "metadata": {},
   "outputs": [
    {
     "data": {
      "text/plain": [
       "'입력값을 변경해주세요.'"
      ]
     },
     "execution_count": 33,
     "metadata": {},
     "output_type": "execute_result"
    }
   ],
   "source": [
    "test_score('20')"
   ]
  },
  {
   "cell_type": "code",
   "execution_count": 34,
   "id": "946c5980",
   "metadata": {},
   "outputs": [],
   "source": [
    "def main() :\n",
    "    print(\"안녕하세요.\")\n",
    "    try : \n",
    "        age = int(input(\"나이를 입력하세요 : \"))\n",
    "        print(\"입력하신 나이는 다음과 같습니다. : \", age)\n",
    "    except ValueError : \n",
    "        print(\"입력이 잘못 되었습니다.\")\n",
    "    print(\"만나서 반가웠습니다.\")"
   ]
  },
  {
   "cell_type": "code",
   "execution_count": null,
   "id": "fb5556d5",
   "metadata": {},
   "outputs": [
    {
     "name": "stdout",
     "output_type": "stream",
     "text": [
      "안녕하세요.\n"
     ]
    }
   ],
   "source": [
    "main()"
   ]
  },
  {
   "cell_type": "code",
   "execution_count": null,
   "id": "270616f7",
   "metadata": {},
   "outputs": [],
   "source": [
    "main()"
   ]
  },
  {
   "cell_type": "code",
   "execution_count": null,
   "id": "62f000e6",
   "metadata": {},
   "outputs": [],
   "source": [
    "def main() :\n",
    "    while True : \n",
    "        print(\"안녕하세요.\")\n",
    "        try : \n",
    "            age = int(input(\"나이를 입력하세요 : \"))\n",
    "            print(\"입력하신 나이는 다음과 같습니다. : \", age)\n",
    "            break\n",
    "        except ValueError : \n",
    "            print(\"입력이 잘못되었습니다.\")"
   ]
  },
  {
   "cell_type": "code",
   "execution_count": null,
   "id": "f43e5716",
   "metadata": {},
   "outputs": [],
   "source": [
    "main()"
   ]
  },
  {
   "cell_type": "code",
   "execution_count": null,
   "id": "eacd11e8",
   "metadata": {},
   "outputs": [],
   "source": [
    "def main() :\n",
    "    while True : \n",
    "        print(\"안녕하세요.\")\n",
    "        try : \n",
    "            age = int(input(\"나이를 입력하세요 : \"))\n",
    "            print(\"입력하신 나이는 다음과 같습니다. : \", age)\n",
    "        except ValueError : \n",
    "            print(\"입력이 잘못되었습니다.\")\n",
    "            main()"
   ]
  },
  {
   "cell_type": "code",
   "execution_count": null,
   "id": "27b8a629",
   "metadata": {},
   "outputs": [],
   "source": [
    "main()"
   ]
  },
  {
   "cell_type": "code",
   "execution_count": null,
   "id": "3c61d09d",
   "metadata": {},
   "outputs": [],
   "source": [
    "# lambda"
   ]
  },
  {
   "cell_type": "code",
   "execution_count": null,
   "id": "9edf19b2",
   "metadata": {},
   "outputs": [],
   "source": [
    "def show(s) :\n",
    "    print(s)"
   ]
  },
  {
   "cell_type": "code",
   "execution_count": null,
   "id": "8bb9e4e8",
   "metadata": {},
   "outputs": [],
   "source": [
    "show(\"안녕하세요.\")"
   ]
  },
  {
   "cell_type": "code",
   "execution_count": null,
   "id": "9c400cd2",
   "metadata": {},
   "outputs": [],
   "source": [
    "ans = lambda s : print(s)"
   ]
  },
  {
   "cell_type": "code",
   "execution_count": null,
   "id": "814041d1",
   "metadata": {},
   "outputs": [],
   "source": [
    "ans"
   ]
  },
  {
   "cell_type": "code",
   "execution_count": null,
   "id": "982eb24a",
   "metadata": {},
   "outputs": [],
   "source": [
    "ans(\"안녕하세요\")"
   ]
  },
  {
   "cell_type": "code",
   "execution_count": null,
   "id": "feaee576",
   "metadata": {},
   "outputs": [],
   "source": [
    "lst = ['가렌', '파이크', '트리스타나', '카타리나']"
   ]
  },
  {
   "cell_type": "code",
   "execution_count": null,
   "id": "8976ba8a",
   "metadata": {},
   "outputs": [],
   "source": [
    "#map, filter "
   ]
  },
  {
   "cell_type": "code",
   "execution_count": null,
   "id": "9266408d",
   "metadata": {},
   "outputs": [],
   "source": [
    "list(map(lambda x : '챔피언 ' + x, lst))"
   ]
  },
  {
   "cell_type": "code",
   "execution_count": null,
   "id": "baf80817",
   "metadata": {},
   "outputs": [],
   "source": [
    "for i in lst : \n",
    "    champ = '챔피언'  + i\n",
    "    champ_list.append(champ)"
   ]
  },
  {
   "cell_type": "code",
   "execution_count": null,
   "id": "5fbe12e3",
   "metadata": {},
   "outputs": [],
   "source": [
    "champ_list = []"
   ]
  },
  {
   "cell_type": "code",
   "execution_count": null,
   "id": "25b9ab7c",
   "metadata": {},
   "outputs": [],
   "source": [
    "champ_list"
   ]
  },
  {
   "cell_type": "code",
   "execution_count": null,
   "id": "2b3b99b7",
   "metadata": {},
   "outputs": [],
   "source": [
    "list(filter(lambda x : x if len(x) == 3 else '', lst))"
   ]
  },
  {
   "cell_type": "code",
   "execution_count": null,
   "id": "34882f15",
   "metadata": {},
   "outputs": [],
   "source": [
    "num_list = [1, 2, 3, 4, 5, 6, 7, 8, 9, 10]"
   ]
  },
  {
   "cell_type": "code",
   "execution_count": null,
   "id": "84cf5fda",
   "metadata": {},
   "outputs": [],
   "source": [
    "list(filter(lambda x : x if x > 4 else \"\", num_list))"
   ]
  },
  {
   "cell_type": "code",
   "execution_count": null,
   "id": "fd4d50ca",
   "metadata": {},
   "outputs": [],
   "source": [
    "num_list"
   ]
  },
  {
   "cell_type": "code",
   "execution_count": null,
   "id": "9a94b592",
   "metadata": {},
   "outputs": [],
   "source": [
    "list(map(lambda x : x * 2, num_list))"
   ]
  },
  {
   "cell_type": "code",
   "execution_count": null,
   "id": "1986d256",
   "metadata": {},
   "outputs": [],
   "source": [
    "num_list"
   ]
  },
  {
   "cell_type": "code",
   "execution_count": null,
   "id": "a9685013",
   "metadata": {},
   "outputs": [],
   "source": [
    "list(filter(lambda x : x if x%2 == 0 else \"\", num_list))"
   ]
  },
  {
   "cell_type": "code",
   "execution_count": null,
   "id": "f3a844e3",
   "metadata": {},
   "outputs": [],
   "source": [
    "def sum_num(x) : \n",
    "    b = x * 2\n",
    "    return b"
   ]
  },
  {
   "cell_type": "code",
   "execution_count": null,
   "id": "55f06b35",
   "metadata": {},
   "outputs": [],
   "source": [
    "list(map(lambda x : sum_num(x), num_list))"
   ]
  },
  {
   "cell_type": "code",
   "execution_count": null,
   "id": "14155a6f",
   "metadata": {},
   "outputs": [],
   "source": [
    "#class"
   ]
  },
  {
   "cell_type": "code",
   "execution_count": null,
   "id": "0ef977b0",
   "metadata": {},
   "outputs": [],
   "source": [
    "result1 = 0\n",
    "result2 = 0"
   ]
  },
  {
   "cell_type": "code",
   "execution_count": null,
   "id": "9b975768",
   "metadata": {},
   "outputs": [],
   "source": [
    "def add1(num) :\n",
    "    global result1\n",
    "    result1 += num\n",
    "    return result\n",
    "\n",
    "def add2(num) :\n",
    "    global result2\n",
    "    result2 += num\n",
    "    return result"
   ]
  },
  {
   "cell_type": "code",
   "execution_count": null,
   "id": "785e6c92",
   "metadata": {},
   "outputs": [],
   "source": [
    "add1(3)"
   ]
  },
  {
   "cell_type": "code",
   "execution_count": null,
   "id": "ca11a8b9",
   "metadata": {},
   "outputs": [],
   "source": [
    "class Calc :\n",
    "    def __init__(self, first, second) :\n",
    "        self.result = 0\n",
    "        self.first = first\n",
    "        self.second = second\n",
    "    def add(self, num) :\n",
    "        self.result += num\n",
    "        return self.result\n",
    "    def multi(self) :\n",
    "        mult = self.first * self.second\n",
    "        return mult"
   ]
  },
  {
   "cell_type": "code",
   "execution_count": null,
   "id": "bc5ec8f7",
   "metadata": {},
   "outputs": [],
   "source": [
    "cal1 = Calc(4, 2)\n",
    "#cal2 = Calc()"
   ]
  },
  {
   "cell_type": "code",
   "execution_count": null,
   "id": "4abab112",
   "metadata": {},
   "outputs": [],
   "source": [
    "cal1.add(3)\n",
    "cal1.add(4)"
   ]
  },
  {
   "cell_type": "code",
   "execution_count": null,
   "id": "1e5bcdc1",
   "metadata": {},
   "outputs": [],
   "source": [
    "# 상속\n",
    "class MoreCalc(Calc) : \n",
    "    def put(self, num) : \n",
    "        self.result -= num\n",
    "        return self.result"
   ]
  },
  {
   "cell_type": "code",
   "execution_count": null,
   "id": "fac852a9",
   "metadata": {},
   "outputs": [],
   "source": [
    "a = MoreCalc()"
   ]
  },
  {
   "cell_type": "code",
   "execution_count": null,
   "id": "4efd38d7",
   "metadata": {},
   "outputs": [],
   "source": [
    "a.put(3)"
   ]
  },
  {
   "cell_type": "code",
   "execution_count": null,
   "id": "36fcbf64",
   "metadata": {},
   "outputs": [],
   "source": [
    "# 파이썬 내부 함수\n",
    "# len - 리스트의 길이를 반환하는 함수"
   ]
  },
  {
   "cell_type": "code",
   "execution_count": null,
   "id": "4cd259b1",
   "metadata": {},
   "outputs": [],
   "source": [
    "num_list = [1,2,3,4,5,6,78,55,9,41,2,15,15,5,78,1,2,3]"
   ]
  },
  {
   "cell_type": "code",
   "execution_count": null,
   "id": "37b7ef79",
   "metadata": {},
   "outputs": [],
   "source": [
    "len(num_list)"
   ]
  },
  {
   "cell_type": "code",
   "execution_count": null,
   "id": "2d304ca0",
   "metadata": {},
   "outputs": [],
   "source": [
    "max(num_list)"
   ]
  },
  {
   "cell_type": "code",
   "execution_count": null,
   "id": "c6a5ddbb",
   "metadata": {},
   "outputs": [],
   "source": [
    "min(num_list)"
   ]
  },
  {
   "cell_type": "code",
   "execution_count": null,
   "id": "8b6b083d",
   "metadata": {},
   "outputs": [],
   "source": [
    "# 반올림 함수\n",
    "round(4.6)"
   ]
  },
  {
   "cell_type": "code",
   "execution_count": null,
   "id": "381db991",
   "metadata": {},
   "outputs": [],
   "source": [
    "# zip"
   ]
  },
  {
   "cell_type": "code",
   "execution_count": null,
   "id": "ba4f4e35",
   "metadata": {},
   "outputs": [],
   "source": [
    "a = [1, 2, 3]\n",
    "b = [4, 5, 6]"
   ]
  },
  {
   "cell_type": "code",
   "execution_count": null,
   "id": "a06c18a6",
   "metadata": {},
   "outputs": [],
   "source": [
    "list(zip(a, b))"
   ]
  },
  {
   "cell_type": "code",
   "execution_count": null,
   "id": "134a1e89",
   "metadata": {},
   "outputs": [],
   "source": [
    "list(zip('abc', 'def'))"
   ]
  },
  {
   "cell_type": "code",
   "execution_count": null,
   "id": "b58c8f6b",
   "metadata": {},
   "outputs": [],
   "source": [
    "# 1. 1부터 100까지의 정수 중 짝수만 저장된 리스트를 생성하라"
   ]
  },
  {
   "cell_type": "code",
   "execution_count": null,
   "id": "851edd70",
   "metadata": {},
   "outputs": [],
   "source": [
    "# 2. 1부터 50까지의 숫자 중 5의 배수를 출력하는 코드를 작성하시오"
   ]
  },
  {
   "cell_type": "code",
   "execution_count": null,
   "id": "f1ee82c0",
   "metadata": {},
   "outputs": [],
   "source": [
    "# 3. 아래와 같이 리스트의 데이터를 출력하는 코드를 작성하시오"
   ]
  },
  {
   "cell_type": "code",
   "execution_count": null,
   "id": "9791cb53",
   "metadata": {},
   "outputs": [],
   "source": [
    "#4. 반복문을 사용하여 다음과 같이 2단에서부터 9단까지의 구구단을 딕셔너리에 저장하는 코드를 구현하라"
   ]
  },
  {
   "cell_type": "code",
   "execution_count": null,
   "id": "057025cd",
   "metadata": {},
   "outputs": [],
   "source": [
    "# 5. 리스트에 아래의 데이터가 저장되어 있다고 가정했을 때, 반복문을 이용하여 아래와 같이 출력하시오."
   ]
  },
  {
   "cell_type": "code",
   "execution_count": null,
   "id": "a0e66a05",
   "metadata": {},
   "outputs": [],
   "source": [
    "# 1"
   ]
  },
  {
   "cell_type": "code",
   "execution_count": null,
   "id": "5fceeb2b",
   "metadata": {},
   "outputs": [],
   "source": [
    "even_list = list(filter(lambda x : x if x%2 == 0 else \"\", range(1, 100)))"
   ]
  },
  {
   "cell_type": "code",
   "execution_count": null,
   "id": "4304ddc0",
   "metadata": {},
   "outputs": [],
   "source": [
    "even_list"
   ]
  },
  {
   "cell_type": "code",
   "execution_count": null,
   "id": "a03e9980",
   "metadata": {},
   "outputs": [],
   "source": [
    "# 2"
   ]
  },
  {
   "cell_type": "code",
   "execution_count": null,
   "id": "900cf7a1",
   "metadata": {},
   "outputs": [],
   "source": [
    "for i in range(1, 50) :\n",
    "    if i%5 == 0 : print(i)"
   ]
  },
  {
   "cell_type": "code",
   "execution_count": null,
   "id": "0d9aa723",
   "metadata": {},
   "outputs": [],
   "source": [
    "# 3\n",
    "price_list = [32100, 32150, 32000, 32500]\n",
    "j = 0\n",
    "for i in price_list : \n",
    "    print(str(j) + \" \" + str(i))\n",
    "    j += 1"
   ]
  },
  {
   "cell_type": "code",
   "execution_count": null,
   "id": "ab84ccfe",
   "metadata": {},
   "outputs": [],
   "source": [
    "#gugudan = list(filter(lambda x : x if x%2 == 0 else \"\", range(1, 100)))\n",
    "#gugudan = [1* i for i in range(1, 10)]\n",
    "gugudan = []\n",
    "for i in range(1, 10) :\n",
    "    gugudan.append([i * j for j in range(1, 10)])\n",
    "gugudan"
   ]
  },
  {
   "cell_type": "code",
   "execution_count": 7,
   "id": "eab5dee5",
   "metadata": {},
   "outputs": [
    {
     "name": "stdout",
     "output_type": "stream",
     "text": [
      "===================\n",
      "차량 번호1011\n",
      "===================\n",
      "차량 번호1022\n",
      "===================\n",
      "차량 번호1201\n",
      "===================\n",
      "차량 번호7202\n",
      "===================\n",
      "차량 번호2301\n",
      "===================\n",
      "차량 번호1302\n"
     ]
    }
   ],
   "source": [
    "car_num = [[1011, 1022], [1201, 7202], [2301, 1302]]\n",
    "for i, j in car_num :\n",
    "    print(\"===================\")\n",
    "    print(\"차량 번호\" + str(i))\n",
    "    print(\"===================\")\n",
    "    print(\"차량 번호\" + str(j))"
   ]
  },
  {
   "cell_type": "code",
   "execution_count": null,
   "id": "19a77abb",
   "metadata": {},
   "outputs": [],
   "source": [
    "# 주민 등록번호 13 자리를 문자열로 입력 받아 받은 주민번호를 기반으로 남성인지 여성인지를 판별하여 반환하는 함수를 작성하시오."
   ]
  },
  {
   "cell_type": "code",
   "execution_count": null,
   "id": "c95047b2",
   "metadata": {},
   "outputs": [],
   "source": [
    "# 다음 데이터를 함수 내에 딕셔너리 형태로 저장한 다음, 함수의 매개변수 입력으로 딕셔너리의 키에 해당하는 문자열을 받으면, 키에 해당하는 값을 반환하는 함수를 작성하시오"
   ]
  },
  {
   "cell_type": "code",
   "execution_count": null,
   "id": "79054c6c",
   "metadata": {},
   "outputs": [],
   "source": [
    "# 휴대전화 번호를 문자열 형태로 함수의 매개변수로 입력 받으면, 휴대전화 4개의 뒤자리를 ####으로 바꾸어 반환하는 함수를 작성하시오."
   ]
  },
  {
   "cell_type": "code",
   "execution_count": null,
   "id": "7fdc55bc",
   "metadata": {},
   "outputs": [],
   "source": [
    "#1\n",
    "def psCode() :\n",
    "    code = input(\"주민등록번호를 입력해주세요.\")\n",
    "    gender = code[7:8]\n",
    "    if gender == '2' :\n",
    "        print(\"여성\")\n",
    "    else :\n",
    "        print(\"남성\")"
   ]
  },
  {
   "cell_type": "code",
   "execution_count": null,
   "id": "eacc6b04",
   "metadata": {},
   "outputs": [],
   "source": [
    "psCode()"
   ]
  },
  {
   "cell_type": "code",
   "execution_count": null,
   "id": "4a7418c2",
   "metadata": {},
   "outputs": [],
   "source": [
    "def findValue() :\n",
    "    phones = {\"s5\" : 2012, \"s7\" : 2016, \"note8\" : 2017, \"s9\" : 2018, \"s10\" : 2019}\n",
    "    key = input(\"입력(문자열) : \")\n",
    "    print(phones[key])"
   ]
  },
  {
   "cell_type": "code",
   "execution_count": null,
   "id": "ed02a1ad",
   "metadata": {},
   "outputs": [],
   "source": [
    "findValue()"
   ]
  },
  {
   "cell_type": "code",
   "execution_count": null,
   "id": "ba1e09b4",
   "metadata": {},
   "outputs": [],
   "source": [
    "#3\n",
    "def replaceEscp() :\n",
    "    number = input(\"입력(문자열) : \")\n",
    "    replace = number[0:9]\n",
    "    replace += \"####\"\n",
    "    print(replace)"
   ]
  },
  {
   "cell_type": "code",
   "execution_count": null,
   "id": "e0801c45",
   "metadata": {},
   "outputs": [],
   "source": [
    "replaceEscp()"
   ]
  },
  {
   "cell_type": "code",
   "execution_count": null,
   "id": "414dd132",
   "metadata": {},
   "outputs": [],
   "source": [
    "table_list = []\n",
    "for i in range(1, 10) :  # 단수\n",
    "        i = []\n",
    "        for j in range(1, 10) : # 곱하는 수\n",
    "            i.append(i * j)\n",
    "        table_list.append(i)"
   ]
  },
  {
   "cell_type": "code",
   "execution_count": null,
   "id": "0cd3482e",
   "metadata": {},
   "outputs": [],
   "source": [
    "table_list"
   ]
  },
  {
   "cell_type": "code",
   "execution_count": 2,
   "id": "9ef85d05",
   "metadata": {},
   "outputs": [],
   "source": [
    "#replace, split"
   ]
  },
  {
   "cell_type": "code",
   "execution_count": 3,
   "id": "4ef2206d",
   "metadata": {},
   "outputs": [],
   "source": [
    "a = '탑, 정글, 미드, 원딜, 서폿'"
   ]
  },
  {
   "cell_type": "code",
   "execution_count": 4,
   "id": "ec99f24e",
   "metadata": {},
   "outputs": [
    {
     "data": {
      "text/plain": [
       "['탑', ' 정글', ' 미드', ' 원딜', ' 서폿']"
      ]
     },
     "execution_count": 4,
     "metadata": {},
     "output_type": "execute_result"
    }
   ],
   "source": [
    "a.split(',')"
   ]
  },
  {
   "cell_type": "code",
   "execution_count": 5,
   "id": "c752897e",
   "metadata": {},
   "outputs": [
    {
     "data": {
      "text/plain": [
       "'탑, 정글, 미드, 원딜, 서폿'"
      ]
     },
     "execution_count": 5,
     "metadata": {},
     "output_type": "execute_result"
    }
   ],
   "source": [
    "a"
   ]
  },
  {
   "cell_type": "code",
   "execution_count": 6,
   "id": "33710ef5",
   "metadata": {},
   "outputs": [
    {
     "data": {
      "text/plain": [
       "'탑, 정글, 미드, 바텀, 서폿'"
      ]
     },
     "execution_count": 6,
     "metadata": {},
     "output_type": "execute_result"
    }
   ],
   "source": [
    "a.replace('원딜', '바텀')"
   ]
  },
  {
   "cell_type": "code",
   "execution_count": null,
   "id": "5e89dfc0",
   "metadata": {},
   "outputs": [],
   "source": []
  }
 ],
 "metadata": {
  "kernelspec": {
   "display_name": "Python 3 (ipykernel)",
   "language": "python",
   "name": "python3"
  },
  "language_info": {
   "codemirror_mode": {
    "name": "ipython",
    "version": 3
   },
   "file_extension": ".py",
   "mimetype": "text/x-python",
   "name": "python",
   "nbconvert_exporter": "python",
   "pygments_lexer": "ipython3",
   "version": "3.9.13"
  }
 },
 "nbformat": 4,
 "nbformat_minor": 5
}
