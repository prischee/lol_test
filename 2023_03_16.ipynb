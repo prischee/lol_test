{
 "cells": [
  {
   "cell_type": "markdown",
   "source": [
    "### 원시 데이터인 df 넣어서 output => match, timelines 데이터가 있는 df 만들기\n",
    "### 컬럼 = ['gameId','gameDuration','gameVersion','summonerName','summonerLevel','participantId','championName', 'champExperience','teamPosition','teamId','win','kills','deaths','assists', 'totalDamageDealtToChampions','totalDamageTaken']\n",
    "### timeline_df [,'g5','g6' ~ 'g25'] => 25분까지 안 가는 게임 0으로 넣기\n",
    "### pk 값 - (match_id, participantId)"
   ],
   "metadata": {
    "collapsed": false
   }
  },
  {
   "cell_type": "code",
   "execution_count": 1,
   "outputs": [],
   "source": [
    "import requests\n",
    "import pandas as pd\n",
    "from tqdm import tqdm\n",
    "import my_utils as mu\n",
    "import time\n",
    "import random"
   ],
   "metadata": {
    "collapsed": false
   }
  },
  {
   "cell_type": "code",
   "execution_count": 2,
   "outputs": [],
   "source": [
    "riot_api_key = mu.riot_api_key\n",
    "division_list = ['I', 'II', 'III', 'IV']"
   ],
   "metadata": {
    "collapsed": false
   }
  },
  {
   "cell_type": "code",
   "execution_count": 3,
   "outputs": [
    {
     "data": {
      "text/plain": "'RGAPI-65c33668-88f0-4cf3-ad54-83f88fbdd49a'"
     },
     "execution_count": 3,
     "metadata": {},
     "output_type": "execute_result"
    }
   ],
   "source": [
    "riot_api_key"
   ],
   "metadata": {
    "collapsed": false
   }
  },
  {
   "cell_type": "code",
   "execution_count": null,
   "outputs": [],
   "source": [
    "def get_rawdata(tier) :\n",
    "    lst = []\n",
    "    page = mu.rand()\n",
    "    for i in range(len(division_list)) :\n",
    "        url = f'https://kr.api.riotgames.com/lol/league/v4/entries/RANKED_SOLO_5x5/{tier}/{division_list[i]}?page=1&api_key={riot_api_key}'\n",
    "        res = requests.get(url).json()\n",
    "        lst += random.sample(res, 5)\n",
    "    summoner_lst = list(map(lambda x : x['summonerName'], lst))\n",
    "    df_lst = []\n",
    "    for s in tqdm(summoner_lst) :\n",
    "        puuid = mu.get_puuid(s)\n",
    "        match_ids = mu.get_match_id(puuid, 3)\n",
    "        for match_id in match_ids :\n",
    "            matches, timelines = mu.get_matches_timelines(match_id)\n",
    "            match_timelines_lst = [match_id, matches, timelines]\n",
    "            df_lst.append(match_timelines_lst)\n",
    "        time.sleep(3)\n",
    "    df = pd.DataFrame(df_lst, columns=['match_id', 'matches', 'timelines'])\n",
    "    return df"
   ],
   "metadata": {
    "collapsed": false
   }
  },
  {
   "cell_type": "code",
   "execution_count": 4,
   "outputs": [
    {
     "name": "stderr",
     "output_type": "stream",
     "text": [
      "100%|██████████| 20/20 [01:53<00:00,  5.69s/it]\n"
     ]
    }
   ],
   "source": [
    "raw_data = mu.get_rawdata('GOLD')"
   ],
   "metadata": {
    "collapsed": false
   }
  },
  {
   "cell_type": "code",
   "execution_count": null,
   "outputs": [],
   "source": [
    "def get_match_timeline_df(df) :\n",
    "    df_creator = []\n",
    "    print('소환사 스텟 생성 중...')\n",
    "    for i in range(len(df)) :\n",
    "        print(i)\n",
    "        if 'status' in raw_data.iloc[i]['matches'].keys() or 'status' in  raw_data.iloc[i]['timelines'].keys():\n",
    "            print('status : 426')\n",
    "        else :\n",
    "            for j in range(len(raw_data.iloc[i]['matches']['info']['participants'])) :\n",
    "                lst_match = []\n",
    "                participantId = raw_data.iloc[i]['matches']['info']['participants'][j]['participantId']\n",
    "                lst_match.append(raw_data.iloc[i]['matches']['info']['gameId'])\n",
    "                lst_match.append(raw_data.iloc[i]['matches']['info']['gameDuration'])\n",
    "                lst_match.append(raw_data.iloc[i]['matches']['info']['gameVersion'])\n",
    "                lst_match.append(raw_data.iloc[i]['matches']['info']['participants'][j]['summonerName'])\n",
    "                lst_match.append(raw_data.iloc[i]['matches']['info']['participants'][j]['summonerLevel'])\n",
    "                lst_match.append(raw_data.iloc[i]['matches']['info']['participants'][j]['participantId'])\n",
    "                lst_match.append(raw_data.iloc[i]['matches']['info']['participants'][j]['championName'])\n",
    "                lst_match.append(raw_data.iloc[i]['matches']['info']['participants'][j]['champExperience'])\n",
    "                lst_match.append(raw_data.iloc[i]['matches']['info']['participants'][j]['teamPosition'])\n",
    "                lst_match.append(raw_data.iloc[i]['matches']['info']['participants'][j]['teamId'])\n",
    "                lst_match.append(raw_data.iloc[i]['matches']['info']['participants'][j]['win'])\n",
    "                lst_match.append(raw_data.iloc[i]['matches']['info']['participants'][j]['kills'])\n",
    "                lst_match.append(raw_data.iloc[i]['matches']['info']['participants'][j]['deaths'])\n",
    "                lst_match.append(raw_data.iloc[i]['matches']['info']['participants'][j]['assists'])\n",
    "                lst_match.append(raw_data.iloc[i]['matches']['info']['participants'][j]['totalDamageDealtToChampions'])\n",
    "                lst_match.append(raw_data.iloc[i]['matches']['info']['participants'][j]['totalDamageTaken'])\n",
    "                print('participantId : ', participantId)\n",
    "                if len(raw_data.iloc[i]['timelines']['info']['frames']) < 25 :\n",
    "                    for k in range(4, 25) :\n",
    "                        if k < len(raw_data.iloc[i]['timelines']['info']['frames']) :\n",
    "                            lst_match.append(raw_data.iloc[i]['timelines']['info']['frames'][k]['participantFrames'][str(participantId)]['totalGold'])\n",
    "                        else :\n",
    "                            lst_match.append(0)\n",
    "                else :\n",
    "                    for k in range(4, 25) :\n",
    "                        print('k : ', k)\n",
    "                        lst_match.append(raw_data.iloc[i]['timelines']['info']['frames'][k]['participantFrames'][str(participantId)]['totalGold'])\n",
    "                df_creator.append(lst_match)\n",
    "    my_df = pd.DataFrame(df_creator, columns=['gameId', 'gameDuration', 'gameVersion', 'summonerName', 'summonerLevel', 'participantId', 'championName', 'champExperience', 'teamPosition', 'teamId', 'win', 'kills', 'deaths', 'assists', 'totalDamageDealtToChampions', 'totalDamageTaken', 'g5', 'g6', 'g7', 'g8', 'g9', 'g10', 'g11', 'g12', 'g13', 'g14', 'g15', 'g16', 'g17', 'g18', 'g19', 'g20', 'g21', 'g22', 'g23', 'g24', 'g25'])\n",
    "    return my_df"
   ],
   "metadata": {
    "collapsed": false
   }
  },
  {
   "cell_type": "code",
   "execution_count": 47,
   "outputs": [
    {
     "ename": "AttributeError",
     "evalue": "module 'my_utils' has no attribute 'get_match_timeline_df'",
     "output_type": "error",
     "traceback": [
      "\u001B[1;31m---------------------------------------------------------------------------\u001B[0m",
      "\u001B[1;31mAttributeError\u001B[0m                            Traceback (most recent call last)",
      "Cell \u001B[1;32mIn[47], line 1\u001B[0m\n\u001B[1;32m----> 1\u001B[0m lol_df \u001B[38;5;241m=\u001B[39m \u001B[43mmu\u001B[49m\u001B[38;5;241;43m.\u001B[39;49m\u001B[43mget_match_timeline_df\u001B[49m(raw_data)\n\u001B[0;32m      2\u001B[0m \u001B[38;5;66;03m#lol_df = get_match_timeline_df(raw_data)\u001B[39;00m\n",
      "\u001B[1;31mAttributeError\u001B[0m: module 'my_utils' has no attribute 'get_match_timeline_df'"
     ]
    }
   ],
   "source": [
    "lol_df = mu.get_match_timeline_df(raw_data)\n",
    "#lol_df = get_match_timeline_df(raw_data)"
   ],
   "metadata": {
    "collapsed": false
   }
  },
  {
   "cell_type": "code",
   "execution_count": null,
   "outputs": [],
   "source": [
    "raw_data.iloc[9]['timelines'].keys()\n",
    "len(raw_data.iloc[9]['timelines']['info']['frames'])\n",
    "#raw_data.iloc[i]['timelines']['info']['frames'][9]['participantFrames'][str(participantId)]['totalGold']"
   ],
   "metadata": {
    "collapsed": false
   }
  },
  {
   "cell_type": "code",
   "execution_count": null,
   "outputs": [],
   "source": [
    "lol_df"
   ],
   "metadata": {
    "collapsed": false
   }
  },
  {
   "cell_type": "code",
   "execution_count": null,
   "outputs": [],
   "source": [
    "mu.db_open()"
   ],
   "metadata": {
    "collapsed": false
   }
  },
  {
   "cell_type": "code",
   "execution_count": null,
   "outputs": [],
   "source": [
    "query = \"\"\"\n",
    "CREATE TABLE LOL_PROJ(gameId VARCHAR(20), gameDuration VARCHAR(30), gameVersion VARCHAR(30), summonerName VARCHAR(80), summonerLevel NUMBER(20), participantId NUMBER(20), championName VARCHAR(30), champExperience NUMBER(20), teamPosition VARCHAR(30), teamId NUMBER(20), win VARCHAR(30), kills NUMBER(20), deaths NUMBER(20), assists NUMBER(20), totalDamageDealtToChampions NUMBER(20), totalDamageTaken NUMBER(20), g5 NUMBER(20), g6 NUMBER(20), g7 NUMBER(20), g8 NUMBER(20), g9 NUMBER(20), g10 NUMBER(20), g11 NUMBER(20), g12 NUMBER(20), g13 NUMBER(20), g14 NUMBER(20), g15 NUMBER(20), g16 NUMBER(20), g17 NUMBER(20), g18 NUMBER(20), g19 NUMBER(20), g20 NUMBER(20), g21 NUMBER(20), g22 NUMBER(20), g23 NUMBER(20), g24 NUMBER(20), g25 NUMBER(20), constraint m_pk primary key(gameId,participantId)\n",
    ")\n",
    "\"\"\""
   ],
   "metadata": {
    "collapsed": false
   }
  },
  {
   "cell_type": "code",
   "execution_count": null,
   "outputs": [],
   "source": [
    "mu.oracle_execute(query)"
   ],
   "metadata": {
    "collapsed": false
   }
  },
  {
   "cell_type": "code",
   "execution_count": null,
   "outputs": [],
   "source": [
    "mu.oracle_close()"
   ],
   "metadata": {
    "collapsed": false
   }
  },
  {
   "cell_type": "code",
   "execution_count": null,
   "outputs": [],
   "source": [
    "def insert(df) :\n",
    "    query = (\n",
    "        f'insert into lol_proj (gameId, gameDuration, gameVersion, summonerName, summonerLevel, participantId, championName, champExperience, teamPosition, teamId, win, kills, deaths, assists, totalDamageDealtToChampions, totalDamageTaken, g5, g6, g7, g8, g9, g10, g11, g12, g13, g14, g15, g16, g17, g18, g19, g20, g21, g22, g23, g24, g25)'\n",
    "        f' values ({repr(df.gameId)}, {repr(df.gameDuration)}, {repr(df.gameVersion)}, {repr(df.summonerName)}, {df.summonerLevel}, {df.participantId}, {repr(df.championName)}, {df.champExperience}, {repr(df.teamPosition)}, {df.teamId}, {repr(str(df.win))}, {df.kills}, {df.deaths}, {df.assists}, {df.totalDamageDealtToChampions}, {df.totalDamageTaken}, {df.g5}, {df.g6}, {df.g7}, {df.g8}, {df.g9}, {df.g10}, {df.g11}, {df.g12}, {df.g13}, {df.g14}, {df.g15}, {df.g16}, {df.g17}, {df.g18}, {df.g19}, {df.g20}, {df.g21}, {df.g22}, {df.g23}, {df.g24}, {df.g25})'\n",
    "    )\n",
    "    mu.oracle_execute(query)\n",
    "    return"
   ],
   "metadata": {
    "collapsed": false
   }
  },
  {
   "cell_type": "code",
   "execution_count": null,
   "outputs": [],
   "source": [
    "mu.db_open()"
   ],
   "metadata": {
    "collapsed": false
   }
  },
  {
   "cell_type": "code",
   "execution_count": null,
   "outputs": [],
   "source": [
    "tqdm.pandas()\n",
    "lol_df.progress_apply(lambda x : insert(x), axis = 1)"
   ],
   "metadata": {
    "collapsed": false
   }
  },
  {
   "cell_type": "code",
   "execution_count": null,
   "outputs": [],
   "source": [
    "mu.oracle_close()"
   ],
   "metadata": {
    "collapsed": false
   }
  },
  {
   "cell_type": "code",
   "execution_count": null,
   "outputs": [],
   "source": [
    "f'MERGE INTO lol_datas USING DUAL ON(gameId=\\'{df.gameId}\\' and participantId={df.participantId}) '\n",
    "             f'WHEN NOT MATCHED THEN '\n",
    "             f'insert"
   ],
   "metadata": {
    "collapsed": false
   }
  }
 ],
 "metadata": {
  "kernelspec": {
   "display_name": "Python 3",
   "language": "python",
   "name": "python3"
  },
  "language_info": {
   "codemirror_mode": {
    "name": "ipython",
    "version": 2
   },
   "file_extension": ".py",
   "mimetype": "text/x-python",
   "name": "python",
   "nbconvert_exporter": "python",
   "pygments_lexer": "ipython2",
   "version": "2.7.6"
  }
 },
 "nbformat": 4,
 "nbformat_minor": 0
}
