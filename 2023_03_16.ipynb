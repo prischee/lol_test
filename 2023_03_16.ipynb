{
 "cells": [
  {
   "cell_type": "markdown",
   "source": [
    "### 원시 데이터인 df 넣어서 output => match, timelines 데이터가 있는 df 만들기\n",
    "### 컬럼 = ['gameId','gameDuration','gameVersion','summonerName','summonerLevel','participantId','championName', 'champExperience','teamPosition','teamId','win','kills','deaths','assists', 'totalDamageDealtToChampions','totalDamageTaken']\n",
    "### timeline_df [,'g5','g6' ~ 'g25'] => 25분까지 안 가는 게임 0으로 넣기\n",
    "### pk 값 - (match_id, participantId)"
   ],
   "metadata": {
    "collapsed": false
   }
  },
  {
   "cell_type": "code",
   "execution_count": 2,
   "outputs": [],
   "source": [
    "import requests\n",
    "import pandas as pd\n",
    "from tqdm import tqdm\n",
    "import my_utils as mu\n",
    "import time\n",
    "import random"
   ],
   "metadata": {
    "collapsed": false
   }
  },
  {
   "cell_type": "code",
   "execution_count": 3,
   "outputs": [],
   "source": [
    "riot_api_key = mu.riot_api_key\n",
    "division_list = ['I', 'II', 'III', 'IV']"
   ],
   "metadata": {
    "collapsed": false
   }
  },
  {
   "cell_type": "code",
   "execution_count": 30,
   "outputs": [],
   "source": [
    "def get_rawdata(tier) :\n",
    "    lst = []\n",
    "    page = mu.rand()\n",
    "    for i in range(len(division_list)) :\n",
    "        url = f'https://kr.api.riotgames.com/lol/league/v4/entries/RANKED_SOLO_5x5/{tier}/{division_list[i]}?page=1&api_key={riot_api_key}'\n",
    "        res = requests.get(url).json()\n",
    "        lst += random.sample(res, 5)\n",
    "    summoner_lst = list(map(lambda x : x['summonerName'], lst))\n",
    "    df_lst = []\n",
    "    for s in tqdm(summoner_lst) :\n",
    "        puuid = mu.get_puuid(s)\n",
    "        match_ids = mu.get_match_id(puuid, 3)\n",
    "        for match_id in match_ids :\n",
    "            matches, timelines = mu.get_matches_timelines(match_id)\n",
    "            match_timelines_lst = [match_id, matches, timelines]\n",
    "            df_lst.append(match_timelines_lst)\n",
    "        time.sleep(3)\n",
    "    df = pd.DataFrame(df_lst, columns=['match_id', 'matches', 'timelines'])\n",
    "    return df"
   ],
   "metadata": {
    "collapsed": false
   }
  },
  {
   "cell_type": "code",
   "execution_count": 31,
   "outputs": [
    {
     "name": "stderr",
     "output_type": "stream",
     "text": [
      "100%|██████████| 20/20 [01:57<00:00,  5.87s/it]\n"
     ]
    }
   ],
   "source": [
    "raw_data = get_rawdata('GOLD')"
   ],
   "metadata": {
    "collapsed": false
   }
  },
  {
   "cell_type": "code",
   "execution_count": 32,
   "outputs": [
    {
     "data": {
      "text/plain": "         match_id                                            matches  \\\n0   KR_6403910964  {'metadata': {'dataVersion': '2', 'matchId': '...   \n1   KR_6403882339  {'metadata': {'dataVersion': '2', 'matchId': '...   \n2   KR_6394093338  {'metadata': {'dataVersion': '2', 'matchId': '...   \n3   KR_6383294168  {'metadata': {'dataVersion': '2', 'matchId': '...   \n4   KR_6383234468  {'metadata': {'dataVersion': '2', 'matchId': '...   \n5   KR_6383198127  {'metadata': {'dataVersion': '2', 'matchId': '...   \n6   KR_6307587705  {'metadata': {'dataVersion': '2', 'matchId': '...   \n7   KR_6307544140  {'metadata': {'dataVersion': '2', 'matchId': '...   \n8   KR_6305218117  {'metadata': {'dataVersion': '2', 'matchId': '...   \n9   KR_6365309615  {'metadata': {'dataVersion': '2', 'matchId': '...   \n10  KR_6338693422  {'metadata': {'dataVersion': '2', 'matchId': '...   \n11  KR_6338568404  {'metadata': {'dataVersion': '2', 'matchId': '...   \n12  KR_6375298403  {'metadata': {'dataVersion': '2', 'matchId': '...   \n13  KR_6368521059  {'metadata': {'dataVersion': '2', 'matchId': '...   \n14  KR_6368453205  {'metadata': {'dataVersion': '2', 'matchId': '...   \n15  KR_6401219411  {'metadata': {'dataVersion': '2', 'matchId': '...   \n16  KR_6401136693  {'metadata': {'dataVersion': '2', 'matchId': '...   \n17  KR_6401033740  {'metadata': {'dataVersion': '2', 'matchId': '...   \n18  KR_6363932544  {'metadata': {'dataVersion': '2', 'matchId': '...   \n19  KR_6363865245  {'metadata': {'dataVersion': '2', 'matchId': '...   \n20  KR_6363790743  {'metadata': {'dataVersion': '2', 'matchId': '...   \n21  KR_6397867559  {'metadata': {'dataVersion': '2', 'matchId': '...   \n22  KR_6391883938  {'metadata': {'dataVersion': '2', 'matchId': '...   \n23  KR_6391843975  {'metadata': {'dataVersion': '2', 'matchId': '...   \n24  KR_6397660658  {'metadata': {'dataVersion': '2', 'matchId': '...   \n25  KR_6397626548  {'metadata': {'dataVersion': '2', 'matchId': '...   \n26  KR_6384214007  {'metadata': {'dataVersion': '2', 'matchId': '...   \n27  KR_6359733453  {'metadata': {'dataVersion': '2', 'matchId': '...   \n28  KR_6359654366  {'metadata': {'dataVersion': '2', 'matchId': '...   \n29  KR_6359552588  {'metadata': {'dataVersion': '2', 'matchId': '...   \n30  KR_6406404432  {'metadata': {'dataVersion': '2', 'matchId': '...   \n31  KR_6406372217  {'metadata': {'dataVersion': '2', 'matchId': '...   \n32  KR_6406327255  {'metadata': {'dataVersion': '2', 'matchId': '...   \n33  KR_6404573295  {'metadata': {'dataVersion': '2', 'matchId': '...   \n34  KR_6404558517  {'metadata': {'dataVersion': '2', 'matchId': '...   \n35  KR_6401383874  {'metadata': {'dataVersion': '2', 'matchId': '...   \n36  KR_6399952382  {'metadata': {'dataVersion': '2', 'matchId': '...   \n37  KR_6398557506  {'metadata': {'dataVersion': '2', 'matchId': '...   \n38  KR_6398556050  {'metadata': {'dataVersion': '2', 'matchId': '...   \n39  KR_6397129571  {'metadata': {'dataVersion': '2', 'matchId': '...   \n40  KR_6397089399  {'metadata': {'dataVersion': '2', 'matchId': '...   \n41  KR_6397009963  {'metadata': {'dataVersion': '2', 'matchId': '...   \n42  KR_6400969676  {'metadata': {'dataVersion': '2', 'matchId': '...   \n43  KR_6400902586  {'status': {'message': 'Rate limit exceeded', ...   \n44  KR_6400850466  {'status': {'message': 'Rate limit exceeded', ...   \n45         status  {'status': {'message': 'Rate limit exceeded', ...   \n46         status  {'status': {'message': 'Rate limit exceeded', ...   \n47         status  {'status': {'message': 'Rate limit exceeded', ...   \n48         status  {'status': {'message': 'Rate limit exceeded', ...   \n49         status  {'status': {'message': 'Rate limit exceeded', ...   \n\n                                            timelines  \n0   {'metadata': {'dataVersion': '2', 'matchId': '...  \n1   {'metadata': {'dataVersion': '2', 'matchId': '...  \n2   {'metadata': {'dataVersion': '2', 'matchId': '...  \n3   {'metadata': {'dataVersion': '2', 'matchId': '...  \n4   {'metadata': {'dataVersion': '2', 'matchId': '...  \n5   {'metadata': {'dataVersion': '2', 'matchId': '...  \n6   {'metadata': {'dataVersion': '2', 'matchId': '...  \n7   {'metadata': {'dataVersion': '2', 'matchId': '...  \n8   {'metadata': {'dataVersion': '2', 'matchId': '...  \n9   {'metadata': {'dataVersion': '2', 'matchId': '...  \n10  {'metadata': {'dataVersion': '2', 'matchId': '...  \n11  {'metadata': {'dataVersion': '2', 'matchId': '...  \n12  {'metadata': {'dataVersion': '2', 'matchId': '...  \n13  {'metadata': {'dataVersion': '2', 'matchId': '...  \n14  {'metadata': {'dataVersion': '2', 'matchId': '...  \n15  {'metadata': {'dataVersion': '2', 'matchId': '...  \n16  {'metadata': {'dataVersion': '2', 'matchId': '...  \n17  {'metadata': {'dataVersion': '2', 'matchId': '...  \n18  {'metadata': {'dataVersion': '2', 'matchId': '...  \n19  {'metadata': {'dataVersion': '2', 'matchId': '...  \n20  {'metadata': {'dataVersion': '2', 'matchId': '...  \n21  {'metadata': {'dataVersion': '2', 'matchId': '...  \n22  {'metadata': {'dataVersion': '2', 'matchId': '...  \n23  {'metadata': {'dataVersion': '2', 'matchId': '...  \n24  {'metadata': {'dataVersion': '2', 'matchId': '...  \n25  {'metadata': {'dataVersion': '2', 'matchId': '...  \n26  {'metadata': {'dataVersion': '2', 'matchId': '...  \n27  {'metadata': {'dataVersion': '2', 'matchId': '...  \n28  {'metadata': {'dataVersion': '2', 'matchId': '...  \n29  {'metadata': {'dataVersion': '2', 'matchId': '...  \n30  {'metadata': {'dataVersion': '2', 'matchId': '...  \n31  {'metadata': {'dataVersion': '2', 'matchId': '...  \n32  {'metadata': {'dataVersion': '2', 'matchId': '...  \n33  {'metadata': {'dataVersion': '2', 'matchId': '...  \n34  {'metadata': {'dataVersion': '2', 'matchId': '...  \n35  {'metadata': {'dataVersion': '2', 'matchId': '...  \n36  {'metadata': {'dataVersion': '2', 'matchId': '...  \n37  {'metadata': {'dataVersion': '2', 'matchId': '...  \n38  {'metadata': {'dataVersion': '2', 'matchId': '...  \n39  {'metadata': {'dataVersion': '2', 'matchId': '...  \n40  {'metadata': {'dataVersion': '2', 'matchId': '...  \n41  {'metadata': {'dataVersion': '2', 'matchId': '...  \n42  {'status': {'message': 'Rate limit exceeded', ...  \n43  {'status': {'message': 'Rate limit exceeded', ...  \n44  {'status': {'message': 'Rate limit exceeded', ...  \n45  {'status': {'message': 'Rate limit exceeded', ...  \n46  {'status': {'message': 'Rate limit exceeded', ...  \n47  {'status': {'message': 'Rate limit exceeded', ...  \n48  {'status': {'message': 'Rate limit exceeded', ...  \n49  {'status': {'message': 'Rate limit exceeded', ...  ",
      "text/html": "<div>\n<style scoped>\n    .dataframe tbody tr th:only-of-type {\n        vertical-align: middle;\n    }\n\n    .dataframe tbody tr th {\n        vertical-align: top;\n    }\n\n    .dataframe thead th {\n        text-align: right;\n    }\n</style>\n<table border=\"1\" class=\"dataframe\">\n  <thead>\n    <tr style=\"text-align: right;\">\n      <th></th>\n      <th>match_id</th>\n      <th>matches</th>\n      <th>timelines</th>\n    </tr>\n  </thead>\n  <tbody>\n    <tr>\n      <th>0</th>\n      <td>KR_6403910964</td>\n      <td>{'metadata': {'dataVersion': '2', 'matchId': '...</td>\n      <td>{'metadata': {'dataVersion': '2', 'matchId': '...</td>\n    </tr>\n    <tr>\n      <th>1</th>\n      <td>KR_6403882339</td>\n      <td>{'metadata': {'dataVersion': '2', 'matchId': '...</td>\n      <td>{'metadata': {'dataVersion': '2', 'matchId': '...</td>\n    </tr>\n    <tr>\n      <th>2</th>\n      <td>KR_6394093338</td>\n      <td>{'metadata': {'dataVersion': '2', 'matchId': '...</td>\n      <td>{'metadata': {'dataVersion': '2', 'matchId': '...</td>\n    </tr>\n    <tr>\n      <th>3</th>\n      <td>KR_6383294168</td>\n      <td>{'metadata': {'dataVersion': '2', 'matchId': '...</td>\n      <td>{'metadata': {'dataVersion': '2', 'matchId': '...</td>\n    </tr>\n    <tr>\n      <th>4</th>\n      <td>KR_6383234468</td>\n      <td>{'metadata': {'dataVersion': '2', 'matchId': '...</td>\n      <td>{'metadata': {'dataVersion': '2', 'matchId': '...</td>\n    </tr>\n    <tr>\n      <th>5</th>\n      <td>KR_6383198127</td>\n      <td>{'metadata': {'dataVersion': '2', 'matchId': '...</td>\n      <td>{'metadata': {'dataVersion': '2', 'matchId': '...</td>\n    </tr>\n    <tr>\n      <th>6</th>\n      <td>KR_6307587705</td>\n      <td>{'metadata': {'dataVersion': '2', 'matchId': '...</td>\n      <td>{'metadata': {'dataVersion': '2', 'matchId': '...</td>\n    </tr>\n    <tr>\n      <th>7</th>\n      <td>KR_6307544140</td>\n      <td>{'metadata': {'dataVersion': '2', 'matchId': '...</td>\n      <td>{'metadata': {'dataVersion': '2', 'matchId': '...</td>\n    </tr>\n    <tr>\n      <th>8</th>\n      <td>KR_6305218117</td>\n      <td>{'metadata': {'dataVersion': '2', 'matchId': '...</td>\n      <td>{'metadata': {'dataVersion': '2', 'matchId': '...</td>\n    </tr>\n    <tr>\n      <th>9</th>\n      <td>KR_6365309615</td>\n      <td>{'metadata': {'dataVersion': '2', 'matchId': '...</td>\n      <td>{'metadata': {'dataVersion': '2', 'matchId': '...</td>\n    </tr>\n    <tr>\n      <th>10</th>\n      <td>KR_6338693422</td>\n      <td>{'metadata': {'dataVersion': '2', 'matchId': '...</td>\n      <td>{'metadata': {'dataVersion': '2', 'matchId': '...</td>\n    </tr>\n    <tr>\n      <th>11</th>\n      <td>KR_6338568404</td>\n      <td>{'metadata': {'dataVersion': '2', 'matchId': '...</td>\n      <td>{'metadata': {'dataVersion': '2', 'matchId': '...</td>\n    </tr>\n    <tr>\n      <th>12</th>\n      <td>KR_6375298403</td>\n      <td>{'metadata': {'dataVersion': '2', 'matchId': '...</td>\n      <td>{'metadata': {'dataVersion': '2', 'matchId': '...</td>\n    </tr>\n    <tr>\n      <th>13</th>\n      <td>KR_6368521059</td>\n      <td>{'metadata': {'dataVersion': '2', 'matchId': '...</td>\n      <td>{'metadata': {'dataVersion': '2', 'matchId': '...</td>\n    </tr>\n    <tr>\n      <th>14</th>\n      <td>KR_6368453205</td>\n      <td>{'metadata': {'dataVersion': '2', 'matchId': '...</td>\n      <td>{'metadata': {'dataVersion': '2', 'matchId': '...</td>\n    </tr>\n    <tr>\n      <th>15</th>\n      <td>KR_6401219411</td>\n      <td>{'metadata': {'dataVersion': '2', 'matchId': '...</td>\n      <td>{'metadata': {'dataVersion': '2', 'matchId': '...</td>\n    </tr>\n    <tr>\n      <th>16</th>\n      <td>KR_6401136693</td>\n      <td>{'metadata': {'dataVersion': '2', 'matchId': '...</td>\n      <td>{'metadata': {'dataVersion': '2', 'matchId': '...</td>\n    </tr>\n    <tr>\n      <th>17</th>\n      <td>KR_6401033740</td>\n      <td>{'metadata': {'dataVersion': '2', 'matchId': '...</td>\n      <td>{'metadata': {'dataVersion': '2', 'matchId': '...</td>\n    </tr>\n    <tr>\n      <th>18</th>\n      <td>KR_6363932544</td>\n      <td>{'metadata': {'dataVersion': '2', 'matchId': '...</td>\n      <td>{'metadata': {'dataVersion': '2', 'matchId': '...</td>\n    </tr>\n    <tr>\n      <th>19</th>\n      <td>KR_6363865245</td>\n      <td>{'metadata': {'dataVersion': '2', 'matchId': '...</td>\n      <td>{'metadata': {'dataVersion': '2', 'matchId': '...</td>\n    </tr>\n    <tr>\n      <th>20</th>\n      <td>KR_6363790743</td>\n      <td>{'metadata': {'dataVersion': '2', 'matchId': '...</td>\n      <td>{'metadata': {'dataVersion': '2', 'matchId': '...</td>\n    </tr>\n    <tr>\n      <th>21</th>\n      <td>KR_6397867559</td>\n      <td>{'metadata': {'dataVersion': '2', 'matchId': '...</td>\n      <td>{'metadata': {'dataVersion': '2', 'matchId': '...</td>\n    </tr>\n    <tr>\n      <th>22</th>\n      <td>KR_6391883938</td>\n      <td>{'metadata': {'dataVersion': '2', 'matchId': '...</td>\n      <td>{'metadata': {'dataVersion': '2', 'matchId': '...</td>\n    </tr>\n    <tr>\n      <th>23</th>\n      <td>KR_6391843975</td>\n      <td>{'metadata': {'dataVersion': '2', 'matchId': '...</td>\n      <td>{'metadata': {'dataVersion': '2', 'matchId': '...</td>\n    </tr>\n    <tr>\n      <th>24</th>\n      <td>KR_6397660658</td>\n      <td>{'metadata': {'dataVersion': '2', 'matchId': '...</td>\n      <td>{'metadata': {'dataVersion': '2', 'matchId': '...</td>\n    </tr>\n    <tr>\n      <th>25</th>\n      <td>KR_6397626548</td>\n      <td>{'metadata': {'dataVersion': '2', 'matchId': '...</td>\n      <td>{'metadata': {'dataVersion': '2', 'matchId': '...</td>\n    </tr>\n    <tr>\n      <th>26</th>\n      <td>KR_6384214007</td>\n      <td>{'metadata': {'dataVersion': '2', 'matchId': '...</td>\n      <td>{'metadata': {'dataVersion': '2', 'matchId': '...</td>\n    </tr>\n    <tr>\n      <th>27</th>\n      <td>KR_6359733453</td>\n      <td>{'metadata': {'dataVersion': '2', 'matchId': '...</td>\n      <td>{'metadata': {'dataVersion': '2', 'matchId': '...</td>\n    </tr>\n    <tr>\n      <th>28</th>\n      <td>KR_6359654366</td>\n      <td>{'metadata': {'dataVersion': '2', 'matchId': '...</td>\n      <td>{'metadata': {'dataVersion': '2', 'matchId': '...</td>\n    </tr>\n    <tr>\n      <th>29</th>\n      <td>KR_6359552588</td>\n      <td>{'metadata': {'dataVersion': '2', 'matchId': '...</td>\n      <td>{'metadata': {'dataVersion': '2', 'matchId': '...</td>\n    </tr>\n    <tr>\n      <th>30</th>\n      <td>KR_6406404432</td>\n      <td>{'metadata': {'dataVersion': '2', 'matchId': '...</td>\n      <td>{'metadata': {'dataVersion': '2', 'matchId': '...</td>\n    </tr>\n    <tr>\n      <th>31</th>\n      <td>KR_6406372217</td>\n      <td>{'metadata': {'dataVersion': '2', 'matchId': '...</td>\n      <td>{'metadata': {'dataVersion': '2', 'matchId': '...</td>\n    </tr>\n    <tr>\n      <th>32</th>\n      <td>KR_6406327255</td>\n      <td>{'metadata': {'dataVersion': '2', 'matchId': '...</td>\n      <td>{'metadata': {'dataVersion': '2', 'matchId': '...</td>\n    </tr>\n    <tr>\n      <th>33</th>\n      <td>KR_6404573295</td>\n      <td>{'metadata': {'dataVersion': '2', 'matchId': '...</td>\n      <td>{'metadata': {'dataVersion': '2', 'matchId': '...</td>\n    </tr>\n    <tr>\n      <th>34</th>\n      <td>KR_6404558517</td>\n      <td>{'metadata': {'dataVersion': '2', 'matchId': '...</td>\n      <td>{'metadata': {'dataVersion': '2', 'matchId': '...</td>\n    </tr>\n    <tr>\n      <th>35</th>\n      <td>KR_6401383874</td>\n      <td>{'metadata': {'dataVersion': '2', 'matchId': '...</td>\n      <td>{'metadata': {'dataVersion': '2', 'matchId': '...</td>\n    </tr>\n    <tr>\n      <th>36</th>\n      <td>KR_6399952382</td>\n      <td>{'metadata': {'dataVersion': '2', 'matchId': '...</td>\n      <td>{'metadata': {'dataVersion': '2', 'matchId': '...</td>\n    </tr>\n    <tr>\n      <th>37</th>\n      <td>KR_6398557506</td>\n      <td>{'metadata': {'dataVersion': '2', 'matchId': '...</td>\n      <td>{'metadata': {'dataVersion': '2', 'matchId': '...</td>\n    </tr>\n    <tr>\n      <th>38</th>\n      <td>KR_6398556050</td>\n      <td>{'metadata': {'dataVersion': '2', 'matchId': '...</td>\n      <td>{'metadata': {'dataVersion': '2', 'matchId': '...</td>\n    </tr>\n    <tr>\n      <th>39</th>\n      <td>KR_6397129571</td>\n      <td>{'metadata': {'dataVersion': '2', 'matchId': '...</td>\n      <td>{'metadata': {'dataVersion': '2', 'matchId': '...</td>\n    </tr>\n    <tr>\n      <th>40</th>\n      <td>KR_6397089399</td>\n      <td>{'metadata': {'dataVersion': '2', 'matchId': '...</td>\n      <td>{'metadata': {'dataVersion': '2', 'matchId': '...</td>\n    </tr>\n    <tr>\n      <th>41</th>\n      <td>KR_6397009963</td>\n      <td>{'metadata': {'dataVersion': '2', 'matchId': '...</td>\n      <td>{'metadata': {'dataVersion': '2', 'matchId': '...</td>\n    </tr>\n    <tr>\n      <th>42</th>\n      <td>KR_6400969676</td>\n      <td>{'metadata': {'dataVersion': '2', 'matchId': '...</td>\n      <td>{'status': {'message': 'Rate limit exceeded', ...</td>\n    </tr>\n    <tr>\n      <th>43</th>\n      <td>KR_6400902586</td>\n      <td>{'status': {'message': 'Rate limit exceeded', ...</td>\n      <td>{'status': {'message': 'Rate limit exceeded', ...</td>\n    </tr>\n    <tr>\n      <th>44</th>\n      <td>KR_6400850466</td>\n      <td>{'status': {'message': 'Rate limit exceeded', ...</td>\n      <td>{'status': {'message': 'Rate limit exceeded', ...</td>\n    </tr>\n    <tr>\n      <th>45</th>\n      <td>status</td>\n      <td>{'status': {'message': 'Rate limit exceeded', ...</td>\n      <td>{'status': {'message': 'Rate limit exceeded', ...</td>\n    </tr>\n    <tr>\n      <th>46</th>\n      <td>status</td>\n      <td>{'status': {'message': 'Rate limit exceeded', ...</td>\n      <td>{'status': {'message': 'Rate limit exceeded', ...</td>\n    </tr>\n    <tr>\n      <th>47</th>\n      <td>status</td>\n      <td>{'status': {'message': 'Rate limit exceeded', ...</td>\n      <td>{'status': {'message': 'Rate limit exceeded', ...</td>\n    </tr>\n    <tr>\n      <th>48</th>\n      <td>status</td>\n      <td>{'status': {'message': 'Rate limit exceeded', ...</td>\n      <td>{'status': {'message': 'Rate limit exceeded', ...</td>\n    </tr>\n    <tr>\n      <th>49</th>\n      <td>status</td>\n      <td>{'status': {'message': 'Rate limit exceeded', ...</td>\n      <td>{'status': {'message': 'Rate limit exceeded', ...</td>\n    </tr>\n  </tbody>\n</table>\n</div>"
     },
     "execution_count": 32,
     "metadata": {},
     "output_type": "execute_result"
    }
   ],
   "source": [
    "raw_data"
   ],
   "metadata": {
    "collapsed": false
   }
  },
  {
   "cell_type": "markdown",
   "source": [],
   "metadata": {
    "collapsed": false
   }
  },
  {
   "cell_type": "code",
   "execution_count": 437,
   "outputs": [],
   "source": [
    "def get_match_timeline_df(df) :\n",
    "    df_creator = []\n",
    "    print('소환사 스텟 생성 중...')\n",
    "    for i in range(len(df)) :\n",
    "        if 'status' in raw_data.iloc[i]['matches'].keys() or 'status' in  raw_data.iloc[i]['timelines'].keys():\n",
    "            print('status : 426')\n",
    "        else :\n",
    "            for j in range(len(raw_data.iloc[i]['matches']['info']['participants'])) :\n",
    "                lst_match = []\n",
    "                participantId = raw_data.iloc[i]['matches']['info']['participants'][j]['participantId']\n",
    "                lst_match.append(raw_data.iloc[i]['matches']['info']['gameId'])\n",
    "                lst_match.append(raw_data.iloc[i]['matches']['info']['gameDuration'])\n",
    "                lst_match.append(raw_data.iloc[i]['matches']['info']['gameVersion'])\n",
    "                lst_match.append(raw_data.iloc[i]['matches']['info']['participants'][j]['summonerName'])\n",
    "                lst_match.append(raw_data.iloc[i]['matches']['info']['participants'][j]['summonerLevel'])\n",
    "                lst_match.append(raw_data.iloc[i]['matches']['info']['participants'][j]['participantId'])\n",
    "                lst_match.append(raw_data.iloc[i]['matches']['info']['participants'][j]['championName'])\n",
    "                lst_match.append(raw_data.iloc[i]['matches']['info']['participants'][j]['champExperience'])\n",
    "                lst_match.append(raw_data.iloc[i]['matches']['info']['participants'][j]['teamPosition'])\n",
    "                lst_match.append(raw_data.iloc[i]['matches']['info']['participants'][j]['teamId'])\n",
    "                lst_match.append(raw_data.iloc[i]['matches']['info']['participants'][j]['win'])\n",
    "                lst_match.append(raw_data.iloc[i]['matches']['info']['participants'][j]['kills'])\n",
    "                lst_match.append(raw_data.iloc[i]['matches']['info']['participants'][j]['deaths'])\n",
    "                lst_match.append(raw_data.iloc[i]['matches']['info']['participants'][j]['assists'])\n",
    "                lst_match.append(raw_data.iloc[i]['matches']['info']['participants'][j]['totalDamageDealtToChampions'])\n",
    "                lst_match.append(raw_data.iloc[i]['matches']['info']['participants'][j]['totalDamageTaken'])\n",
    "                if len(raw_data.iloc[i]['timelines']['info']['frames']) < 25 :\n",
    "                    for k in range(5, 26) :\n",
    "                        if k < len(raw_data.iloc[i]['timelines']['info']['frames']) :\n",
    "                            lst_match.append(raw_data.iloc[i]['timelines']['info']['frames'][k]['participantFrames'][str(participantId)]['totalGold'])\n",
    "                        else :\n",
    "                            lst_match.append(0)\n",
    "                else :\n",
    "                    for k in range(5, 26) :\n",
    "                        lst_match.append(raw_data.iloc[i]['timelines']['info']['frames'][k]['participantFrames'][str(participantId)]['totalGold'])\n",
    "                df_creator.append(lst_match)\n",
    "    my_df = pd.DataFrame(df_creator, columns=['gameId', 'gameDuration', 'gameVersion', 'summonerName', 'summonerLevel', 'participantId', 'championName', 'champExperience', 'teamPosition', 'teamId', 'win', 'kills', 'deaths', 'assists', 'totalDamageDealtToChampions', 'totalDamageTaken', 'g5', 'g6', 'g7', 'g8', 'g9', 'g10', 'g11', 'g12', 'g13', 'g14', 'g15', 'g16', 'g17', 'g18', 'g19', 'g20', 'g21', 'g22', 'g23', 'g24', 'g25'])\n",
    "    return my_df"
   ],
   "metadata": {
    "collapsed": false
   }
  },
  {
   "cell_type": "code",
   "execution_count": 438,
   "outputs": [
    {
     "name": "stdout",
     "output_type": "stream",
     "text": [
      "소환사 스텟 생성 중...\n",
      "status : 426\n",
      "status : 426\n",
      "status : 426\n",
      "status : 426\n",
      "status : 426\n",
      "status : 426\n",
      "status : 426\n",
      "status : 426\n"
     ]
    }
   ],
   "source": [
    "lol_df = get_match_timeline_df(raw_data)"
   ],
   "metadata": {
    "collapsed": false
   }
  },
  {
   "cell_type": "code",
   "execution_count": 439,
   "outputs": [
    {
     "data": {
      "text/plain": "         gameId  gameDuration    gameVersion    summonerName  summonerLevel  \\\n0    6403910964          1786  13.5.495.8836          미드or서폿             85   \n1    6403910964          1786  13.5.495.8836     blood color            673   \n2    6403910964          1786  13.5.495.8836  iIlliIiliiIlIi            100   \n3    6403910964          1786  13.5.495.8836             조최딸            223   \n4    6403910964          1786  13.5.495.8836        럭스는더블속박맛            534   \n..          ...           ...            ...             ...            ...   \n415  6397009963          1954  13.5.495.8836             성 간             81   \n416  6397009963          1954  13.5.495.8836        무소식이 희소식            271   \n417  6397009963          1954  13.5.495.8836          pss파트너            252   \n418  6397009963          1954  13.5.495.8836             이 짓            217   \n419  6397009963          1954  13.5.495.8836      Arcade Jax            154   \n\n     participantId championName  champExperience teamPosition  teamId  ...  \\\n0                1         Yone            17015          TOP     100  ...   \n1                2        Talon            17483       JUNGLE     100  ...   \n2                3          Zed            19462       MIDDLE     100  ...   \n3                4  MissFortune            12456       BOTTOM     100  ...   \n4                5          Lux            10838      UTILITY     100  ...   \n..             ...          ...              ...          ...     ...  ...   \n415              6         Sett            17096          TOP     200  ...   \n416              7      Sejuani            16859       JUNGLE     200  ...   \n417              8      Orianna            16013       MIDDLE     200  ...   \n418              9         Jinx            14212       BOTTOM     200  ...   \n419             10      Alistar            11328      UTILITY     200  ...   \n\n      g16    g17    g18    g19    g20    g21    g22    g23    g24    g25  \n0    6145   6351   6703   6847   7482   7898   8518   9035   9332  10318  \n1    8055   8343   8620   9239  10017  10625  11046  11443  11935  12737  \n2    9895  10178  10471  11130  11268  11837  12911  13807  13930  14784  \n3    5532   5831   5968   6945   7067   7434   8435   8865   9400  10000  \n4    5428   5861   6083   6373   6577   6752   7302   7593   8033   8474  \n..    ...    ...    ...    ...    ...    ...    ...    ...    ...    ...  \n415  7243   7687   7844   8078   8238   8939   9221   9769  10291  10744  \n416  8611   9027   9689  10095  10638  12580  12721  13348  14040  14730  \n417  5382   5580   6347   6685   6895   7147   7566   7967   8389   9179  \n418  5980   6337   7114   7491   8213   8611   8882   9337   9835  10534  \n419  4575   5016   5408   5548   5776   6123   6263   6458   7199   7464  \n\n[420 rows x 37 columns]",
      "text/html": "<div>\n<style scoped>\n    .dataframe tbody tr th:only-of-type {\n        vertical-align: middle;\n    }\n\n    .dataframe tbody tr th {\n        vertical-align: top;\n    }\n\n    .dataframe thead th {\n        text-align: right;\n    }\n</style>\n<table border=\"1\" class=\"dataframe\">\n  <thead>\n    <tr style=\"text-align: right;\">\n      <th></th>\n      <th>gameId</th>\n      <th>gameDuration</th>\n      <th>gameVersion</th>\n      <th>summonerName</th>\n      <th>summonerLevel</th>\n      <th>participantId</th>\n      <th>championName</th>\n      <th>champExperience</th>\n      <th>teamPosition</th>\n      <th>teamId</th>\n      <th>...</th>\n      <th>g16</th>\n      <th>g17</th>\n      <th>g18</th>\n      <th>g19</th>\n      <th>g20</th>\n      <th>g21</th>\n      <th>g22</th>\n      <th>g23</th>\n      <th>g24</th>\n      <th>g25</th>\n    </tr>\n  </thead>\n  <tbody>\n    <tr>\n      <th>0</th>\n      <td>6403910964</td>\n      <td>1786</td>\n      <td>13.5.495.8836</td>\n      <td>미드or서폿</td>\n      <td>85</td>\n      <td>1</td>\n      <td>Yone</td>\n      <td>17015</td>\n      <td>TOP</td>\n      <td>100</td>\n      <td>...</td>\n      <td>6145</td>\n      <td>6351</td>\n      <td>6703</td>\n      <td>6847</td>\n      <td>7482</td>\n      <td>7898</td>\n      <td>8518</td>\n      <td>9035</td>\n      <td>9332</td>\n      <td>10318</td>\n    </tr>\n    <tr>\n      <th>1</th>\n      <td>6403910964</td>\n      <td>1786</td>\n      <td>13.5.495.8836</td>\n      <td>blood color</td>\n      <td>673</td>\n      <td>2</td>\n      <td>Talon</td>\n      <td>17483</td>\n      <td>JUNGLE</td>\n      <td>100</td>\n      <td>...</td>\n      <td>8055</td>\n      <td>8343</td>\n      <td>8620</td>\n      <td>9239</td>\n      <td>10017</td>\n      <td>10625</td>\n      <td>11046</td>\n      <td>11443</td>\n      <td>11935</td>\n      <td>12737</td>\n    </tr>\n    <tr>\n      <th>2</th>\n      <td>6403910964</td>\n      <td>1786</td>\n      <td>13.5.495.8836</td>\n      <td>iIlliIiliiIlIi</td>\n      <td>100</td>\n      <td>3</td>\n      <td>Zed</td>\n      <td>19462</td>\n      <td>MIDDLE</td>\n      <td>100</td>\n      <td>...</td>\n      <td>9895</td>\n      <td>10178</td>\n      <td>10471</td>\n      <td>11130</td>\n      <td>11268</td>\n      <td>11837</td>\n      <td>12911</td>\n      <td>13807</td>\n      <td>13930</td>\n      <td>14784</td>\n    </tr>\n    <tr>\n      <th>3</th>\n      <td>6403910964</td>\n      <td>1786</td>\n      <td>13.5.495.8836</td>\n      <td>조최딸</td>\n      <td>223</td>\n      <td>4</td>\n      <td>MissFortune</td>\n      <td>12456</td>\n      <td>BOTTOM</td>\n      <td>100</td>\n      <td>...</td>\n      <td>5532</td>\n      <td>5831</td>\n      <td>5968</td>\n      <td>6945</td>\n      <td>7067</td>\n      <td>7434</td>\n      <td>8435</td>\n      <td>8865</td>\n      <td>9400</td>\n      <td>10000</td>\n    </tr>\n    <tr>\n      <th>4</th>\n      <td>6403910964</td>\n      <td>1786</td>\n      <td>13.5.495.8836</td>\n      <td>럭스는더블속박맛</td>\n      <td>534</td>\n      <td>5</td>\n      <td>Lux</td>\n      <td>10838</td>\n      <td>UTILITY</td>\n      <td>100</td>\n      <td>...</td>\n      <td>5428</td>\n      <td>5861</td>\n      <td>6083</td>\n      <td>6373</td>\n      <td>6577</td>\n      <td>6752</td>\n      <td>7302</td>\n      <td>7593</td>\n      <td>8033</td>\n      <td>8474</td>\n    </tr>\n    <tr>\n      <th>...</th>\n      <td>...</td>\n      <td>...</td>\n      <td>...</td>\n      <td>...</td>\n      <td>...</td>\n      <td>...</td>\n      <td>...</td>\n      <td>...</td>\n      <td>...</td>\n      <td>...</td>\n      <td>...</td>\n      <td>...</td>\n      <td>...</td>\n      <td>...</td>\n      <td>...</td>\n      <td>...</td>\n      <td>...</td>\n      <td>...</td>\n      <td>...</td>\n      <td>...</td>\n      <td>...</td>\n    </tr>\n    <tr>\n      <th>415</th>\n      <td>6397009963</td>\n      <td>1954</td>\n      <td>13.5.495.8836</td>\n      <td>성 간</td>\n      <td>81</td>\n      <td>6</td>\n      <td>Sett</td>\n      <td>17096</td>\n      <td>TOP</td>\n      <td>200</td>\n      <td>...</td>\n      <td>7243</td>\n      <td>7687</td>\n      <td>7844</td>\n      <td>8078</td>\n      <td>8238</td>\n      <td>8939</td>\n      <td>9221</td>\n      <td>9769</td>\n      <td>10291</td>\n      <td>10744</td>\n    </tr>\n    <tr>\n      <th>416</th>\n      <td>6397009963</td>\n      <td>1954</td>\n      <td>13.5.495.8836</td>\n      <td>무소식이 희소식</td>\n      <td>271</td>\n      <td>7</td>\n      <td>Sejuani</td>\n      <td>16859</td>\n      <td>JUNGLE</td>\n      <td>200</td>\n      <td>...</td>\n      <td>8611</td>\n      <td>9027</td>\n      <td>9689</td>\n      <td>10095</td>\n      <td>10638</td>\n      <td>12580</td>\n      <td>12721</td>\n      <td>13348</td>\n      <td>14040</td>\n      <td>14730</td>\n    </tr>\n    <tr>\n      <th>417</th>\n      <td>6397009963</td>\n      <td>1954</td>\n      <td>13.5.495.8836</td>\n      <td>pss파트너</td>\n      <td>252</td>\n      <td>8</td>\n      <td>Orianna</td>\n      <td>16013</td>\n      <td>MIDDLE</td>\n      <td>200</td>\n      <td>...</td>\n      <td>5382</td>\n      <td>5580</td>\n      <td>6347</td>\n      <td>6685</td>\n      <td>6895</td>\n      <td>7147</td>\n      <td>7566</td>\n      <td>7967</td>\n      <td>8389</td>\n      <td>9179</td>\n    </tr>\n    <tr>\n      <th>418</th>\n      <td>6397009963</td>\n      <td>1954</td>\n      <td>13.5.495.8836</td>\n      <td>이 짓</td>\n      <td>217</td>\n      <td>9</td>\n      <td>Jinx</td>\n      <td>14212</td>\n      <td>BOTTOM</td>\n      <td>200</td>\n      <td>...</td>\n      <td>5980</td>\n      <td>6337</td>\n      <td>7114</td>\n      <td>7491</td>\n      <td>8213</td>\n      <td>8611</td>\n      <td>8882</td>\n      <td>9337</td>\n      <td>9835</td>\n      <td>10534</td>\n    </tr>\n    <tr>\n      <th>419</th>\n      <td>6397009963</td>\n      <td>1954</td>\n      <td>13.5.495.8836</td>\n      <td>Arcade Jax</td>\n      <td>154</td>\n      <td>10</td>\n      <td>Alistar</td>\n      <td>11328</td>\n      <td>UTILITY</td>\n      <td>200</td>\n      <td>...</td>\n      <td>4575</td>\n      <td>5016</td>\n      <td>5408</td>\n      <td>5548</td>\n      <td>5776</td>\n      <td>6123</td>\n      <td>6263</td>\n      <td>6458</td>\n      <td>7199</td>\n      <td>7464</td>\n    </tr>\n  </tbody>\n</table>\n<p>420 rows × 37 columns</p>\n</div>"
     },
     "execution_count": 439,
     "metadata": {},
     "output_type": "execute_result"
    }
   ],
   "source": [
    "lol_df"
   ],
   "metadata": {
    "collapsed": false
   }
  },
  {
   "cell_type": "code",
   "execution_count": 441,
   "outputs": [
    {
     "name": "stdout",
     "output_type": "stream",
     "text": [
      "Oracle Open!\n"
     ]
    }
   ],
   "source": [
    "mu.db_open()"
   ],
   "metadata": {
    "collapsed": false
   }
  },
  {
   "cell_type": "code",
   "execution_count": null,
   "outputs": [],
   "source": [
    "query = '''\n",
    "    f''\n",
    "'''"
   ],
   "metadata": {
    "collapsed": false
   }
  }
 ],
 "metadata": {
  "kernelspec": {
   "display_name": "Python 3",
   "language": "python",
   "name": "python3"
  },
  "language_info": {
   "codemirror_mode": {
    "name": "ipython",
    "version": 2
   },
   "file_extension": ".py",
   "mimetype": "text/x-python",
   "name": "python",
   "nbconvert_exporter": "python",
   "pygments_lexer": "ipython2",
   "version": "2.7.6"
  }
 },
 "nbformat": 4,
 "nbformat_minor": 0
}
