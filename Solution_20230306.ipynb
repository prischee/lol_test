{
 "cells": [
  {
   "cell_type": "code",
   "execution_count": 1,
   "id": "e823146b",
   "metadata": {},
   "outputs": [
    {
     "name": "stdout",
     "output_type": "stream",
     "text": [
      "[2, 4, 6, 8, 10, 12, 14, 16, 18, 20, 22, 24, 26, 28, 30, 32, 34, 36, 38, 40, 42, 44, 46, 48, 50, 52, 54, 56, 58, 60, 62, 64, 66, 68, 70, 72, 74, 76, 78, 80, 82, 84, 86, 88, 90, 92, 94, 96, 98, 100]\n"
     ]
    }
   ],
   "source": [
    "#1\n",
    "a = list(range(2, 101, 2))\n",
    "print(a)"
   ]
  },
  {
   "cell_type": "code",
   "execution_count": 3,
   "id": "67a59952",
   "metadata": {},
   "outputs": [
    {
     "name": "stdout",
     "output_type": "stream",
     "text": [
      "5\n",
      "10\n",
      "15\n",
      "20\n",
      "25\n",
      "30\n",
      "35\n",
      "40\n",
      "45\n",
      "50\n"
     ]
    }
   ],
   "source": [
    "#2\n",
    "for i in range(1, 51) :\n",
    "    if i % 5  == 0:\n",
    "        print(i)"
   ]
  },
  {
   "cell_type": "code",
   "execution_count": 4,
   "id": "f24793e2",
   "metadata": {},
   "outputs": [
    {
     "name": "stdout",
     "output_type": "stream",
     "text": [
      "0 32100\n",
      "1 32150\n",
      "2 32000\n",
      "3 32500\n"
     ]
    }
   ],
   "source": [
    "#3\n",
    "price_list = [32100, 32150, 32000, 32500]\n",
    "\n",
    "for idx, i in enumerate(price_list) :\n",
    "    print(idx, i)"
   ]
  },
  {
   "cell_type": "code",
   "execution_count": 7,
   "id": "acf66474",
   "metadata": {},
   "outputs": [
    {
     "name": "stdout",
     "output_type": "stream",
     "text": [
      "{2: [2, 4, 6, 8, 10, 12, 14, 16, 18], 3: [3, 6, 9, 12, 15, 18, 21, 24, 27], 4: [4, 8, 12, 16, 20, 24, 28, 32, 36], 5: [5, 10, 15, 20, 25, 30, 35, 40, 45], 6: [6, 12, 18, 24, 30, 36, 42, 48, 54], 7: [7, 14, 21, 28, 35, 42, 49, 56, 63], 8: [8, 16, 24, 32, 40, 48, 56, 64, 72], 9: [9, 18, 27, 36, 45, 54, 63, 72, 81]}\n"
     ]
    }
   ],
   "source": [
    "#4\n",
    "d = {}\n",
    "for i in range(2, 10) :\n",
    "    l = []\n",
    "    for j in range(1, 10) :\n",
    "        l.append(i*j)\n",
    "    d[i] = l\n",
    "print(d)"
   ]
  },
  {
   "cell_type": "code",
   "execution_count": 12,
   "id": "9d28a37e",
   "metadata": {},
   "outputs": [
    {
     "name": "stdout",
     "output_type": "stream",
     "text": [
      "차량번호 : 1011\n",
      "차량번호 : 1022\n",
      "차량번호 : 1201\n",
      "차량번호 : 7202\n",
      "차량번호 : 2301\n",
      "차량번호 : 1302\n",
      "차량번호 : 1011\n",
      "차량번호 : 1022\n",
      "차량번호 : 1201\n",
      "차량번호 : 7202\n",
      "차량번호 : 2301\n",
      "차량번호 : 1302\n"
     ]
    }
   ],
   "source": [
    "#5\n",
    "car_num = [[1011, 1022], [1201, 7202], [2301, 1302]]\n",
    "for i in car_num : \n",
    "    for j in i :\n",
    "        print(f'차량번호 : {j}')\n",
    "        \n",
    "for i in range(3) :\n",
    "    for j in range(2) : \n",
    "        print(f'차량번호 : {car_num[i][j]}')"
   ]
  },
  {
   "cell_type": "code",
   "execution_count": 15,
   "id": "0bba22e3",
   "metadata": {},
   "outputs": [],
   "source": [
    "# 주민등록번호\n",
    "def jumin(a) : \n",
    "    if a[-7] == '1' :\n",
    "        return '남성'\n",
    "    else :\n",
    "        return '여성'"
   ]
  },
  {
   "cell_type": "code",
   "execution_count": 16,
   "id": "ff177bcd",
   "metadata": {},
   "outputs": [
    {
     "data": {
      "text/plain": [
       "'여성'"
      ]
     },
     "execution_count": 16,
     "metadata": {},
     "output_type": "execute_result"
    }
   ],
   "source": [
    "jumin('960822-2148513')"
   ]
  },
  {
   "cell_type": "code",
   "execution_count": 17,
   "id": "4e1ba8f9",
   "metadata": {},
   "outputs": [],
   "source": [
    "def jumin(a) :\n",
    "    b = a.split('-')[1][0]\n",
    "    if b == '1' :\n",
    "        return '남성'\n",
    "    else : \n",
    "        return '여성'"
   ]
  },
  {
   "cell_type": "code",
   "execution_count": 19,
   "id": "91827510",
   "metadata": {},
   "outputs": [
    {
     "data": {
      "text/plain": [
       "'여성'"
      ]
     },
     "execution_count": 19,
     "metadata": {},
     "output_type": "execute_result"
    }
   ],
   "source": [
    "jumin('820327-2022421')"
   ]
  },
  {
   "cell_type": "code",
   "execution_count": 20,
   "id": "250e1794",
   "metadata": {},
   "outputs": [],
   "source": [
    "#5\n",
    "def sss(a) :\n",
    "    phones = {\"s5\" : 2012, \"s7\" : 2016, \"note8\" : 2017, \"s9\" : 2018, \"s10\" : 2019}\n",
    "    result = phones.get(a)\n",
    "    return result"
   ]
  },
  {
   "cell_type": "code",
   "execution_count": 21,
   "id": "f77a4ca8",
   "metadata": {},
   "outputs": [
    {
     "data": {
      "text/plain": [
       "2012"
      ]
     },
     "execution_count": 21,
     "metadata": {},
     "output_type": "execute_result"
    }
   ],
   "source": [
    "sss(\"s5\")"
   ]
  },
  {
   "cell_type": "code",
   "execution_count": 24,
   "id": "199dd87d",
   "metadata": {},
   "outputs": [],
   "source": [
    "#6\n",
    "def phone(a) :\n",
    "    b = a.split('-')\n",
    "    b[2] = '####'\n",
    "    result = f'{b[0]} - {b[1]} - {b[2]}'\n",
    "    return result"
   ]
  },
  {
   "cell_type": "code",
   "execution_count": 25,
   "id": "25ca8fda",
   "metadata": {},
   "outputs": [
    {
     "data": {
      "text/plain": [
       "'010 - 3222 - ####'"
      ]
     },
     "execution_count": 25,
     "metadata": {},
     "output_type": "execute_result"
    }
   ],
   "source": [
    "phone('010-3222-1234')"
   ]
  },
  {
   "cell_type": "code",
   "execution_count": null,
   "id": "18c74def",
   "metadata": {},
   "outputs": [],
   "source": []
  }
 ],
 "metadata": {
  "kernelspec": {
   "display_name": "Python 3 (ipykernel)",
   "language": "python",
   "name": "python3"
  },
  "language_info": {
   "codemirror_mode": {
    "name": "ipython",
    "version": 3
   },
   "file_extension": ".py",
   "mimetype": "text/x-python",
   "name": "python",
   "nbconvert_exporter": "python",
   "pygments_lexer": "ipython3",
   "version": "3.9.13"
  }
 },
 "nbformat": 4,
 "nbformat_minor": 5
}
