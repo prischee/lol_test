{
 "cells": [
  {
   "cell_type": "code",
   "execution_count": 1,
   "metadata": {
    "collapsed": true
   },
   "outputs": [],
   "source": [
    "import random\n",
    "import my_utils as mu\n",
    "import pymysql as pms\n",
    "import pandas as pd\n",
    "import cx_Oracle\n",
    "import pymysql\n",
    "import requests"
   ]
  },
  {
   "cell_type": "code",
   "execution_count": 2,
   "outputs": [],
   "source": [
    "url = 'https://kr.api.riotgames.com/lol/league/v4/entries/RANKED_SOLO_5x5/GOLD/IV?page=1&api_key=RGAPI-ba02ad31-18e8-4da7-9005-8d209ab0420e'"
   ],
   "metadata": {
    "collapsed": false
   }
  },
  {
   "cell_type": "code",
   "execution_count": 3,
   "outputs": [
    {
     "name": "stdout",
     "output_type": "stream",
     "text": [
      "['llJJllJJllJJllJJ', 'Louise Saunders', '까까보조', '따라갈게 진', '흥콘망콘', '롤렉스시계폭탄만들기장인질리언', '혜지만보면달려듬', '제2의 얼큰한맹구', '포기할줄모르는애', '미친바우맨']\n"
     ]
    }
   ],
   "source": [
    "res = requests.get(url).json()\n",
    "summoner_lst = list(map(lambda x : x['summonerName'], res))\n",
    "print(summoner_lst[:10])"
   ],
   "metadata": {
    "collapsed": false
   }
  },
  {
   "cell_type": "markdown",
   "source": [
    "## matchid, matches, timeline으로 구성된 원시데이터 df 만드는 함수\n",
    "## (인자값으로 티어만 넣으면 해당 티어의 디비전 1, 2, 3, 4 사람들 중 랜덤으로 가져오는 함수"
   ],
   "metadata": {
    "collapsed": false
   }
  },
  {
   "cell_type": "code",
   "execution_count": 4,
   "outputs": [],
   "source": [
    "division_list = ['I', 'II', 'III', 'IV']"
   ],
   "metadata": {
    "collapsed": false
   }
  },
  {
   "cell_type": "code",
   "execution_count": 5,
   "outputs": [],
   "source": [
    "riot_api_key = mu.riot_api_key"
   ],
   "metadata": {
    "collapsed": false
   }
  },
  {
   "cell_type": "code",
   "execution_count": 6,
   "outputs": [],
   "source": [
    "def rand() :\n",
    "    page = random.randrange(1, 10)"
   ],
   "metadata": {
    "collapsed": false
   }
  },
  {
   "cell_type": "code",
   "execution_count": 7,
   "outputs": [],
   "source": [
    "def get_rawdata(tier) :\n",
    "    lst = []\n",
    "    page = rand()\n",
    "    for division in range(division_list) :\n",
    "        url = f'https://kr.api.riotgames.com/lol/league/v4/entries/RANKED_SOLO_5x5/{tier}/{division_list[division]}?page=1&api_key={riot_api_key}'\n",
    "        print(url)\n",
    "    return"
   ],
   "metadata": {
    "collapsed": false
   }
  },
  {
   "cell_type": "code",
   "execution_count": 8,
   "outputs": [
    {
     "ename": "TypeError",
     "evalue": "'list' object cannot be interpreted as an integer",
     "output_type": "error",
     "traceback": [
      "\u001B[1;31m---------------------------------------------------------------------------\u001B[0m",
      "\u001B[1;31mTypeError\u001B[0m                                 Traceback (most recent call last)",
      "Cell \u001B[1;32mIn[8], line 1\u001B[0m\n\u001B[1;32m----> 1\u001B[0m raw_data \u001B[38;5;241m=\u001B[39m \u001B[43mget_rawdata\u001B[49m\u001B[43m(\u001B[49m\u001B[38;5;124;43m'\u001B[39;49m\u001B[38;5;124;43mGOLD\u001B[39;49m\u001B[38;5;124;43m'\u001B[39;49m\u001B[43m)\u001B[49m\n",
      "Cell \u001B[1;32mIn[7], line 4\u001B[0m, in \u001B[0;36mget_rawdata\u001B[1;34m(tier)\u001B[0m\n\u001B[0;32m      2\u001B[0m lst \u001B[38;5;241m=\u001B[39m []\n\u001B[0;32m      3\u001B[0m page \u001B[38;5;241m=\u001B[39m rand()\n\u001B[1;32m----> 4\u001B[0m \u001B[38;5;28;01mfor\u001B[39;00m division \u001B[38;5;129;01min\u001B[39;00m \u001B[38;5;28;43mrange\u001B[39;49m\u001B[43m(\u001B[49m\u001B[43mdivision_list\u001B[49m\u001B[43m)\u001B[49m :\n\u001B[0;32m      5\u001B[0m     url \u001B[38;5;241m=\u001B[39m \u001B[38;5;124mf\u001B[39m\u001B[38;5;124m'\u001B[39m\u001B[38;5;124mhttps://kr.api.riotgames.com/lol/league/v4/entries/RANKED_SOLO_5x5/\u001B[39m\u001B[38;5;132;01m{\u001B[39;00mtier\u001B[38;5;132;01m}\u001B[39;00m\u001B[38;5;124m/\u001B[39m\u001B[38;5;132;01m{\u001B[39;00mdivision_list[division]\u001B[38;5;132;01m}\u001B[39;00m\u001B[38;5;124m?page=1&api_key=\u001B[39m\u001B[38;5;132;01m{\u001B[39;00mriot_api_key\u001B[38;5;132;01m}\u001B[39;00m\u001B[38;5;124m'\u001B[39m\n\u001B[0;32m      6\u001B[0m     \u001B[38;5;28mprint\u001B[39m(url)\n",
      "\u001B[1;31mTypeError\u001B[0m: 'list' object cannot be interpreted as an integer"
     ]
    }
   ],
   "source": [
    "raw_data = get_rawdata('GOLD')"
   ],
   "metadata": {
    "collapsed": false
   }
  },
  {
   "cell_type": "code",
   "execution_count": null,
   "outputs": [],
   "source": [],
   "metadata": {
    "collapsed": false
   }
  }
 ],
 "metadata": {
  "kernelspec": {
   "display_name": "Python 3",
   "language": "python",
   "name": "python3"
  },
  "language_info": {
   "codemirror_mode": {
    "name": "ipython",
    "version": 2
   },
   "file_extension": ".py",
   "mimetype": "text/x-python",
   "name": "python",
   "nbconvert_exporter": "python",
   "pygments_lexer": "ipython2",
   "version": "2.7.6"
  }
 },
 "nbformat": 4,
 "nbformat_minor": 0
}
