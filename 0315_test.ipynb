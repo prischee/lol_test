{
 "cells": [
  {
   "cell_type": "code",
   "execution_count": 2,
   "metadata": {
    "collapsed": true
   },
   "outputs": [],
   "source": [
    "import pymysql as pms\n",
    "import pandas as pd\n",
    "import cx_Oracle as co\n",
    "import pymysql.cursors\n",
    "import requests"
   ]
  },
  {
   "cell_type": "code",
   "execution_count": 3,
   "outputs": [],
   "source": [
    "url = 'https://kr.api.riotgames.com/lol/league/v4/entries/RANKED_SOLO_5x5/GOLD/IV?page=1&api_key=RGAPI-ba02ad31-18e8-4da7-9005-8d209ab0420e'"
   ],
   "metadata": {
    "collapsed": false
   }
  },
  {
   "cell_type": "code",
   "execution_count": 6,
   "outputs": [
    {
     "name": "stdout",
     "output_type": "stream",
     "text": [
      "['llJJllJJllJJllJJ', 'Louise Saunders', '까까보조', '따라갈게 진', '흥콘망콘', '롤렉스시계폭탄만들기장인질리언', '혜지만보면달려듬', '제2의 얼큰한맹구', '포기할줄모르는애', '미친바우맨']\n"
     ]
    }
   ],
   "source": [
    "res = requests.get(url).json()\n",
    "summoner_lst = list(map(lambda x : x['summonerName'], res))\n",
    "print(summoner_lst[:10])"
   ],
   "metadata": {
    "collapsed": false
   }
  },
  {
   "cell_type": "code",
   "execution_count": null,
   "outputs": [],
   "source": [],
   "metadata": {
    "collapsed": false
   }
  }
 ],
 "metadata": {
  "kernelspec": {
   "display_name": "Python 3",
   "language": "python",
   "name": "python3"
  },
  "language_info": {
   "codemirror_mode": {
    "name": "ipython",
    "version": 2
   },
   "file_extension": ".py",
   "mimetype": "text/x-python",
   "name": "python",
   "nbconvert_exporter": "python",
   "pygments_lexer": "ipython2",
   "version": "2.7.6"
  }
 },
 "nbformat": 4,
 "nbformat_minor": 0
}
