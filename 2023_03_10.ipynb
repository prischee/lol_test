{
 "cells": [
  {
   "cell_type": "code",
   "execution_count": 1,
   "id": "3b1aa883",
   "metadata": {},
   "outputs": [
    {
     "ename": "ModuleNotFoundError",
     "evalue": "No module named 'my_utils'",
     "output_type": "error",
     "traceback": [
      "\u001B[1;31m---------------------------------------------------------------------------\u001B[0m",
      "\u001B[1;31mModuleNotFoundError\u001B[0m                       Traceback (most recent call last)",
      "\u001B[1;32m~\\AppData\\Local\\Temp\\ipykernel_8688\\3263375800.py\u001B[0m in \u001B[0;36m<module>\u001B[1;34m\u001B[0m\n\u001B[1;32m----> 1\u001B[1;33m \u001B[1;32mimport\u001B[0m \u001B[0mmy_utils\u001B[0m \u001B[1;32mas\u001B[0m \u001B[0mmu\u001B[0m\u001B[1;33m\u001B[0m\u001B[1;33m\u001B[0m\u001B[0m\n\u001B[0m",
      "\u001B[1;31mModuleNotFoundError\u001B[0m: No module named 'my_utils'"
     ]
    }
   ],
   "source": [
    "import my_utils as mu"
   ]
  },
  {
   "cell_type": "code",
   "execution_count": 2,
   "id": "fea2a4e8",
   "metadata": {},
   "outputs": [],
   "source": [
    "import requests"
   ]
  },
  {
   "cell_type": "code",
   "execution_count": 11,
   "id": "7ee1dc5d",
   "metadata": {},
   "outputs": [],
   "source": [
    "api_key = '5478465a5763686a313037546a74786f'\n",
    "url = f'http://openapi.seoul.go.kr:8088/{api_key}/json/tbLnOpendataRentV/1/1000/'"
   ]
  },
  {
   "cell_type": "code",
   "execution_count": 4,
   "id": "4858ffab",
   "metadata": {},
   "outputs": [
    {
     "ename": "NameError",
     "evalue": "name 'mu' is not defined",
     "output_type": "error",
     "traceback": [
      "\u001B[1;31m---------------------------------------------------------------------------\u001B[0m",
      "\u001B[1;31mNameError\u001B[0m                                 Traceback (most recent call last)",
      "\u001B[1;32m~\\AppData\\Local\\Temp\\ipykernel_8688\\1609395524.py\u001B[0m in \u001B[0;36m<module>\u001B[1;34m\u001B[0m\n\u001B[1;32m----> 1\u001B[1;33m \u001B[0mdf\u001B[0m \u001B[1;33m=\u001B[0m \u001B[0mmu\u001B[0m\u001B[1;33m.\u001B[0m\u001B[0mdf_creater\u001B[0m\u001B[1;33m(\u001B[0m\u001B[0murl\u001B[0m\u001B[1;33m)\u001B[0m\u001B[1;33m\u001B[0m\u001B[1;33m\u001B[0m\u001B[0m\n\u001B[0m",
      "\u001B[1;31mNameError\u001B[0m: name 'mu' is not defined"
     ]
    }
   ],
   "source": [
    "df = mu.df_creater(url)"
   ]
  },
  {
   "cell_type": "code",
   "execution_count": 5,
   "id": "43103f67",
   "metadata": {},
   "outputs": [
    {
     "ename": "SyntaxError",
     "evalue": "invalid syntax (1964505790.py, line 1)",
     "output_type": "error",
     "traceback": [
      "\u001B[1;36m  File \u001B[1;32m\"C:\\Users\\user\\AppData\\Local\\Temp\\ipykernel_8688\\1964505790.py\"\u001B[1;36m, line \u001B[1;32m1\u001B[0m\n\u001B[1;33m    sel_c = ['SGG_NM', 'BJDONG_NM', 'LAND_GBN_NM', 'FLR_NO', 'CNTRCT_DE', 'RENT_GBN', 'RENT_AREA', 'RENT_GTN', 'RENT_FEE'. 'BLDG_NM', 'BUILD_YEAR']\u001B[0m\n\u001B[1;37m                                                                                                                           ^\u001B[0m\n\u001B[1;31mSyntaxError\u001B[0m\u001B[1;31m:\u001B[0m invalid syntax\n"
     ]
    }
   ],
   "source": [
    "sel_c = ['SGG_NM', 'BJDONG_NM', 'LAND_GBN_NM', 'FLR_NO', 'CNTRCT_DE', 'RENT_GBN', 'RENT_AREA', 'RENT_GTN', 'RENT_FEE'. 'BLDG_NM', 'BUILD_YEAR']"
   ]
  },
  {
   "cell_type": "code",
   "execution_count": 6,
   "id": "db6aa26a",
   "metadata": {},
   "outputs": [
    {
     "ename": "NameError",
     "evalue": "name 'df' is not defined",
     "output_type": "error",
     "traceback": [
      "\u001B[1;31m---------------------------------------------------------------------------\u001B[0m",
      "\u001B[1;31mNameError\u001B[0m                                 Traceback (most recent call last)",
      "\u001B[1;32m~\\AppData\\Local\\Temp\\ipykernel_8688\\1280894299.py\u001B[0m in \u001B[0;36m<module>\u001B[1;34m\u001B[0m\n\u001B[1;32m----> 1\u001B[1;33m \u001B[0mmy_df\u001B[0m \u001B[1;33m=\u001B[0m \u001B[0mdf\u001B[0m\u001B[1;33m[\u001B[0m\u001B[0msel_c\u001B[0m\u001B[1;33m]\u001B[0m\u001B[1;33m.\u001B[0m\u001B[0mcopy\u001B[0m\u001B[1;33m(\u001B[0m\u001B[1;33m)\u001B[0m\u001B[1;33m\u001B[0m\u001B[1;33m\u001B[0m\u001B[0m\n\u001B[0m",
      "\u001B[1;31mNameError\u001B[0m: name 'df' is not defined"
     ]
    }
   ],
   "source": [
    "my_df = df[sel_c].copy()"
   ]
  },
  {
   "cell_type": "code",
   "execution_count": 7,
   "id": "873b5e07",
   "metadata": {},
   "outputs": [
    {
     "ename": "NameError",
     "evalue": "name 'my_df' is not defined",
     "output_type": "error",
     "traceback": [
      "\u001B[1;31m---------------------------------------------------------------------------\u001B[0m",
      "\u001B[1;31mNameError\u001B[0m                                 Traceback (most recent call last)",
      "\u001B[1;32m~\\AppData\\Local\\Temp\\ipykernel_8688\\315404204.py\u001B[0m in \u001B[0;36m<module>\u001B[1;34m\u001B[0m\n\u001B[1;32m----> 1\u001B[1;33m \u001B[0mmy_df\u001B[0m\u001B[1;33m.\u001B[0m\u001B[0mcolumns\u001B[0m \u001B[1;33m=\u001B[0m \u001B[1;33m[\u001B[0m\u001B[1;34m'자치구명'\u001B[0m\u001B[1;33m,\u001B[0m \u001B[1;34m'법정동명'\u001B[0m\u001B[1;33m,\u001B[0m \u001B[1;34m'지번구분명'\u001B[0m\u001B[1;33m,\u001B[0m \u001B[1;34m'층수'\u001B[0m\u001B[1;33m,\u001B[0m \u001B[1;34m'계약일'\u001B[0m\u001B[1;33m,\u001B[0m \u001B[1;34m'전월세'\u001B[0m\u001B[1;33m,\u001B[0m \u001B[1;34m'면적'\u001B[0m\u001B[1;33m,\u001B[0m \u001B[1;34m'보증금'\u001B[0m\u001B[1;33m,\u001B[0m \u001B[1;34m'임대료'\u001B[0m\u001B[1;33m,\u001B[0m \u001B[1;34m'건물명'\u001B[0m\u001B[1;33m,\u001B[0m\u001B[1;34m'건축년도'\u001B[0m\u001B[1;33m]\u001B[0m\u001B[1;33m\u001B[0m\u001B[1;33m\u001B[0m\u001B[0m\n\u001B[0m",
      "\u001B[1;31mNameError\u001B[0m: name 'my_df' is not defined"
     ]
    }
   ],
   "source": [
    "my_df.columns = ['자치구명', '법정동명', '지번구분명', '층수', '계약일', '전월세', '면적', '보증금', '임대료', '건물명','건축년도']"
   ]
  },
  {
   "cell_type": "code",
   "execution_count": 8,
   "id": "bbac07a9",
   "metadata": {},
   "outputs": [
    {
     "ename": "NameError",
     "evalue": "name 'my_df' is not defined",
     "output_type": "error",
     "traceback": [
      "\u001B[1;31m---------------------------------------------------------------------------\u001B[0m",
      "\u001B[1;31mNameError\u001B[0m                                 Traceback (most recent call last)",
      "\u001B[1;32m~\\AppData\\Local\\Temp\\ipykernel_8688\\1125839575.py\u001B[0m in \u001B[0;36m<module>\u001B[1;34m\u001B[0m\n\u001B[1;32m----> 1\u001B[1;33m \u001B[0mmy_df\u001B[0m \u001B[1;33m=\u001B[0m \u001B[0mmy_df\u001B[0m\u001B[1;33m.\u001B[0m\u001B[0mastype\u001B[0m\u001B[1;33m(\u001B[0m\u001B[1;33m{\u001B[0m\u001B[1;34m'층수'\u001B[0m \u001B[1;33m:\u001B[0m \u001B[1;34m'float'\u001B[0m\u001B[1;33m,\u001B[0m \u001B[1;34m'계약일'\u001B[0m \u001B[1;33m:\u001B[0m \u001B[1;34m'int'\u001B[0m\u001B[1;33m,\u001B[0m \u001B[1;34m'면적'\u001B[0m \u001B[1;33m:\u001B[0m \u001B[1;34m'float'\u001B[0m\u001B[1;33m,\u001B[0m \u001B[1;34m'보증금'\u001B[0m \u001B[1;33m:\u001B[0m \u001B[1;34m'int'\u001B[0m\u001B[1;33m,\u001B[0m \u001B[1;34m'임대료'\u001B[0m \u001B[1;33m:\u001B[0m \u001B[1;34m'int'\u001B[0m\u001B[1;33m}\u001B[0m\u001B[1;33m)\u001B[0m\u001B[1;33m\u001B[0m\u001B[1;33m\u001B[0m\u001B[0m\n\u001B[0m",
      "\u001B[1;31mNameError\u001B[0m: name 'my_df' is not defined"
     ]
    }
   ],
   "source": [
    "my_df = my_df.astype({'층수' : 'float', '계약일' : 'int', '면적' : 'float', '보증금' : 'int', '임대료' : 'int'})"
   ]
  },
  {
   "cell_type": "code",
   "execution_count": 10,
   "id": "3e4c8119",
   "metadata": {},
   "outputs": [],
   "source": [
    "query = \"\"\"\n",
    "    CREATE TABLE housePrice(자치구명 varchar(50), 법정동명 varchar(50), 지번구분명 varchar(50). 층수 float(20), 계약일 number(20), 전월세 varchar(20), 면적 float(20), 보증금 number(20), 임대료 number(20), 건물명 varchar(100). 건축년도 varchar(20))\n",
    "\"\"\""
   ]
  },
  {
   "cell_type": "code",
   "execution_count": 9,
   "id": "c7d7ce37",
   "metadata": {},
   "outputs": [
    {
     "ename": "NameError",
     "evalue": "name 'mu' is not defined",
     "output_type": "error",
     "traceback": [
      "\u001B[1;31m---------------------------------------------------------------------------\u001B[0m",
      "\u001B[1;31mNameError\u001B[0m                                 Traceback (most recent call last)",
      "\u001B[1;32m~\\AppData\\Local\\Temp\\ipykernel_8688\\4255311068.py\u001B[0m in \u001B[0;36m<module>\u001B[1;34m\u001B[0m\n\u001B[1;32m----> 1\u001B[1;33m \u001B[0mmu\u001B[0m\u001B[1;33m.\u001B[0m\u001B[0mdb_open\u001B[0m\u001B[1;33m(\u001B[0m\u001B[1;33m)\u001B[0m\u001B[1;33m\u001B[0m\u001B[1;33m\u001B[0m\u001B[0m\n\u001B[0m\u001B[0;32m      2\u001B[0m \u001B[0mmu\u001B[0m\u001B[1;33m.\u001B[0m\u001B[0morcle_execute\u001B[0m\u001B[1;33m(\u001B[0m\u001B[0mquery2\u001B[0m\u001B[1;33m)\u001B[0m\u001B[1;33m\u001B[0m\u001B[1;33m\u001B[0m\u001B[0m\n",
      "\u001B[1;31mNameError\u001B[0m: name 'mu' is not defined"
     ]
    }
   ],
   "source": [
    "mu.db_open()\n",
    "mu.orcle_execute(query2)"
   ]
  },
  {
   "cell_type": "code",
   "execution_count": 12,
   "id": "009749b6",
   "metadata": {},
   "outputs": [],
   "source": [
    "query2 = \"\"\"\n",
    "    CREATE TABLE housePrice(자치구명 varchar(50), 법정동명 varchar(50), 지번구분명 varchar(50). 층수 float, 계약일 int, 전월세 varchar(20), 면적 float, 보증금 int, 임대료 int, 건물명 varchar(100). 건축년도 varchar(20))\n",
    "\"\"\""
   ]
  },
  {
   "cell_type": "code",
   "execution_count": 13,
   "id": "5d490200",
   "metadata": {},
   "outputs": [
    {
     "ename": "NameError",
     "evalue": "name 'mu' is not defined",
     "output_type": "error",
     "traceback": [
      "\u001B[1;31m---------------------------------------------------------------------------\u001B[0m",
      "\u001B[1;31mNameError\u001B[0m                                 Traceback (most recent call last)",
      "\u001B[1;32m~\\AppData\\Local\\Temp\\ipykernel_8688\\3326709109.py\u001B[0m in \u001B[0;36m<module>\u001B[1;34m\u001B[0m\n\u001B[1;32m----> 1\u001B[1;33m \u001B[0mconn\u001B[0m \u001B[1;33m=\u001B[0m \u001B[0mmu\u001B[0m\u001B[1;33m.\u001B[0m\u001B[0mconnect_mysql\u001B[0m\u001B[1;33m(\u001B[0m\u001B[1;34m'icia'\u001B[0m\u001B[1;33m)\u001B[0m\u001B[1;33m\u001B[0m\u001B[1;33m\u001B[0m\u001B[0m\n\u001B[0m\u001B[0;32m      2\u001B[0m \u001B[0mmu\u001B[0m\u001B[1;33m.\u001B[0m\u001B[0mmysql_execute\u001B[0m\u001B[1;33m(\u001B[0m\u001B[0mquery2\u001B[0m\u001B[1;33m,\u001B[0m \u001B[0mconn\u001B[0m\u001B[1;33m)\u001B[0m\u001B[1;33m\u001B[0m\u001B[1;33m\u001B[0m\u001B[0m\n",
      "\u001B[1;31mNameError\u001B[0m: name 'mu' is not defined"
     ]
    }
   ],
   "source": [
    "conn = mu.connect_mysql('icia')\n",
    "mu.mysql_execute(query2, conn)"
   ]
  },
  {
   "cell_type": "code",
   "execution_count": 16,
   "id": "98b9100e",
   "metadata": {},
   "outputs": [
    {
     "ename": "IndentationError",
     "evalue": "unexpected indent (2291910793.py, line 4)",
     "output_type": "error",
     "traceback": [
      "\u001B[1;36m  File \u001B[1;32m\"C:\\Users\\user\\AppData\\Local\\Temp\\ipykernel_8688\\2291910793.py\"\u001B[1;36m, line \u001B[1;32m4\u001B[0m\n\u001B[1;33m    f'values({repr(my_df.지번구분명.iloc[0])}, {my_df.층수.iloc[0]}')\u001B[0m\n\u001B[1;37m    ^\u001B[0m\n\u001B[1;31mIndentationError\u001B[0m\u001B[1;31m:\u001B[0m unexpected indent\n"
     ]
    }
   ],
   "source": [
    "query4 = (\n",
    "    f'insert into housePrice(자치구명, 법정동명, 지번구분명, 층수, 계약일, 전월세, 면적, 보증금, 임대료, 건물명, 건축년도)'\n",
    "    f'values({repr(my_df.자치구명.iloc[0])}, {repr(my_df.법정동명.iloc[0])}')\n",
    "    f'{repr(my_df.지번구분명.iloc[0])}, {my_df.층수.iloc[0]}'\n",
    "    f'{my_df.계약일.iloc[0]}, {repr(my_df.전월세.iloc[0])}'\n",
    "    f'{my_df.면적.iloc[0]}, {my_df.보증금.iloc[0]}'\n",
    "    f'{my_df.임대료.iloc[0]}, {repr(my_df.건물명.iloc[0])}, {repr(my_df.건축년도.iloc[0])}'"
   ]
  },
  {
   "cell_type": "code",
   "execution_count": 17,
   "id": "1e868abd",
   "metadata": {},
   "outputs": [
    {
     "ename": "NameError",
     "evalue": "name 'mu' is not defined",
     "output_type": "error",
     "traceback": [
      "\u001B[1;31m---------------------------------------------------------------------------\u001B[0m",
      "\u001B[1;31mNameError\u001B[0m                                 Traceback (most recent call last)",
      "\u001B[1;32m~\\AppData\\Local\\Temp\\ipykernel_8688\\2991138436.py\u001B[0m in \u001B[0;36m<module>\u001B[1;34m\u001B[0m\n\u001B[1;32m----> 1\u001B[1;33m \u001B[0mmu\u001B[0m\u001B[1;33m.\u001B[0m\u001B[0mdb_open\u001B[0m\u001B[1;33m(\u001B[0m\u001B[1;33m)\u001B[0m\u001B[1;33m\u001B[0m\u001B[1;33m\u001B[0m\u001B[0m\n\u001B[0m\u001B[0;32m      2\u001B[0m \u001B[0mmu\u001B[0m\u001B[1;33m.\u001B[0m\u001B[0moracle_execute\u001B[0m\u001B[1;33m(\u001B[0m\u001B[0mquery4\u001B[0m\u001B[1;33m)\u001B[0m\u001B[1;33m\u001B[0m\u001B[1;33m\u001B[0m\u001B[0m\n\u001B[0;32m      3\u001B[0m \u001B[0mmu\u001B[0m\u001B[1;33m.\u001B[0m\u001B[0mdb_close\u001B[0m\u001B[1;33m(\u001B[0m\u001B[1;33m)\u001B[0m\u001B[1;33m\u001B[0m\u001B[1;33m\u001B[0m\u001B[0m\n",
      "\u001B[1;31mNameError\u001B[0m: name 'mu' is not defined"
     ]
    }
   ],
   "source": [
    "mu.db_open()\n",
    "mu.oracle_execute(query4)\n",
    "mu.db_close()"
   ]
  },
  {
   "cell_type": "code",
   "execution_count": 18,
   "id": "18ea5214",
   "metadata": {},
   "outputs": [],
   "source": [
    "query5 = 'select * from houserPrice'"
   ]
  },
  {
   "cell_type": "code",
   "execution_count": 19,
   "id": "bbd515e8",
   "metadata": {},
   "outputs": [
    {
     "ename": "NameError",
     "evalue": "name 'mu' is not defined",
     "output_type": "error",
     "traceback": [
      "\u001B[1;31m---------------------------------------------------------------------------\u001B[0m",
      "\u001B[1;31mNameError\u001B[0m                                 Traceback (most recent call last)",
      "\u001B[1;32m~\\AppData\\Local\\Temp\\ipykernel_8688\\162266474.py\u001B[0m in \u001B[0;36m<module>\u001B[1;34m\u001B[0m\n\u001B[1;32m----> 1\u001B[1;33m \u001B[0mmu\u001B[0m\u001B[1;33m.\u001B[0m\u001B[0mmysql_execute\u001B[0m\u001B[1;33m(\u001B[0m\u001B[0mquery5\u001B[0m\u001B[1;33m,\u001B[0m \u001B[0mconn\u001B[0m\u001B[1;33m)\u001B[0m\u001B[1;33m\u001B[0m\u001B[1;33m\u001B[0m\u001B[0m\n\u001B[0m",
      "\u001B[1;31mNameError\u001B[0m: name 'mu' is not defined"
     ]
    }
   ],
   "source": [
    "mu.mysql_execute(query5, conn)"
   ]
  },
  {
   "cell_type": "code",
   "execution_count": 20,
   "id": "d5b26b37",
   "metadata": {},
   "outputs": [
    {
     "ename": "NameError",
     "evalue": "name 'my_df' is not defined",
     "output_type": "error",
     "traceback": [
      "\u001B[1;31m---------------------------------------------------------------------------\u001B[0m",
      "\u001B[1;31mNameError\u001B[0m                                 Traceback (most recent call last)",
      "\u001B[1;32m~\\AppData\\Local\\Temp\\ipykernel_8688\\786020501.py\u001B[0m in \u001B[0;36m<module>\u001B[1;34m\u001B[0m\n\u001B[1;32m----> 1\u001B[1;33m \u001B[0mmy_df\u001B[0m\u001B[1;33m\u001B[0m\u001B[1;33m\u001B[0m\u001B[0m\n\u001B[0m",
      "\u001B[1;31mNameError\u001B[0m: name 'my_df' is not defined"
     ]
    }
   ],
   "source": [
    "my_df"
   ]
  },
  {
   "cell_type": "code",
   "execution_count": 21,
   "id": "cf0ae2c6",
   "metadata": {},
   "outputs": [
    {
     "data": {
      "text/plain": [
       "'insert into housePrice(자치구명, 법정동명, 지번구분명, 층수, 계약일, 전월세, 면적, 보증금, 임대료, 건물명, 건축년도)'"
      ]
     },
     "execution_count": 21,
     "metadata": {},
     "output_type": "execute_result"
    }
   ],
   "source": [
    "query4"
   ]
  },
  {
   "cell_type": "code",
   "execution_count": 22,
   "id": "5b471632",
   "metadata": {},
   "outputs": [
    {
     "ename": "NameError",
     "evalue": "name 'mu' is not defined",
     "output_type": "error",
     "traceback": [
      "\u001B[1;31m---------------------------------------------------------------------------\u001B[0m",
      "\u001B[1;31mNameError\u001B[0m                                 Traceback (most recent call last)",
      "\u001B[1;32m~\\AppData\\Local\\Temp\\ipykernel_8688\\885684830.py\u001B[0m in \u001B[0;36m<module>\u001B[1;34m\u001B[0m\n\u001B[1;32m----> 1\u001B[1;33m \u001B[0mconn\u001B[0m \u001B[1;33m=\u001B[0m \u001B[0mmu\u001B[0m\u001B[1;33m.\u001B[0m\u001B[0mconnect_mysql\u001B[0m\u001B[1;33m(\u001B[0m\u001B[1;34m'icia'\u001B[0m\u001B[1;33m)\u001B[0m\u001B[1;33m\u001B[0m\u001B[1;33m\u001B[0m\u001B[0m\n\u001B[0m\u001B[0;32m      2\u001B[0m \u001B[0mmu\u001B[0m\u001B[1;33m.\u001B[0m\u001B[0mmysql_exectue\u001B[0m\u001B[1;33m(\u001B[0m\u001B[0mquery4\u001B[0m\u001B[1;33m,\u001B[0m \u001B[0mconn\u001B[0m\u001B[1;33m)\u001B[0m\u001B[1;33m\u001B[0m\u001B[1;33m\u001B[0m\u001B[0m\n\u001B[0;32m      3\u001B[0m \u001B[0mconn\u001B[0m\u001B[1;33m.\u001B[0m\u001B[0mcommit\u001B[0m\u001B[1;33m(\u001B[0m\u001B[1;33m)\u001B[0m\u001B[1;33m\u001B[0m\u001B[1;33m\u001B[0m\u001B[0m\n\u001B[0;32m      4\u001B[0m \u001B[0mconn\u001B[0m\u001B[1;33m.\u001B[0m\u001B[0mclose\u001B[0m\u001B[1;33m(\u001B[0m\u001B[1;33m)\u001B[0m\u001B[1;33m\u001B[0m\u001B[1;33m\u001B[0m\u001B[0m\n",
      "\u001B[1;31mNameError\u001B[0m: name 'mu' is not defined"
     ]
    }
   ],
   "source": [
    "conn = mu.connect_mysql('icia')\n",
    "mu.mysql_exectue(query4, conn)\n",
    "conn.commit()\n",
    "conn.close()"
   ]
  },
  {
   "cell_type": "code",
   "execution_count": null,
   "id": "f5d65f9a",
   "metadata": {},
   "outputs": [],
   "source": [
    "conn = mu.connect_mysql('icia')\n",
    "query5 = 'select * from housePrice'\n",
    "mu.mysql_execute(query5, conn)"
   ]
  },
  {
   "cell_type": "code",
   "execution_count": 23,
   "id": "4b0c5fb4",
   "metadata": {},
   "outputs": [],
   "source": [
    "# insert 문을 함수로 만들 예정."
   ]
  },
  {
   "cell_type": "code",
   "execution_count": 24,
   "id": "8ff641a7",
   "metadata": {},
   "outputs": [
    {
     "ename": "NameError",
     "evalue": "name 'mu' is not defined",
     "output_type": "error",
     "traceback": [
      "\u001B[1;31m---------------------------------------------------------------------------\u001B[0m",
      "\u001B[1;31mNameError\u001B[0m                                 Traceback (most recent call last)",
      "\u001B[1;32m~\\AppData\\Local\\Temp\\ipykernel_8688\\4238539656.py\u001B[0m in \u001B[0;36m<module>\u001B[1;34m\u001B[0m\n\u001B[0;32m      1\u001B[0m \u001B[1;31m#mySql\u001B[0m\u001B[1;33m\u001B[0m\u001B[1;33m\u001B[0m\u001B[0m\n\u001B[1;32m----> 2\u001B[1;33m \u001B[0mconn\u001B[0m \u001B[1;33m=\u001B[0m \u001B[0mmu\u001B[0m\u001B[1;33m.\u001B[0m\u001B[0mconnect_mysql\u001B[0m\u001B[1;33m(\u001B[0m\u001B[1;34m'icia'\u001B[0m\u001B[1;33m)\u001B[0m\u001B[1;33m\u001B[0m\u001B[1;33m\u001B[0m\u001B[0m\n\u001B[0m\u001B[0;32m      3\u001B[0m \u001B[1;32mfor\u001B[0m \u001B[0mi\u001B[0m \u001B[1;32min\u001B[0m \u001B[0mrange\u001B[0m\u001B[1;33m(\u001B[0m\u001B[0mlen\u001B[0m\u001B[1;33m(\u001B[0m\u001B[0mmy_df\u001B[0m\u001B[1;33m)\u001B[0m\u001B[1;33m)\u001B[0m \u001B[1;33m:\u001B[0m\u001B[1;33m\u001B[0m\u001B[1;33m\u001B[0m\u001B[0m\n\u001B[0;32m      4\u001B[0m     query = (\n\u001B[0;32m      5\u001B[0m     )\n",
      "\u001B[1;31mNameError\u001B[0m: name 'mu' is not defined"
     ]
    }
   ],
   "source": [
    "#mySql\n",
    "conn = mu.connect_mysql('icia')\n",
    "for i in tqdm(range(len(my_df))) :\n",
    "    query4 = (\n",
    "    f'insert into housePrice(자치구명, 법정동명, 지번구분명, 층수, 계약일, 전월세, 면적, 보증금, 임대료, 건물명, 건축년도)'\n",
    "    f'values({repr(my_df.자치구명.iloc[0])}, {repr(my_df.법정동명.iloc[0])}')\n",
    "    f'{repr(my_df.지번구분명.iloc[0])}, {my_df.층수.iloc[0]}'\n",
    "    f'{my_df.계약일.iloc[0]}, {repr(my_df.전월세.iloc[0])}'\n",
    "    f'{my_df.면적.iloc[0]}, {my_df.보증금.iloc[0]}'\n",
    "    f'{my_df.임대료.iloc[0]}, {repr(my_df.건물명.iloc[0])}, {repr(my_df.건축년도.iloc[0])}'\n",
    "    mu.mysql_exectue(query4, conn)\n",
    "conn.commit()\n",
    "conn.close()"
   ]
  },
  {
   "cell_type": "code",
   "execution_count": null,
   "id": "5a720b5a",
   "metadata": {},
   "outputs": [],
   "source": [
    "# Oracle\n",
    "mu.db_open()\n",
    "for i in tqdm(range(len(my_df))) :\n",
    "    query4 = (\n",
    "    f'insert into housePrice(자치구명, 법정동명, 지번구분명, 층수, 계약일, 전월세, 면적, 보증금, 임대료, 건물명, 건축년도)'\n",
    "    f'values({repr(my_df.자치구명.iloc[0])}, {repr(my_df.법정동명.iloc[0])}')\n",
    "    f'{repr(my_df.지번구분명.iloc[0])}, {my_df.층수.iloc[0]}'\n",
    "    f'{my_df.계약일.iloc[0]}, {repr(my_df.전월세.iloc[0])}'\n",
    "    f'{my_df.면적.iloc[0]}, {my_df.보증금.iloc[0]}'\n",
    "    f'{my_df.임대료.iloc[0]}, {repr(my_df.건물명.iloc[0])}, {repr(my_df.건축년도.iloc[0])}'\n",
    "    mu.orcle_execute(query4, conn)\n",
    "mu.oracle_close()"
   ]
  },
  {
   "cell_type": "code",
   "execution_count": 25,
   "id": "9206683a",
   "metadata": {},
   "outputs": [],
   "source": [
    "from tqdm import tqdm"
   ]
  },
  {
   "cell_type": "code",
   "execution_count": null,
   "id": "83bdb10f",
   "metadata": {},
   "outputs": [],
   "source": [
    "conn = mu.connect_mysql('icia')\n",
    "df =pd.DataFrmae(mu.mysql_execute_dict(query5, conn))"
   ]
  },
  {
   "cell_type": "code",
   "execution_count": null,
   "id": "244258f3",
   "metadata": {},
   "outputs": [],
   "source": [
    "def df_insert_mysql(df) :\n",
    "    query4 = (\n",
    "    f'insert into housePrice(자치구명, 법정동명, 지번구분명, 층수, 계약일, 전월세, 면적, 보증금, 임대료, 건물명, 건축년도)'\n",
    "    f'values({repr(my_df.자치구명.iloc[i])}, {repr(my_df.법정동명.iloc[i])}')\n",
    "    f'{repr(my_df.지번구분명.iloc[i])}, {my_df.층수.iloc[i]}'\n",
    "    f'{my_df.계약일.iloc[i]}, {repr(my_df.전월세.iloc[i])}'\n",
    "    f'{my_df.면적.iloc[i]}, {my_df.보증금.iloc[i]}'\n",
    "    f'{my_df.임대료.iloc[i]}, {repr(my_df.건물명.iloc[i])}, {repr(my_df.건축년도.iloc[i])}\n",
    "    )\n",
    "    mu.mysql_execute(query4, conn)\n",
    "    return"
   ]
  },
  {
   "cell_type": "code",
   "execution_count": null,
   "id": "37223a41",
   "metadata": {},
   "outputs": [],
   "source": [
    "def df_insert_oracle(df) :\n",
    "    query4 = (\n",
    "    f'insert into housePrice(자치구명, 법정동명, 지번구분명, 층수, 계약일, 전월세, 면적, 보증금, 임대료, 건물명, 건축년도)'\n",
    "    f'values({repr(my_df.자치구명.iloc[i])}, {repr(my_df.법정동명.iloc[i])}')\n",
    "    f'{repr(my_df.지번구분명.iloc[i])}, {my_df.층수.iloc[i]}'\n",
    "    f'{my_df.계약일.iloc[i]}, {repr(my_df.전월세.iloc[i])}'\n",
    "    f'{my_df.면적.iloc[i]}, {my_df.보증금.iloc[i]}'\n",
    "    f'{my_df.임대료.iloc[i]}, {repr(my_df.건물명.iloc[i])}, {repr(my_df.건축년도.iloc[i])}\n",
    "    )\n",
    "    mu.orcle_execute(query4, conn)\n",
    "    return"
   ]
  },
  {
   "cell_type": "markdown",
   "id": "d62ddb4a",
   "metadata": {},
   "source": [
    "## 서울시 공공 데이터 포탈 - 서울시 코로나 19 확진자 발생 동향\n",
    "## api를 통해서 함수 만들었던 것으로 데이터 불러오기\n",
    "## 컬러명 - 서울시 기준일, 서울시 확진자, 서울시 치료중, 서울시 퇴원, 서울시 사망, 전국 확진, 전국 사망\n",
    "## 'S_DT', 'S_HJ', 'S_CARE', 'S_RECOVER', 'S_DEATE', 'T_HJ', 'DEATH'\n",
    "## DB에 테이블 생성, INSERT(CORONA19 COUNTSTATUS)"
   ]
  },
  {
   "cell_type": "code",
   "execution_count": 1,
   "id": "8292a510",
   "metadata": {},
   "outputs": [],
   "source": [
    "import pandas as pd"
   ]
  },
  {
   "cell_type": "code",
   "execution_count": 2,
   "id": "33018bc6",
   "metadata": {},
   "outputs": [],
   "source": [
    "import requests"
   ]
  },
  {
   "cell_type": "code",
   "execution_count": 62,
   "id": "6c2ee8cc",
   "metadata": {},
   "outputs": [],
   "source": [
    "import cx_Oracle as co"
   ]
  },
  {
   "cell_type": "code",
   "execution_count": 63,
   "id": "3f20559f",
   "metadata": {},
   "outputs": [],
   "source": [
    "import pymysql as pms"
   ]
  },
  {
   "cell_type": "code",
   "execution_count": 5,
   "id": "fa62b54a",
   "metadata": {},
   "outputs": [],
   "source": [
    "# url로 데이터 가져와서 DataFrame 만들기"
   ]
  },
  {
   "cell_type": "code",
   "execution_count": 6,
   "id": "ecf66416",
   "metadata": {},
   "outputs": [],
   "source": [
    "api_key = '5478465a5763686a313037546a74786f'\n",
    "url = f'http://openapi.seoul.go.kr:8088/{api_key}/json/TbCorona19CountStatus/1/300/'"
   ]
  },
  {
   "cell_type": "code",
   "execution_count": 7,
   "id": "88f76b4f",
   "metadata": {},
   "outputs": [],
   "source": [
    "res = requests.get(url).json()"
   ]
  },
  {
   "cell_type": "code",
   "execution_count": 8,
   "id": "26412dc1",
   "metadata": {},
   "outputs": [],
   "source": [
    "key = list(res.keys())[0]"
   ]
  },
  {
   "cell_type": "code",
   "execution_count": 9,
   "id": "65f00db7",
   "metadata": {},
   "outputs": [],
   "source": [
    "df = pd.DataFrame(res[key]['row'])"
   ]
  },
  {
   "cell_type": "code",
   "execution_count": 10,
   "id": "0c8f7c0c",
   "metadata": {},
   "outputs": [
    {
     "data": {
      "text/html": [
       "<div>\n",
       "<style scoped>\n",
       "    .dataframe tbody tr th:only-of-type {\n",
       "        vertical-align: middle;\n",
       "    }\n",
       "\n",
       "    .dataframe tbody tr th {\n",
       "        vertical-align: top;\n",
       "    }\n",
       "\n",
       "    .dataframe thead th {\n",
       "        text-align: right;\n",
       "    }\n",
       "</style>\n",
       "<table border=\"1\" class=\"dataframe\">\n",
       "  <thead>\n",
       "    <tr style=\"text-align: right;\">\n",
       "      <th></th>\n",
       "      <th>S_DT</th>\n",
       "      <th>S_HJ</th>\n",
       "      <th>SN_HJ</th>\n",
       "      <th>S_CARE</th>\n",
       "      <th>S_RECOVER</th>\n",
       "      <th>SN_RECOVER</th>\n",
       "      <th>S_DEATH</th>\n",
       "      <th>SY_TOTAL</th>\n",
       "      <th>SY_KJ</th>\n",
       "      <th>SY_KH</th>\n",
       "      <th>...</th>\n",
       "      <th>TY_TOTAL</th>\n",
       "      <th>TY_KJ</th>\n",
       "      <th>TY_KH</th>\n",
       "      <th>JGK_OVERSEAS_GS</th>\n",
       "      <th>JGK_OVERSEAS_GH</th>\n",
       "      <th>JGK_CONT_GS</th>\n",
       "      <th>JGK_CONT_GH</th>\n",
       "      <th>CHECKING</th>\n",
       "      <th>DAY_DEATH</th>\n",
       "      <th>ALL_DAY_DEATH</th>\n",
       "    </tr>\n",
       "  </thead>\n",
       "  <tbody>\n",
       "    <tr>\n",
       "      <th>0</th>\n",
       "      <td>2023.03.10.00</td>\n",
       "      <td>5944743</td>\n",
       "      <td>2170</td>\n",
       "      <td>0</td>\n",
       "      <td></td>\n",
       "      <td></td>\n",
       "      <td>6359</td>\n",
       "      <td></td>\n",
       "      <td></td>\n",
       "      <td></td>\n",
       "      <td>...</td>\n",
       "      <td></td>\n",
       "      <td></td>\n",
       "      <td></td>\n",
       "      <td></td>\n",
       "      <td></td>\n",
       "      <td></td>\n",
       "      <td></td>\n",
       "      <td>0</td>\n",
       "      <td>1</td>\n",
       "      <td>12</td>\n",
       "    </tr>\n",
       "    <tr>\n",
       "      <th>1</th>\n",
       "      <td>2023.03.09.00</td>\n",
       "      <td>5942573</td>\n",
       "      <td>2131</td>\n",
       "      <td>0</td>\n",
       "      <td></td>\n",
       "      <td></td>\n",
       "      <td>6358</td>\n",
       "      <td></td>\n",
       "      <td></td>\n",
       "      <td></td>\n",
       "      <td>...</td>\n",
       "      <td></td>\n",
       "      <td></td>\n",
       "      <td></td>\n",
       "      <td></td>\n",
       "      <td></td>\n",
       "      <td></td>\n",
       "      <td></td>\n",
       "      <td>0</td>\n",
       "      <td>0</td>\n",
       "      <td>20</td>\n",
       "    </tr>\n",
       "    <tr>\n",
       "      <th>2</th>\n",
       "      <td>2023.03.08.00</td>\n",
       "      <td>5940442</td>\n",
       "      <td>2447</td>\n",
       "      <td>0</td>\n",
       "      <td></td>\n",
       "      <td></td>\n",
       "      <td>6358</td>\n",
       "      <td></td>\n",
       "      <td></td>\n",
       "      <td></td>\n",
       "      <td>...</td>\n",
       "      <td></td>\n",
       "      <td></td>\n",
       "      <td></td>\n",
       "      <td></td>\n",
       "      <td></td>\n",
       "      <td></td>\n",
       "      <td></td>\n",
       "      <td>0</td>\n",
       "      <td>0</td>\n",
       "      <td>12</td>\n",
       "    </tr>\n",
       "    <tr>\n",
       "      <th>3</th>\n",
       "      <td>2023.03.07.00</td>\n",
       "      <td>5937995</td>\n",
       "      <td>2748</td>\n",
       "      <td>0</td>\n",
       "      <td></td>\n",
       "      <td></td>\n",
       "      <td>6358</td>\n",
       "      <td></td>\n",
       "      <td></td>\n",
       "      <td></td>\n",
       "      <td>...</td>\n",
       "      <td></td>\n",
       "      <td></td>\n",
       "      <td></td>\n",
       "      <td></td>\n",
       "      <td></td>\n",
       "      <td></td>\n",
       "      <td></td>\n",
       "      <td>0</td>\n",
       "      <td>3</td>\n",
       "      <td>15</td>\n",
       "    </tr>\n",
       "    <tr>\n",
       "      <th>4</th>\n",
       "      <td>2023.03.06.00</td>\n",
       "      <td>5935247</td>\n",
       "      <td>734</td>\n",
       "      <td>0</td>\n",
       "      <td></td>\n",
       "      <td></td>\n",
       "      <td>6355</td>\n",
       "      <td></td>\n",
       "      <td></td>\n",
       "      <td></td>\n",
       "      <td>...</td>\n",
       "      <td></td>\n",
       "      <td></td>\n",
       "      <td></td>\n",
       "      <td></td>\n",
       "      <td></td>\n",
       "      <td></td>\n",
       "      <td></td>\n",
       "      <td>0</td>\n",
       "      <td>2</td>\n",
       "      <td>9</td>\n",
       "    </tr>\n",
       "    <tr>\n",
       "      <th>...</th>\n",
       "      <td>...</td>\n",
       "      <td>...</td>\n",
       "      <td>...</td>\n",
       "      <td>...</td>\n",
       "      <td>...</td>\n",
       "      <td>...</td>\n",
       "      <td>...</td>\n",
       "      <td>...</td>\n",
       "      <td>...</td>\n",
       "      <td>...</td>\n",
       "      <td>...</td>\n",
       "      <td>...</td>\n",
       "      <td>...</td>\n",
       "      <td>...</td>\n",
       "      <td>...</td>\n",
       "      <td>...</td>\n",
       "      <td>...</td>\n",
       "      <td>...</td>\n",
       "      <td>...</td>\n",
       "      <td>...</td>\n",
       "      <td>...</td>\n",
       "    </tr>\n",
       "    <tr>\n",
       "      <th>295</th>\n",
       "      <td>2022.05.19.00</td>\n",
       "      <td>3582481</td>\n",
       "      <td>4557</td>\n",
       "      <td>0</td>\n",
       "      <td></td>\n",
       "      <td></td>\n",
       "      <td>4777</td>\n",
       "      <td></td>\n",
       "      <td></td>\n",
       "      <td></td>\n",
       "      <td>...</td>\n",
       "      <td></td>\n",
       "      <td></td>\n",
       "      <td></td>\n",
       "      <td></td>\n",
       "      <td></td>\n",
       "      <td></td>\n",
       "      <td></td>\n",
       "      <td>0</td>\n",
       "      <td>7</td>\n",
       "      <td>40</td>\n",
       "    </tr>\n",
       "    <tr>\n",
       "      <th>296</th>\n",
       "      <td>2022.05.18.00</td>\n",
       "      <td>3577930</td>\n",
       "      <td>5043</td>\n",
       "      <td>0</td>\n",
       "      <td></td>\n",
       "      <td></td>\n",
       "      <td>4770</td>\n",
       "      <td></td>\n",
       "      <td></td>\n",
       "      <td></td>\n",
       "      <td>...</td>\n",
       "      <td></td>\n",
       "      <td></td>\n",
       "      <td></td>\n",
       "      <td></td>\n",
       "      <td></td>\n",
       "      <td></td>\n",
       "      <td></td>\n",
       "      <td>0</td>\n",
       "      <td>5</td>\n",
       "      <td>31</td>\n",
       "    </tr>\n",
       "    <tr>\n",
       "      <th>297</th>\n",
       "      <td>2022.05.17.00</td>\n",
       "      <td>3572888</td>\n",
       "      <td>5889</td>\n",
       "      <td>0</td>\n",
       "      <td></td>\n",
       "      <td></td>\n",
       "      <td>4765</td>\n",
       "      <td></td>\n",
       "      <td></td>\n",
       "      <td></td>\n",
       "      <td>...</td>\n",
       "      <td></td>\n",
       "      <td></td>\n",
       "      <td></td>\n",
       "      <td></td>\n",
       "      <td></td>\n",
       "      <td></td>\n",
       "      <td></td>\n",
       "      <td>0</td>\n",
       "      <td>3</td>\n",
       "      <td>27</td>\n",
       "    </tr>\n",
       "    <tr>\n",
       "      <th>298</th>\n",
       "      <td>2022.05.16.00</td>\n",
       "      <td>3567016</td>\n",
       "      <td>1684</td>\n",
       "      <td>0</td>\n",
       "      <td></td>\n",
       "      <td></td>\n",
       "      <td>4762</td>\n",
       "      <td></td>\n",
       "      <td></td>\n",
       "      <td></td>\n",
       "      <td>...</td>\n",
       "      <td></td>\n",
       "      <td></td>\n",
       "      <td></td>\n",
       "      <td></td>\n",
       "      <td></td>\n",
       "      <td></td>\n",
       "      <td></td>\n",
       "      <td>0</td>\n",
       "      <td>5</td>\n",
       "      <td>35</td>\n",
       "    </tr>\n",
       "    <tr>\n",
       "      <th>299</th>\n",
       "      <td>2022.05.15.00</td>\n",
       "      <td>3565332</td>\n",
       "      <td>4025</td>\n",
       "      <td>0</td>\n",
       "      <td></td>\n",
       "      <td></td>\n",
       "      <td>4757</td>\n",
       "      <td></td>\n",
       "      <td></td>\n",
       "      <td></td>\n",
       "      <td>...</td>\n",
       "      <td></td>\n",
       "      <td></td>\n",
       "      <td></td>\n",
       "      <td></td>\n",
       "      <td></td>\n",
       "      <td></td>\n",
       "      <td></td>\n",
       "      <td>0</td>\n",
       "      <td>12</td>\n",
       "      <td>48</td>\n",
       "    </tr>\n",
       "  </tbody>\n",
       "</table>\n",
       "<p>300 rows × 26 columns</p>\n",
       "</div>"
      ],
      "text/plain": [
       "              S_DT     S_HJ SN_HJ S_CARE S_RECOVER SN_RECOVER S_DEATH  \\\n",
       "0    2023.03.10.00  5944743  2170      0                         6359   \n",
       "1    2023.03.09.00  5942573  2131      0                         6358   \n",
       "2    2023.03.08.00  5940442  2447      0                         6358   \n",
       "3    2023.03.07.00  5937995  2748      0                         6358   \n",
       "4    2023.03.06.00  5935247   734      0                         6355   \n",
       "..             ...      ...   ...    ...       ...        ...     ...   \n",
       "295  2022.05.19.00  3582481  4557      0                         4777   \n",
       "296  2022.05.18.00  3577930  5043      0                         4770   \n",
       "297  2022.05.17.00  3572888  5889      0                         4765   \n",
       "298  2022.05.16.00  3567016  1684      0                         4762   \n",
       "299  2022.05.15.00  3565332  4025      0                         4757   \n",
       "\n",
       "    SY_TOTAL SY_KJ SY_KH  ... TY_TOTAL TY_KJ TY_KH JGK_OVERSEAS_GS  \\\n",
       "0                         ...                                        \n",
       "1                         ...                                        \n",
       "2                         ...                                        \n",
       "3                         ...                                        \n",
       "4                         ...                                        \n",
       "..       ...   ...   ...  ...      ...   ...   ...             ...   \n",
       "295                       ...                                        \n",
       "296                       ...                                        \n",
       "297                       ...                                        \n",
       "298                       ...                                        \n",
       "299                       ...                                        \n",
       "\n",
       "    JGK_OVERSEAS_GH JGK_CONT_GS JGK_CONT_GH CHECKING DAY_DEATH ALL_DAY_DEATH  \n",
       "0                                                  0         1            12  \n",
       "1                                                  0         0            20  \n",
       "2                                                  0         0            12  \n",
       "3                                                  0         3            15  \n",
       "4                                                  0         2             9  \n",
       "..              ...         ...         ...      ...       ...           ...  \n",
       "295                                                0         7            40  \n",
       "296                                                0         5            31  \n",
       "297                                                0         3            27  \n",
       "298                                                0         5            35  \n",
       "299                                                0        12            48  \n",
       "\n",
       "[300 rows x 26 columns]"
      ]
     },
     "execution_count": 10,
     "metadata": {},
     "output_type": "execute_result"
    }
   ],
   "source": [
    "df"
   ]
  },
  {
   "cell_type": "code",
   "execution_count": 11,
   "id": "e992662c",
   "metadata": {},
   "outputs": [],
   "source": [
    "sel_c = ['S_DT', 'S_HJ', 'S_CARE', 'S_RECOVER', 'S_DEATH', 'T_HJ', 'DEATH']"
   ]
  },
  {
   "cell_type": "code",
   "execution_count": 37,
   "id": "8ef02769",
   "metadata": {},
   "outputs": [],
   "source": [
    "my_df = df[sel_c].copy()"
   ]
  },
  {
   "cell_type": "code",
   "execution_count": 85,
   "id": "f4c41199",
   "metadata": {},
   "outputs": [],
   "source": [
    "my_df.columns = ['서울시기준일', '서울시확진자', '서울시치료중', '서울시퇴원', '서울시사망', '전국확진', '전국사망']"
   ]
  },
  {
   "cell_type": "code",
   "execution_count": 86,
   "id": "36925a0e",
   "metadata": {},
   "outputs": [
    {
     "data": {
      "text/html": [
       "<div>\n",
       "<style scoped>\n",
       "    .dataframe tbody tr th:only-of-type {\n",
       "        vertical-align: middle;\n",
       "    }\n",
       "\n",
       "    .dataframe tbody tr th {\n",
       "        vertical-align: top;\n",
       "    }\n",
       "\n",
       "    .dataframe thead th {\n",
       "        text-align: right;\n",
       "    }\n",
       "</style>\n",
       "<table border=\"1\" class=\"dataframe\">\n",
       "  <thead>\n",
       "    <tr style=\"text-align: right;\">\n",
       "      <th></th>\n",
       "      <th>서울시기준일</th>\n",
       "      <th>서울시확진자</th>\n",
       "      <th>서울시치료중</th>\n",
       "      <th>서울시퇴원</th>\n",
       "      <th>서울시사망</th>\n",
       "      <th>전국확진</th>\n",
       "      <th>전국사망</th>\n",
       "    </tr>\n",
       "  </thead>\n",
       "  <tbody>\n",
       "    <tr>\n",
       "      <th>0</th>\n",
       "      <td>2023.03.10.00</td>\n",
       "      <td>5944743</td>\n",
       "      <td>0</td>\n",
       "      <td></td>\n",
       "      <td>6359</td>\n",
       "      <td>30615522.0</td>\n",
       "      <td>34093.0</td>\n",
       "    </tr>\n",
       "    <tr>\n",
       "      <th>1</th>\n",
       "      <td>2023.03.09.00</td>\n",
       "      <td>5942573</td>\n",
       "      <td>0</td>\n",
       "      <td></td>\n",
       "      <td>6358</td>\n",
       "      <td>30605187.0</td>\n",
       "      <td>34081.0</td>\n",
       "    </tr>\n",
       "    <tr>\n",
       "      <th>2</th>\n",
       "      <td>2023.03.08.00</td>\n",
       "      <td>5940442</td>\n",
       "      <td>0</td>\n",
       "      <td></td>\n",
       "      <td>6358</td>\n",
       "      <td>30594297.0</td>\n",
       "      <td>34061.0</td>\n",
       "    </tr>\n",
       "    <tr>\n",
       "      <th>3</th>\n",
       "      <td>2023.03.07.00</td>\n",
       "      <td>5937995</td>\n",
       "      <td>0</td>\n",
       "      <td></td>\n",
       "      <td>6358</td>\n",
       "      <td>30581499.0</td>\n",
       "      <td>34049.0</td>\n",
       "    </tr>\n",
       "    <tr>\n",
       "      <th>4</th>\n",
       "      <td>2023.03.06.00</td>\n",
       "      <td>5935247</td>\n",
       "      <td>0</td>\n",
       "      <td></td>\n",
       "      <td>6355</td>\n",
       "      <td>30569215.0</td>\n",
       "      <td>34034.0</td>\n",
       "    </tr>\n",
       "    <tr>\n",
       "      <th>...</th>\n",
       "      <td>...</td>\n",
       "      <td>...</td>\n",
       "      <td>...</td>\n",
       "      <td>...</td>\n",
       "      <td>...</td>\n",
       "      <td>...</td>\n",
       "      <td>...</td>\n",
       "    </tr>\n",
       "    <tr>\n",
       "      <th>295</th>\n",
       "      <td>2022.05.19.00</td>\n",
       "      <td>3582481</td>\n",
       "      <td>0</td>\n",
       "      <td></td>\n",
       "      <td>4777</td>\n",
       "      <td>17889849.0</td>\n",
       "      <td>23842.0</td>\n",
       "    </tr>\n",
       "    <tr>\n",
       "      <th>296</th>\n",
       "      <td>2022.05.18.00</td>\n",
       "      <td>3577930</td>\n",
       "      <td>0</td>\n",
       "      <td></td>\n",
       "      <td>4770</td>\n",
       "      <td>17861744.0</td>\n",
       "      <td>23802.0</td>\n",
       "    </tr>\n",
       "    <tr>\n",
       "      <th>297</th>\n",
       "      <td>2022.05.17.00</td>\n",
       "      <td>3572888</td>\n",
       "      <td>0</td>\n",
       "      <td></td>\n",
       "      <td>4765</td>\n",
       "      <td>17830429.0</td>\n",
       "      <td>23771.0</td>\n",
       "    </tr>\n",
       "    <tr>\n",
       "      <th>298</th>\n",
       "      <td>2022.05.16.00</td>\n",
       "      <td>3567016</td>\n",
       "      <td>0</td>\n",
       "      <td></td>\n",
       "      <td>4762</td>\n",
       "      <td>17795357.0</td>\n",
       "      <td>23744.0</td>\n",
       "    </tr>\n",
       "    <tr>\n",
       "      <th>299</th>\n",
       "      <td>2022.05.15.00</td>\n",
       "      <td>3565332</td>\n",
       "      <td>0</td>\n",
       "      <td></td>\n",
       "      <td>4757</td>\n",
       "      <td>17782061.0</td>\n",
       "      <td>23709.0</td>\n",
       "    </tr>\n",
       "  </tbody>\n",
       "</table>\n",
       "<p>300 rows × 7 columns</p>\n",
       "</div>"
      ],
      "text/plain": [
       "            서울시기준일   서울시확진자  서울시치료중 서울시퇴원  서울시사망        전국확진     전국사망\n",
       "0    2023.03.10.00  5944743       0         6359  30615522.0  34093.0\n",
       "1    2023.03.09.00  5942573       0         6358  30605187.0  34081.0\n",
       "2    2023.03.08.00  5940442       0         6358  30594297.0  34061.0\n",
       "3    2023.03.07.00  5937995       0         6358  30581499.0  34049.0\n",
       "4    2023.03.06.00  5935247       0         6355  30569215.0  34034.0\n",
       "..             ...      ...     ...   ...    ...         ...      ...\n",
       "295  2022.05.19.00  3582481       0         4777  17889849.0  23842.0\n",
       "296  2022.05.18.00  3577930       0         4770  17861744.0  23802.0\n",
       "297  2022.05.17.00  3572888       0         4765  17830429.0  23771.0\n",
       "298  2022.05.16.00  3567016       0         4762  17795357.0  23744.0\n",
       "299  2022.05.15.00  3565332       0         4757  17782061.0  23709.0\n",
       "\n",
       "[300 rows x 7 columns]"
      ]
     },
     "execution_count": 86,
     "metadata": {},
     "output_type": "execute_result"
    }
   ],
   "source": [
    "my_df"
   ]
  },
  {
   "cell_type": "code",
   "execution_count": 52,
   "id": "62fdf150",
   "metadata": {},
   "outputs": [],
   "source": [
    "# NoneType을 0으로 만들기 <= 집에서 해보기"
   ]
  },
  {
   "cell_type": "code",
   "execution_count": 42,
   "id": "f3d4fe8e",
   "metadata": {},
   "outputs": [
    {
     "data": {
      "text/html": [
       "<div>\n",
       "<style scoped>\n",
       "    .dataframe tbody tr th:only-of-type {\n",
       "        vertical-align: middle;\n",
       "    }\n",
       "\n",
       "    .dataframe tbody tr th {\n",
       "        vertical-align: top;\n",
       "    }\n",
       "\n",
       "    .dataframe thead th {\n",
       "        text-align: right;\n",
       "    }\n",
       "</style>\n",
       "<table border=\"1\" class=\"dataframe\">\n",
       "  <thead>\n",
       "    <tr style=\"text-align: right;\">\n",
       "      <th></th>\n",
       "      <th>서울시 기준일</th>\n",
       "      <th>서울시 확진자</th>\n",
       "      <th>서울시 치료중</th>\n",
       "      <th>서울시 퇴원</th>\n",
       "      <th>서울시 사망</th>\n",
       "      <th>전국 확진</th>\n",
       "      <th>전국 사망</th>\n",
       "    </tr>\n",
       "  </thead>\n",
       "  <tbody>\n",
       "    <tr>\n",
       "      <th>0</th>\n",
       "      <td>2023.03.10.00</td>\n",
       "      <td>5944743</td>\n",
       "      <td>0</td>\n",
       "      <td></td>\n",
       "      <td>6359</td>\n",
       "      <td>30615522</td>\n",
       "      <td>34093</td>\n",
       "    </tr>\n",
       "    <tr>\n",
       "      <th>1</th>\n",
       "      <td>2023.03.09.00</td>\n",
       "      <td>5942573</td>\n",
       "      <td>0</td>\n",
       "      <td></td>\n",
       "      <td>6358</td>\n",
       "      <td>30605187</td>\n",
       "      <td>34081</td>\n",
       "    </tr>\n",
       "    <tr>\n",
       "      <th>2</th>\n",
       "      <td>2023.03.08.00</td>\n",
       "      <td>5940442</td>\n",
       "      <td>0</td>\n",
       "      <td></td>\n",
       "      <td>6358</td>\n",
       "      <td>30594297</td>\n",
       "      <td>34061</td>\n",
       "    </tr>\n",
       "    <tr>\n",
       "      <th>3</th>\n",
       "      <td>2023.03.07.00</td>\n",
       "      <td>5937995</td>\n",
       "      <td>0</td>\n",
       "      <td></td>\n",
       "      <td>6358</td>\n",
       "      <td>30581499</td>\n",
       "      <td>34049</td>\n",
       "    </tr>\n",
       "    <tr>\n",
       "      <th>4</th>\n",
       "      <td>2023.03.06.00</td>\n",
       "      <td>5935247</td>\n",
       "      <td>0</td>\n",
       "      <td></td>\n",
       "      <td>6355</td>\n",
       "      <td>30569215</td>\n",
       "      <td>34034</td>\n",
       "    </tr>\n",
       "    <tr>\n",
       "      <th>...</th>\n",
       "      <td>...</td>\n",
       "      <td>...</td>\n",
       "      <td>...</td>\n",
       "      <td>...</td>\n",
       "      <td>...</td>\n",
       "      <td>...</td>\n",
       "      <td>...</td>\n",
       "    </tr>\n",
       "    <tr>\n",
       "      <th>295</th>\n",
       "      <td>2022.05.19.00</td>\n",
       "      <td>3582481</td>\n",
       "      <td>0</td>\n",
       "      <td></td>\n",
       "      <td>4777</td>\n",
       "      <td>17889849</td>\n",
       "      <td>23842</td>\n",
       "    </tr>\n",
       "    <tr>\n",
       "      <th>296</th>\n",
       "      <td>2022.05.18.00</td>\n",
       "      <td>3577930</td>\n",
       "      <td>0</td>\n",
       "      <td></td>\n",
       "      <td>4770</td>\n",
       "      <td>17861744</td>\n",
       "      <td>23802</td>\n",
       "    </tr>\n",
       "    <tr>\n",
       "      <th>297</th>\n",
       "      <td>2022.05.17.00</td>\n",
       "      <td>3572888</td>\n",
       "      <td>0</td>\n",
       "      <td></td>\n",
       "      <td>4765</td>\n",
       "      <td>17830429</td>\n",
       "      <td>23771</td>\n",
       "    </tr>\n",
       "    <tr>\n",
       "      <th>298</th>\n",
       "      <td>2022.05.16.00</td>\n",
       "      <td>3567016</td>\n",
       "      <td>0</td>\n",
       "      <td></td>\n",
       "      <td>4762</td>\n",
       "      <td>17795357</td>\n",
       "      <td>23744</td>\n",
       "    </tr>\n",
       "    <tr>\n",
       "      <th>299</th>\n",
       "      <td>2022.05.15.00</td>\n",
       "      <td>3565332</td>\n",
       "      <td>0</td>\n",
       "      <td></td>\n",
       "      <td>4757</td>\n",
       "      <td>17782061</td>\n",
       "      <td>23709</td>\n",
       "    </tr>\n",
       "  </tbody>\n",
       "</table>\n",
       "<p>300 rows × 7 columns</p>\n",
       "</div>"
      ],
      "text/plain": [
       "           서울시 기준일  서울시 확진자 서울시 치료중 서울시 퇴원 서울시 사망     전국 확진  전국 사망\n",
       "0    2023.03.10.00  5944743       0          6359  30615522  34093\n",
       "1    2023.03.09.00  5942573       0          6358  30605187  34081\n",
       "2    2023.03.08.00  5940442       0          6358  30594297  34061\n",
       "3    2023.03.07.00  5937995       0          6358  30581499  34049\n",
       "4    2023.03.06.00  5935247       0          6355  30569215  34034\n",
       "..             ...      ...     ...    ...    ...       ...    ...\n",
       "295  2022.05.19.00  3582481       0          4777  17889849  23842\n",
       "296  2022.05.18.00  3577930       0          4770  17861744  23802\n",
       "297  2022.05.17.00  3572888       0          4765  17830429  23771\n",
       "298  2022.05.16.00  3567016       0          4762  17795357  23744\n",
       "299  2022.05.15.00  3565332       0          4757  17782061  23709\n",
       "\n",
       "[300 rows x 7 columns]"
      ]
     },
     "execution_count": 42,
     "metadata": {},
     "output_type": "execute_result"
    }
   ],
   "source": [
    "my_df"
   ]
  },
  {
   "cell_type": "code",
   "execution_count": 58,
   "id": "ee0af779",
   "metadata": {},
   "outputs": [
    {
     "data": {
      "text/plain": [
       "서울시 기준일     object\n",
       "서울시 확진자      int32\n",
       "서울시 치료중      int32\n",
       "서울시 퇴원      object\n",
       "서울시 사망       int32\n",
       "전국 확진      float64\n",
       "전국 사망      float64\n",
       "dtype: object"
      ]
     },
     "execution_count": 58,
     "metadata": {},
     "output_type": "execute_result"
    }
   ],
   "source": [
    "my_df.dtypes"
   ]
  },
  {
   "cell_type": "code",
   "execution_count": 57,
   "id": "07e779cc",
   "metadata": {},
   "outputs": [],
   "source": [
    "my_df = my_df.astype({'전국 사망' : 'float'})"
   ]
  },
  {
   "cell_type": "code",
   "execution_count": 59,
   "id": "5ad17ce4",
   "metadata": {},
   "outputs": [],
   "source": [
    "my_df = my_df.fillna(0)"
   ]
  },
  {
   "cell_type": "code",
   "execution_count": 60,
   "id": "ccd2b54c",
   "metadata": {},
   "outputs": [
    {
     "data": {
      "text/html": [
       "<div>\n",
       "<style scoped>\n",
       "    .dataframe tbody tr th:only-of-type {\n",
       "        vertical-align: middle;\n",
       "    }\n",
       "\n",
       "    .dataframe tbody tr th {\n",
       "        vertical-align: top;\n",
       "    }\n",
       "\n",
       "    .dataframe thead th {\n",
       "        text-align: right;\n",
       "    }\n",
       "</style>\n",
       "<table border=\"1\" class=\"dataframe\">\n",
       "  <thead>\n",
       "    <tr style=\"text-align: right;\">\n",
       "      <th></th>\n",
       "      <th>서울시 기준일</th>\n",
       "      <th>서울시 확진자</th>\n",
       "      <th>서울시 치료중</th>\n",
       "      <th>서울시 퇴원</th>\n",
       "      <th>서울시 사망</th>\n",
       "      <th>전국 확진</th>\n",
       "      <th>전국 사망</th>\n",
       "    </tr>\n",
       "  </thead>\n",
       "  <tbody>\n",
       "    <tr>\n",
       "      <th>0</th>\n",
       "      <td>2023.03.10.00</td>\n",
       "      <td>5944743</td>\n",
       "      <td>0</td>\n",
       "      <td></td>\n",
       "      <td>6359</td>\n",
       "      <td>30615522.0</td>\n",
       "      <td>34093.0</td>\n",
       "    </tr>\n",
       "    <tr>\n",
       "      <th>1</th>\n",
       "      <td>2023.03.09.00</td>\n",
       "      <td>5942573</td>\n",
       "      <td>0</td>\n",
       "      <td></td>\n",
       "      <td>6358</td>\n",
       "      <td>30605187.0</td>\n",
       "      <td>34081.0</td>\n",
       "    </tr>\n",
       "    <tr>\n",
       "      <th>2</th>\n",
       "      <td>2023.03.08.00</td>\n",
       "      <td>5940442</td>\n",
       "      <td>0</td>\n",
       "      <td></td>\n",
       "      <td>6358</td>\n",
       "      <td>30594297.0</td>\n",
       "      <td>34061.0</td>\n",
       "    </tr>\n",
       "    <tr>\n",
       "      <th>3</th>\n",
       "      <td>2023.03.07.00</td>\n",
       "      <td>5937995</td>\n",
       "      <td>0</td>\n",
       "      <td></td>\n",
       "      <td>6358</td>\n",
       "      <td>30581499.0</td>\n",
       "      <td>34049.0</td>\n",
       "    </tr>\n",
       "    <tr>\n",
       "      <th>4</th>\n",
       "      <td>2023.03.06.00</td>\n",
       "      <td>5935247</td>\n",
       "      <td>0</td>\n",
       "      <td></td>\n",
       "      <td>6355</td>\n",
       "      <td>30569215.0</td>\n",
       "      <td>34034.0</td>\n",
       "    </tr>\n",
       "    <tr>\n",
       "      <th>...</th>\n",
       "      <td>...</td>\n",
       "      <td>...</td>\n",
       "      <td>...</td>\n",
       "      <td>...</td>\n",
       "      <td>...</td>\n",
       "      <td>...</td>\n",
       "      <td>...</td>\n",
       "    </tr>\n",
       "    <tr>\n",
       "      <th>295</th>\n",
       "      <td>2022.05.19.00</td>\n",
       "      <td>3582481</td>\n",
       "      <td>0</td>\n",
       "      <td></td>\n",
       "      <td>4777</td>\n",
       "      <td>17889849.0</td>\n",
       "      <td>23842.0</td>\n",
       "    </tr>\n",
       "    <tr>\n",
       "      <th>296</th>\n",
       "      <td>2022.05.18.00</td>\n",
       "      <td>3577930</td>\n",
       "      <td>0</td>\n",
       "      <td></td>\n",
       "      <td>4770</td>\n",
       "      <td>17861744.0</td>\n",
       "      <td>23802.0</td>\n",
       "    </tr>\n",
       "    <tr>\n",
       "      <th>297</th>\n",
       "      <td>2022.05.17.00</td>\n",
       "      <td>3572888</td>\n",
       "      <td>0</td>\n",
       "      <td></td>\n",
       "      <td>4765</td>\n",
       "      <td>17830429.0</td>\n",
       "      <td>23771.0</td>\n",
       "    </tr>\n",
       "    <tr>\n",
       "      <th>298</th>\n",
       "      <td>2022.05.16.00</td>\n",
       "      <td>3567016</td>\n",
       "      <td>0</td>\n",
       "      <td></td>\n",
       "      <td>4762</td>\n",
       "      <td>17795357.0</td>\n",
       "      <td>23744.0</td>\n",
       "    </tr>\n",
       "    <tr>\n",
       "      <th>299</th>\n",
       "      <td>2022.05.15.00</td>\n",
       "      <td>3565332</td>\n",
       "      <td>0</td>\n",
       "      <td></td>\n",
       "      <td>4757</td>\n",
       "      <td>17782061.0</td>\n",
       "      <td>23709.0</td>\n",
       "    </tr>\n",
       "  </tbody>\n",
       "</table>\n",
       "<p>300 rows × 7 columns</p>\n",
       "</div>"
      ],
      "text/plain": [
       "           서울시 기준일  서울시 확진자  서울시 치료중 서울시 퇴원  서울시 사망       전국 확진    전국 사망\n",
       "0    2023.03.10.00  5944743        0           6359  30615522.0  34093.0\n",
       "1    2023.03.09.00  5942573        0           6358  30605187.0  34081.0\n",
       "2    2023.03.08.00  5940442        0           6358  30594297.0  34061.0\n",
       "3    2023.03.07.00  5937995        0           6358  30581499.0  34049.0\n",
       "4    2023.03.06.00  5935247        0           6355  30569215.0  34034.0\n",
       "..             ...      ...      ...    ...     ...         ...      ...\n",
       "295  2022.05.19.00  3582481        0           4777  17889849.0  23842.0\n",
       "296  2022.05.18.00  3577930        0           4770  17861744.0  23802.0\n",
       "297  2022.05.17.00  3572888        0           4765  17830429.0  23771.0\n",
       "298  2022.05.16.00  3567016        0           4762  17795357.0  23744.0\n",
       "299  2022.05.15.00  3565332        0           4757  17782061.0  23709.0\n",
       "\n",
       "[300 rows x 7 columns]"
      ]
     },
     "execution_count": 60,
     "metadata": {},
     "output_type": "execute_result"
    }
   ],
   "source": [
    "my_df"
   ]
  },
  {
   "cell_type": "code",
   "execution_count": 65,
   "id": "70cc4d55",
   "metadata": {},
   "outputs": [],
   "source": [
    "dsn = co.makedsn('localhost', 1521, 'xe')\n",
    "db = co.connect(user = 'icia', password = '1111', dsn = dsn)\n",
    "cursor = db.cursor()"
   ]
  },
  {
   "cell_type": "code",
   "execution_count": 73,
   "id": "b82fe9c5",
   "metadata": {},
   "outputs": [],
   "source": [
    "# 오라클 테이블 생성 쿼리\n",
    "create_table_query = create_table_query = 'CREATE TABLE CORONA19_COUNTSTATUS(서울시기준일 VARCHAR(50),서울시확진자 NUMBER(20), 서울시치료중 NUMBER(20), 서울시퇴원 VARCHAR(20), 서울시사망 NUMBER(20), 전국확진 NUMBER(20), 전국사망 NUMBER(20))'"
   ]
  },
  {
   "cell_type": "code",
   "execution_count": 74,
   "id": "a8acc5c9",
   "metadata": {},
   "outputs": [],
   "source": [
    "cursor.execute(create_table_query)"
   ]
  },
  {
   "cell_type": "code",
   "execution_count": 101,
   "id": "2319fdcf",
   "metadata": {},
   "outputs": [],
   "source": [
    "for i in range(len(my_df)):\n",
    "    insert_table_query = (\n",
    "        f'INSERT INTO CORONA19_COUNTSTATUS(서울시기준일, 서울시확진자, 서울시치료중, 서울시퇴원, 서울시사망, 전국확진, 전국사망)'\n",
    "        f' VALUES({repr(my_df.서울시기준일.iloc[i])}, {my_df.서울시확진자.iloc[i]}, {my_df.서울시치료중.iloc[i]}, NULL'\n",
    "        f', {my_df.서울시사망.iloc[i]}, {my_df.전국확진.iloc[i]}, {my_df.전국사망.iloc[i]})'\n",
    "    )\n",
    "    \n",
    "    cursor.execute(insert_table_query);\n",
    "db.commit()"
   ]
  },
  {
   "cell_type": "code",
   "execution_count": 97,
   "id": "1bf29513",
   "metadata": {},
   "outputs": [],
   "source": [
    "insert_table_query = (\n",
    "        f'INSERT INTO CORONA19_COUNTSTATUS(서울시기준일, 서울시확진자, 서울시치료중, 서울시퇴원, 서울시사망, 전국확진, 전국사망)'\n",
    "        f' VALUES({repr(my_df.서울시기준일.iloc[0])}, {my_df.서울시확진자.iloc[0]}, {my_df.서울시치료중.iloc[0]}, NULL'\n",
    "        f', {my_df.서울시사망.iloc[0]}, {my_df.전국확진.iloc[0]}, {my_df.전국사망.iloc[0]})'\n",
    "    )"
   ]
  },
  {
   "cell_type": "code",
   "execution_count": 98,
   "id": "7551e0a5",
   "metadata": {},
   "outputs": [
    {
     "data": {
      "text/plain": [
       "\"INSERT INTO CORONA19_COUNTSTATUS(서울시기준일, 서울시확진자, 서울시치료중, 서울시퇴원, 서울시사망, 전국확진, 전국사망) VALUES('2023.03.10.00', 5944743, 0, NULL, 6359, 30615522.0, 34093.0)\""
      ]
     },
     "execution_count": 98,
     "metadata": {},
     "output_type": "execute_result"
    }
   ],
   "source": [
    "insert_table_query"
   ]
  },
  {
   "cell_type": "code",
   "execution_count": null,
   "id": "ba1dce0c",
   "metadata": {},
   "outputs": [],
   "source": []
  }
 ],
 "metadata": {
  "kernelspec": {
   "display_name": "Python 3 (ipykernel)",
   "language": "python",
   "name": "python3"
  },
  "language_info": {
   "codemirror_mode": {
    "name": "ipython",
    "version": 3
   },
   "file_extension": ".py",
   "mimetype": "text/x-python",
   "name": "python",
   "nbconvert_exporter": "python",
   "pygments_lexer": "ipython3",
   "version": "3.9.13"
  }
 },
 "nbformat": 4,
 "nbformat_minor": 5
}
